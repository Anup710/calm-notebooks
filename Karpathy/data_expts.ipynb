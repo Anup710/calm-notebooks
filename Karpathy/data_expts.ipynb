{
 "cells": [
  {
   "cell_type": "code",
   "execution_count": 2,
   "id": "448a026c",
   "metadata": {},
   "outputs": [],
   "source": [
    "import torch\n",
    "import torch.nn as nn"
   ]
  },
  {
   "cell_type": "code",
   "execution_count": 7,
   "id": "4917a3f4",
   "metadata": {},
   "outputs": [
    {
     "name": "stdout",
     "output_type": "stream",
     "text": [
      "6110\n"
     ]
    }
   ],
   "source": [
    "X = torch.randn((1000,50))\n",
    "n_in = X.shape[1]\n",
    "\n",
    "model = nn.Sequential(nn.Linear(n_in, 100, bias = True), nn.Tanh(), nn.Linear(100, 10, bias = True))\n",
    "\n",
    "# calculate total no of params:\n",
    "params = [p for layer in model for p in layer.parameters()]\n",
    "print(sum(p.nelement() for p in params))"
   ]
  },
  {
   "cell_type": "code",
   "execution_count": 11,
   "id": "dd106279",
   "metadata": {},
   "outputs": [
    {
     "name": "stdout",
     "output_type": "stream",
     "text": [
      "torch.Size([4, 4, 10])\n",
      "torch.Size([4, 40, 1])\n",
      "torch.Size([4, 40])\n"
     ]
    }
   ],
   "source": [
    "x = torch.randn((4,4,10))\n",
    "print(x.shape)\n",
    "\n",
    "y = x.view(4,40,-1)\n",
    "print(y.shape)\n",
    "\n",
    "y = y.squeeze(dim = 2) #squeezing wrong dim keeps y.shape intact\n",
    "print(y.shape)"
   ]
  },
  {
   "cell_type": "code",
   "execution_count": 5,
   "id": "6a0edfa9",
   "metadata": {},
   "outputs": [
    {
     "data": {
      "text/plain": [
       "14"
      ]
     },
     "execution_count": 5,
     "metadata": {},
     "output_type": "execute_result"
    }
   ],
   "source": [
    "length = lambda s : len(s)\n",
    "\n",
    "length('Sitaram___/34!')"
   ]
  },
  {
   "cell_type": "code",
   "execution_count": 11,
   "id": "29b28382",
   "metadata": {},
   "outputs": [
    {
     "data": {
      "text/plain": [
       "tensor([[[-0.1107,  2.1620, -0.5630,  0.2965, -1.4963, -0.3796,  0.2467,\n",
       "          -0.5906,  1.5520, -0.8374,  1.4317, -0.4862,  0.2719, -0.8730,\n",
       "           0.5370,  0.7499, -0.0482,  0.0338,  1.4620, -0.1099,  0.9540,\n",
       "           0.2469, -1.3415,  0.0955,  1.9950,  0.6704,  0.8959, -0.3795,\n",
       "          -1.7980,  0.3715,  0.0510,  0.0486,  0.6389, -0.9336,  1.1644,\n",
       "          -1.3099,  0.3662, -0.0218, -0.9578, -0.1643, -0.2078, -0.6938,\n",
       "           0.2492,  0.2351,  0.8860, -0.1524, -1.4133,  0.1853, -0.8533,\n",
       "           0.8834,  0.0347,  0.0535, -0.3400,  0.7325,  0.1745,  0.3168,\n",
       "           0.8193,  0.8609,  1.4911,  1.0582,  0.0394, -0.1799,  0.7785,\n",
       "           1.2308,  1.0810]],\n",
       "\n",
       "        [[ 0.8478,  1.1869,  0.2220, -0.3144,  1.0308,  0.6402, -0.1599,\n",
       "           0.0272,  2.0750,  0.9050, -0.0671, -0.6265, -0.9491,  0.9477,\n",
       "          -0.1043,  1.1445, -0.6795, -0.3166, -0.5478, -1.0564,  0.4550,\n",
       "           1.5283,  0.4419, -1.3361,  0.6346, -0.5142, -0.4427, -1.0389,\n",
       "           0.8008, -0.1240,  1.1453, -2.1173,  3.7248,  1.2365,  2.9068,\n",
       "          -0.1964, -1.9543,  0.3792, -0.6397,  0.4720, -1.8559, -0.3752,\n",
       "          -1.0070, -0.5962,  0.6927,  0.6182, -0.7582,  1.7432,  0.4547,\n",
       "           1.5290, -1.4226, -0.7161, -1.0257, -0.1163,  0.0594, -0.8216,\n",
       "          -0.1557,  0.4815,  0.8220,  0.8046, -0.2242, -1.2501,  0.6717,\n",
       "          -0.2886,  0.2319]]], grad_fn=<EmbeddingBackward0>)"
      ]
     },
     "execution_count": 11,
     "metadata": {},
     "output_type": "execute_result"
    }
   ],
   "source": [
    "embd = torch.nn.Embedding(65,65)\n",
    "idx = torch.randint(0,65, (2,1))\n",
    "\n",
    "embd(idx)"
   ]
  },
  {
   "cell_type": "code",
   "execution_count": 2,
   "id": "257feadf",
   "metadata": {},
   "outputs": [
    {
     "data": {
      "text/plain": [
       "tensor([[[ 0.8246,  0.6649],\n",
       "         [ 0.6354, -0.7038],\n",
       "         [ 0.1554, -0.1756]],\n",
       "\n",
       "        [[ 0.3554,  0.6081],\n",
       "         [-1.0692, -0.6263],\n",
       "         [-0.4412,  0.3024]],\n",
       "\n",
       "        [[-0.5504, -0.9069],\n",
       "         [-0.8070,  1.1327],\n",
       "         [-0.7694, -1.2626]],\n",
       "\n",
       "        [[ 0.8678,  3.8454],\n",
       "         [ 1.0385, -1.1645],\n",
       "         [ 1.2797,  1.5052]]])"
      ]
     },
     "execution_count": 2,
     "metadata": {},
     "output_type": "execute_result"
    }
   ],
   "source": [
    "a = torch.randn((4,3,2))\n",
    "a"
   ]
  },
  {
   "cell_type": "code",
   "execution_count": 3,
   "id": "8d012332",
   "metadata": {},
   "outputs": [
    {
     "data": {
      "text/plain": [
       "tensor([[ 0.8246,  0.6649,  0.6354, -0.7038,  0.1554, -0.1756],\n",
       "        [ 0.3554,  0.6081, -1.0692, -0.6263, -0.4412,  0.3024],\n",
       "        [-0.5504, -0.9069, -0.8070,  1.1327, -0.7694, -1.2626],\n",
       "        [ 0.8678,  3.8454,  1.0385, -1.1645,  1.2797,  1.5052]])"
      ]
     },
     "execution_count": 3,
     "metadata": {},
     "output_type": "execute_result"
    }
   ],
   "source": [
    "a.view(4,-1)"
   ]
  },
  {
   "cell_type": "code",
   "execution_count": 5,
   "id": "b57c1e2e",
   "metadata": {},
   "outputs": [
    {
     "data": {
      "text/plain": [
       "tensor([[ 0.1568, -1.8630,  1.2676, -1.0119,  0.4661, -0.0939, -0.0666,  0.7344,\n",
       "         -0.1103, -1.8737, -0.9774,  0.8607,  0.1741,  0.0422, -0.0293, -1.4745,\n",
       "         -0.3180,  1.1389, -0.4212,  1.2010,  1.1812,  0.8048, -0.5440, -1.2262,\n",
       "          0.2798, -0.3235, -0.1248,  0.6768,  0.0531, -1.8871, -0.4745,  0.1631]])"
      ]
     },
     "execution_count": 5,
     "metadata": {},
     "output_type": "execute_result"
    }
   ],
   "source": [
    "vocab_size = 65\n",
    "n_embd = 32\n",
    "block_size = 8\n",
    "\n",
    "position_embedding_table = torch.randn((block_size, n_embd))\n",
    "position_embedding_table[:1]"
   ]
  },
  {
   "cell_type": "code",
   "execution_count": 12,
   "id": "1dc36078",
   "metadata": {},
   "outputs": [
    {
     "ename": "TypeError",
     "evalue": "'Tensor' object is not callable",
     "output_type": "error",
     "traceback": [
      "\u001b[1;31m---------------------------------------------------------------------------\u001b[0m",
      "\u001b[1;31mTypeError\u001b[0m                                 Traceback (most recent call last)",
      "Cell \u001b[1;32mIn[12], line 4\u001b[0m\n\u001b[0;32m      1\u001b[0m span \u001b[38;5;241m=\u001b[39m torch\u001b[38;5;241m.\u001b[39marange(\u001b[38;5;241m6\u001b[39m)\n\u001b[0;32m      2\u001b[0m \u001b[38;5;66;03m# print(span)\u001b[39;00m\n\u001b[1;32m----> 4\u001b[0m \u001b[43mposition_embedding_table\u001b[49m\u001b[43m(\u001b[49m\u001b[43mspan\u001b[49m\u001b[43m)\u001b[49m\n",
      "\u001b[1;31mTypeError\u001b[0m: 'Tensor' object is not callable"
     ]
    }
   ],
   "source": [
    "span = torch.arange(6)\n",
    "# print(span)\n",
    "\n",
    "position_embedding_table(span)"
   ]
  },
  {
   "cell_type": "code",
   "execution_count": 14,
   "id": "c5067ef5",
   "metadata": {},
   "outputs": [
    {
     "data": {
      "text/plain": [
       "tensor([ 0.1568, -1.8630,  1.2676, -1.0119,  0.4661, -0.0939, -0.0666,  0.7344,\n",
       "        -0.1103, -1.8737, -0.9774,  0.8607,  0.1741,  0.0422, -0.0293, -1.4745,\n",
       "        -0.3180,  1.1389, -0.4212,  1.2010,  1.1812,  0.8048, -0.5440, -1.2262,\n",
       "         0.2798, -0.3235, -0.1248,  0.6768,  0.0531, -1.8871, -0.4745,  0.1631])"
      ]
     },
     "execution_count": 14,
     "metadata": {},
     "output_type": "execute_result"
    }
   ],
   "source": [
    "position_embedding_table[span][0]"
   ]
  },
  {
   "cell_type": "markdown",
   "id": "17444aff",
   "metadata": {},
   "source": [
    "Masked_fill"
   ]
  },
  {
   "cell_type": "code",
   "execution_count": 17,
   "id": "5e4d919f",
   "metadata": {},
   "outputs": [
    {
     "name": "stdout",
     "output_type": "stream",
     "text": [
      "tensor([[ 0.1808, -0.0700, -0.3596, -0.9152,  0.6258],\n",
      "        [ 0.0255,  0.9545,  0.0643,  0.3612, -1.0996],\n",
      "        [-1.7524, -1.0971, -1.1081, -1.8002, -0.4713],\n",
      "        [ 0.0084, -0.6631,  1.2055,  0.1883, -2.1600],\n",
      "        [-0.1585, -0.6300, -0.2221,  0.6924, -0.5075]]) \n",
      " tensor([[1., 1., 1., 1., 1.],\n",
      "        [0., 1., 1., 1., 1.],\n",
      "        [0., 0., 1., 1., 1.],\n",
      "        [0., 0., 0., 1., 1.],\n",
      "        [0., 0., 0., 0., 1.]])\n",
      "After masking:\n",
      " tensor([[   -inf,    -inf,    -inf,    -inf,    -inf],\n",
      "        [ 0.0255,    -inf,    -inf,    -inf,    -inf],\n",
      "        [-1.7524, -1.0971,    -inf,    -inf,    -inf],\n",
      "        [ 0.0084, -0.6631,  1.2055,    -inf,    -inf],\n",
      "        [-0.1585, -0.6300, -0.2221,  0.6924,    -inf]])\n",
      "After softmax:\n",
      " tensor([[   nan,    nan,    nan,    nan,    nan],\n",
      "        [1.0000, 0.0000, 0.0000, 0.0000, 0.0000],\n",
      "        [0.3418, 0.6582, 0.0000, 0.0000, 0.0000],\n",
      "        [0.2074, 0.1060, 0.6866, 0.0000, 0.0000],\n",
      "        [0.2039, 0.1273, 0.1913, 0.4775, 0.0000]])\n"
     ]
    }
   ],
   "source": [
    "torch.manual_seed(1337)\n",
    "t1 = torch.randn((5,5))\n",
    "\n",
    "t2 = torch.tril(torch.ones((5,5)), diagonal= 0).T # upper triangular matrix\n",
    "print(t1,'\\n',t2)\n",
    "\n",
    "t1 = t1.masked_fill(t2 == 1, value= float('-inf'))\n",
    "print('After masking:\\n',t1)\n",
    "\n",
    "# apply softmax\n",
    "t1 = t1.softmax(dim = 1)\n",
    "print('After softmax:\\n', t1)\n"
   ]
  },
  {
   "cell_type": "markdown",
   "id": "35282907",
   "metadata": {},
   "source": [
    "Bytes, encode, decode "
   ]
  },
  {
   "cell_type": "code",
   "execution_count": 6,
   "id": "ff5ada49",
   "metadata": {},
   "outputs": [],
   "source": [
    "text = \"Hi my name is Cyril Mahφpa$ 🫠\""
   ]
  },
  {
   "cell_type": "code",
   "execution_count": 8,
   "id": "8866b1ce",
   "metadata": {},
   "outputs": [
    {
     "name": "stdout",
     "output_type": "stream",
     "text": [
      "b'Hi my name is Cyril Mah\\xcf\\x86pa$ \\xf0\\x9f\\xab\\xa0'\n"
     ]
    },
    {
     "data": {
      "text/plain": [
       "True"
      ]
     },
     "execution_count": 8,
     "metadata": {},
     "output_type": "execute_result"
    }
   ],
   "source": [
    "encoded_text = text.encode(\"utf-8\")\n",
    "print(encoded_text)\n",
    "\n",
    "tokens = list(encoded_text)\n",
    "also_tokens = list(map(int, encoded_text))\n",
    "\n",
    "tokens == also_tokens"
   ]
  },
  {
   "cell_type": "code",
   "execution_count": 9,
   "id": "4331e540",
   "metadata": {},
   "outputs": [
    {
     "name": "stdout",
     "output_type": "stream",
     "text": [
      "[72, 105, 32, 109, 121, 32, 110, 97, 109, 101]\n"
     ]
    }
   ],
   "source": [
    "print(tokens[:10])"
   ]
  },
  {
   "cell_type": "code",
   "execution_count": 13,
   "id": "56c75fc1",
   "metadata": {},
   "outputs": [
    {
     "ename": "AttributeError",
     "evalue": "'list' object has no attribute 'decode'",
     "output_type": "error",
     "traceback": [
      "\u001b[1;31m---------------------------------------------------------------------------\u001b[0m",
      "\u001b[1;31mAttributeError\u001b[0m                            Traceback (most recent call last)",
      "Cell \u001b[1;32mIn[13], line 1\u001b[0m\n\u001b[1;32m----> 1\u001b[0m \u001b[43mtokens\u001b[49m\u001b[38;5;241;43m.\u001b[39;49m\u001b[43mdecode\u001b[49m(\u001b[38;5;124m\"\u001b[39m\u001b[38;5;124mutf-8\u001b[39m\u001b[38;5;124m\"\u001b[39m) \u001b[38;5;66;03m#throws error directly\u001b[39;00m\n",
      "\u001b[1;31mAttributeError\u001b[0m: 'list' object has no attribute 'decode'"
     ]
    }
   ],
   "source": [
    "tokens.decode(\"utf-8\") #throws error directly"
   ]
  },
  {
   "cell_type": "code",
   "execution_count": 17,
   "id": "81cd757f",
   "metadata": {},
   "outputs": [
    {
     "data": {
      "text/plain": [
       "b'H'"
      ]
     },
     "execution_count": 17,
     "metadata": {},
     "output_type": "execute_result"
    }
   ],
   "source": [
    "vocab[72]"
   ]
  },
  {
   "cell_type": "code",
   "execution_count": 18,
   "id": "eeff8af2",
   "metadata": {},
   "outputs": [
    {
     "data": {
      "text/plain": [
       "'Hi my name is Cyril Mahφpa$ 🫠'"
      ]
     },
     "execution_count": 18,
     "metadata": {},
     "output_type": "execute_result"
    }
   ],
   "source": [
    "vocab = {idx: bytes([idx]) for idx in range(256)}\n",
    "\n",
    "bt = b\"\".join(vocab[k] for k in tokens)\n",
    "bt.decode(\"utf-8\")"
   ]
  },
  {
   "cell_type": "markdown",
   "id": "c7ca12e3",
   "metadata": {},
   "source": [
    "### Dropout"
   ]
  },
  {
   "cell_type": "code",
   "execution_count": 38,
   "id": "fabc05cc",
   "metadata": {},
   "outputs": [
    {
     "data": {
      "text/plain": [
       "tensor([[3., 2., 1., 4., 5.],\n",
       "        [2., 7., 3., 8., 7.],\n",
       "        [5., 3., 3., 9., 3.],\n",
       "        [2., 5., 4., 2., 8.]])"
      ]
     },
     "execution_count": 38,
     "metadata": {},
     "output_type": "execute_result"
    }
   ],
   "source": [
    "torch.manual_seed(155678881)\n",
    "mat = torch.randint(1,10, (4,5), dtype=torch.float)\n",
    "mat"
   ]
  },
  {
   "cell_type": "code",
   "execution_count": 39,
   "id": "a4d9a367",
   "metadata": {},
   "outputs": [
    {
     "name": "stdout",
     "output_type": "stream",
     "text": [
      "tensor([[ 3.7500,  2.5000,  1.2500,  5.0000,  0.0000],\n",
      "        [ 2.5000,  8.7500,  3.7500, 10.0000,  8.7500],\n",
      "        [ 6.2500,  3.7500,  3.7500,  0.0000,  3.7500],\n",
      "        [ 0.0000,  6.2500,  0.0000,  2.5000, 10.0000]])\n"
     ]
    }
   ],
   "source": [
    "torch.manual_seed(155678882)\n",
    "drop = nn.Dropout(p = 0.2)\n",
    "print(drop(mat))"
   ]
  },
  {
   "cell_type": "markdown",
   "id": "a15d2f02",
   "metadata": {},
   "source": [
    "inplace = True overwrites the original tensor while inplace = False creates a new variable thereby requiring more memory.  "
   ]
  },
  {
   "cell_type": "code",
   "execution_count": 40,
   "id": "5fb28b51",
   "metadata": {},
   "outputs": [
    {
     "name": "stdout",
     "output_type": "stream",
     "text": [
      "tensor([[ 0.0000,  2.5000,  1.2500,  5.0000,  6.2500],\n",
      "        [ 0.0000,  0.0000,  3.7500,  0.0000,  8.7500],\n",
      "        [ 6.2500,  3.7500,  3.7500, 11.2500,  0.0000],\n",
      "        [ 2.5000,  0.0000,  5.0000,  2.5000, 10.0000]])\n"
     ]
    }
   ],
   "source": [
    "drop2 = nn.Dropout(p = 0.2, inplace=True)\n",
    "print(drop2(mat))"
   ]
  },
  {
   "cell_type": "markdown",
   "id": "befbb59e",
   "metadata": {},
   "source": [
    "## Transposing"
   ]
  },
  {
   "cell_type": "code",
   "execution_count": 2,
   "id": "ed978f13",
   "metadata": {},
   "outputs": [],
   "source": [
    "import torch"
   ]
  },
  {
   "cell_type": "code",
   "execution_count": 15,
   "id": "44aecfa3",
   "metadata": {},
   "outputs": [
    {
     "name": "stdout",
     "output_type": "stream",
     "text": [
      "torch.Size([2, 3, 4, 5])\n",
      "torch.Size([5, 4, 3, 2])\n"
     ]
    }
   ],
   "source": [
    "k = torch.randint(0,5, (2,3,4,5))\n",
    "print(k.shape)\n",
    "print(k.shape[::-1]) # transpose"
   ]
  },
  {
   "cell_type": "code",
   "execution_count": null,
   "id": "21f9e396",
   "metadata": {},
   "outputs": [],
   "source": [
    "k.view(k.shape[::-1]) # reverses dimensions - idk whats the use "
   ]
  },
  {
   "cell_type": "code",
   "execution_count": 17,
   "id": "cbe5176c",
   "metadata": {},
   "outputs": [
    {
     "name": "stdout",
     "output_type": "stream",
     "text": [
      "Original shape = torch.Size([2, 3, 4, 5]) | Transposed shape = torch.Size([2, 3, 5, 4])\n"
     ]
    }
   ],
   "source": [
    "print(f\"Original shape = {k.shape} | Transposed shape = {k.mT.shape}\") # regular transpose"
   ]
  }
 ],
 "metadata": {
  "kernelspec": {
   "display_name": "Python 3",
   "language": "python",
   "name": "python3"
  },
  "language_info": {
   "codemirror_mode": {
    "name": "ipython",
    "version": 3
   },
   "file_extension": ".py",
   "mimetype": "text/x-python",
   "name": "python",
   "nbconvert_exporter": "python",
   "pygments_lexer": "ipython3",
   "version": "3.12.4"
  }
 },
 "nbformat": 4,
 "nbformat_minor": 5
}
