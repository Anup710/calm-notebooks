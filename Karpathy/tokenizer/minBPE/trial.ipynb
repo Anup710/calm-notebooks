{
 "cells": [
  {
   "cell_type": "code",
   "execution_count": 1,
   "id": "e3e34398",
   "metadata": {},
   "outputs": [
    {
     "data": {
      "text/plain": [
       "2"
      ]
     },
     "execution_count": 1,
     "metadata": {},
     "output_type": "execute_result"
    }
   ],
   "source": [
    "x = (1,2)\n",
    "x[1]"
   ]
  },
  {
   "cell_type": "markdown",
   "id": "4207fc55",
   "metadata": {},
   "source": [
    "Regex experiments:"
   ]
  },
  {
   "cell_type": "code",
   "execution_count": 3,
   "id": "183b1296",
   "metadata": {},
   "outputs": [
    {
     "name": "stdout",
     "output_type": "stream",
     "text": [
      "['Hello', \"'ve\", ' world', '123', ' how', \"'s\", ' HOW', \"'\", 'S', ' are', '       ', ' you', '!!!?']\n"
     ]
    }
   ],
   "source": [
    "import regex as re\n",
    "\n",
    "gpt2pat = re.compile(r\"\"\"'s|'t|'re|'ve|'m|'ll|'d| ?\\p{L}+| ?\\p{N}+| ?[^\\s\\p{L}\\p{N}]+|\\s+(?!\\S)|\\s+\"\"\") # picked from gpt2 encoder.py\n",
    "\n",
    "text = \"Hello've world123 how's HOW'S are        you!!!?\"\n",
    "\n",
    "split = re.findall(gpt2pat, text)\n",
    "\n",
    "print(split)"
   ]
  },
  {
   "cell_type": "code",
   "execution_count": 6,
   "id": "aca6e632",
   "metadata": {},
   "outputs": [
    {
     "name": "stdout",
     "output_type": "stream",
     "text": [
      "[72, 101, 108, 108, 111, 39, 118, 101, 32, 119, 111, 114, 108, 100, 49, 50, 51, 32, 104, 111, 119, 39, 115, 32, 72, 79, 87, 39, 83, 32, 97, 114, 101, 32, 32, 32, 32, 32, 32, 32, 32, 121, 111, 117, 33, 33, 33, 63]\n"
     ]
    }
   ],
   "source": [
    "tok1 = list(text.encode(\"utf-8\"))\n",
    "print(tok1)"
   ]
  },
  {
   "cell_type": "code",
   "execution_count": 8,
   "id": "378e758c",
   "metadata": {},
   "outputs": [
    {
     "name": "stdout",
     "output_type": "stream",
     "text": [
      "[[72, 101, 108, 108, 111], [39, 118, 101], [32, 119, 111, 114, 108, 100], [49, 50, 51], [32, 104, 111, 119], [39, 115], [32, 72, 79, 87], [39], [83], [32, 97, 114, 101], [32, 32, 32, 32, 32, 32, 32], [32, 121, 111, 117], [33, 33, 33, 63]]\n"
     ]
    }
   ],
   "source": [
    "tok2 = []\n",
    "for ch in split:\n",
    "    tok = list(ch.encode(\"utf-8\"))\n",
    "    tok2.append(tok)\n",
    "\n",
    "print(tok2)"
   ]
  },
  {
   "cell_type": "code",
   "execution_count": 4,
   "id": "3ef55cbe",
   "metadata": {},
   "outputs": [
    {
     "name": "stdout",
     "output_type": "stream",
     "text": [
      "Hi, how've you been in the      past year or so?!!?\n",
      "Hi, how've you been in the      past year or so?!!?\n"
     ]
    }
   ],
   "source": [
    "sm = ['Hi', ',', ' how', \"'ve\", ' you', ' been', ' in', ' the', '     ', ' past', ' year', ' or', ' so', '?!!?']\n",
    "print(\"\".join(s for s in sm))\n",
    "print(\"\".join(sm))"
   ]
  }
 ],
 "metadata": {
  "kernelspec": {
   "display_name": "Python 3",
   "language": "python",
   "name": "python3"
  },
  "language_info": {
   "codemirror_mode": {
    "name": "ipython",
    "version": 3
   },
   "file_extension": ".py",
   "mimetype": "text/x-python",
   "name": "python",
   "nbconvert_exporter": "python",
   "pygments_lexer": "ipython3",
   "version": "3.13.6"
  }
 },
 "nbformat": 4,
 "nbformat_minor": 5
}
