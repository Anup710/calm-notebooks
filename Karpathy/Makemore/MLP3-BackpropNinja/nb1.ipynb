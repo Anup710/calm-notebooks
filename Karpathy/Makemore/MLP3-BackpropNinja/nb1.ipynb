{
 "cells": [
  {
   "cell_type": "markdown",
   "id": "715ec7e4",
   "metadata": {},
   "source": [
    "## Backprop history and importance: \n",
    "\n",
    "It was a common practice as late as 2016 to write your own backward pass instead of the autograd engine we use to call `loss.backward()`, which is why we will spend this lecture trying to get an intuitive sense of backprop by writing own own code to execute it. "
   ]
  },
  {
   "cell_type": "code",
   "execution_count": null,
   "id": "f1eb8239",
   "metadata": {},
   "outputs": [],
   "source": [
    "import torch\n",
    "import torch.nn.functional as F\n",
    "import matplotlib.pyplot as plt # for making figures\n",
    "%matplotlib inline\n",
    "\n",
    "from aux_files import Linear, Tanh, BatchNorm1d"
   ]
  },
  {
   "cell_type": "code",
   "execution_count": 26,
   "id": "0b0e7ece",
   "metadata": {},
   "outputs": [],
   "source": [
    "words = open('names.txt', 'r').read().splitlines()"
   ]
  },
  {
   "cell_type": "code",
   "execution_count": 3,
   "id": "d8a46a18",
   "metadata": {},
   "outputs": [],
   "source": [
    "allchars = sorted(set(''.join(words)))\n",
    "\n",
    "stoi = {s:i+1 for i,s in enumerate(allchars) }\n",
    "stoi['.'] = 0\n",
    "\n",
    "itos = {i:s for s,i in stoi.items()}"
   ]
  },
  {
   "cell_type": "code",
   "execution_count": null,
   "id": "c70ed5fd",
   "metadata": {},
   "outputs": [
    {
     "name": "stdout",
     "output_type": "stream",
     "text": [
      "torch.Size([182625, 3]) torch.Size([182625])\n",
      "torch.Size([22655, 3]) torch.Size([22655])\n",
      "torch.Size([22866, 3]) torch.Size([22866])\n"
     ]
    }
   ],
   "source": [
    "# build the dataset\n",
    "block_size = 3 # context length: how many characters do we take to predict the next one?\n",
    "\n",
    "def build_dataset(words):  \n",
    "  X, Y = [], []\n",
    "  \n",
    "  for w in words:\n",
    "    context = [0] * block_size\n",
    "    for ch in w + '.':\n",
    "      ix = stoi[ch]\n",
    "      X.append(context)\n",
    "      Y.append(ix)\n",
    "      context = context[1:] + [ix] # crop and append\n",
    "\n",
    "  X = torch.tensor(X)\n",
    "  Y = torch.tensor(Y)\n",
    "  print(X.shape, Y.shape)\n",
    "  return X, Y\n",
    "\n",
    "import random\n",
    "random.seed(42)\n",
    "words_shuffled = words[:]  # shallow copy -- to preserve across runs\n",
    "random.shuffle(words_shuffled)\n",
    "n1 = int(0.8*len(words_shuffled))\n",
    "n2 = int(0.9*len(words_shuffled))\n",
    "\n",
    "Xtr,  Ytr  = build_dataset(words_shuffled[:n1])     # 80%\n",
    "Xdev, Ydev = build_dataset(words_shuffled[n1:n2])   # 10%\n",
    "Xte,  Yte  = build_dataset(words_shuffled[n2:])     # 10%"
   ]
  },
  {
   "cell_type": "markdown",
   "id": "e0854309",
   "metadata": {},
   "source": [
    "Done with boilerplate init code, now to more concrete stuff. \n",
    "\n",
    "Lets define a comparing function to check whether analytically calculated gradients are close to those calculated by pytorch."
   ]
  },
  {
   "cell_type": "code",
   "execution_count": 31,
   "id": "68dbc99a",
   "metadata": {},
   "outputs": [],
   "source": [
    "# utility function we will use later when comparing manual gradients to PyTorch gradients\n",
    "def cmp(s, dt, t):\n",
    "  ex = torch.all(dt == t.grad).item()\n",
    "  app = torch.allclose(dt, t.grad)\n",
    "  maxdiff = (dt - t.grad).abs().max().item()\n",
    "  print(f'{s:15s} | exact: {str(ex):5s} | approximate: {str(app):5s} | maxdiff: {maxdiff}')"
   ]
  }
 ],
 "metadata": {
  "kernelspec": {
   "display_name": "Python 3",
   "language": "python",
   "name": "python3"
  },
  "language_info": {
   "codemirror_mode": {
    "name": "ipython",
    "version": 3
   },
   "file_extension": ".py",
   "mimetype": "text/x-python",
   "name": "python",
   "nbconvert_exporter": "python",
   "pygments_lexer": "ipython3",
   "version": "3.12.4"
  }
 },
 "nbformat": 4,
 "nbformat_minor": 5
}
