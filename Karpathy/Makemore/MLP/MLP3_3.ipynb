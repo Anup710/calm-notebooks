{
 "cells": [
  {
   "cell_type": "code",
   "execution_count": 1,
   "id": "c29e6332",
   "metadata": {},
   "outputs": [],
   "source": [
    "import numpy as np\n",
    "import matplotlib.pyplot as plt\n",
    "import torch\n",
    "import torch.nn as nn\n",
    "import torch.nn.functional as F"
   ]
  },
  {
   "cell_type": "code",
   "execution_count": 2,
   "id": "cd1ea102",
   "metadata": {},
   "outputs": [],
   "source": [
    "words = open('names.txt', 'r').read().splitlines()"
   ]
  },
  {
   "cell_type": "code",
   "execution_count": 3,
   "id": "831b434a",
   "metadata": {},
   "outputs": [],
   "source": [
    "# define stoi \n",
    "stoi = {}\n",
    "allletters = sorted(set(\"\".join(words)))\n",
    "\n",
    "stoi = {s:i+1 for i,s in enumerate(allletters)}\n",
    "stoi['.'] = 0\n",
    "\n",
    "itos = {i:s for s,i in stoi.items()}"
   ]
  },
  {
   "cell_type": "code",
   "execution_count": 22,
   "id": "aae1808f",
   "metadata": {},
   "outputs": [],
   "source": [
    "# dataset preparation \n",
    "\n",
    "X , Y = [], []\n",
    "block_size= 3 # can be reset to whatever you like\n",
    "\n",
    "for w in words:\n",
    "    context = [0]*block_size # contains indcies of context letters\n",
    "    for ch in w + '.':\n",
    "        ix = stoi[ch]\n",
    "        Y.append(ix) \n",
    "        X.append(context)\n",
    "        context = context[1:] + [ix] # update context and append new index\n",
    "\n",
    "X = torch.tensor(X)\n",
    "Y = torch.tensor(Y)\n"
   ]
  },
  {
   "cell_type": "code",
   "execution_count": 7,
   "id": "a69fa4e4",
   "metadata": {},
   "outputs": [],
   "source": [
    "g = torch.Generator().manual_seed(214748367)\n",
    "# lookup matrix\n",
    "C = torch.randn((27,2), generator=g)\n",
    "# hidden layer - 100 neurons\n",
    "W1 = torch.randn((6,100), generator=g)\n",
    "b1 = torch.randn((100,), generator=g)\n",
    "# Output layer\n",
    "W2 = torch.randn((100,27), generator=g )\n",
    "b2 = torch.randn((27,), generator=g)\n",
    "\n",
    "parameters = [C, W1, b1, W2, b2]"
   ]
  },
  {
   "cell_type": "code",
   "execution_count": 8,
   "id": "62bafea8",
   "metadata": {},
   "outputs": [
    {
     "data": {
      "text/plain": [
       "3481"
      ]
     },
     "execution_count": 8,
     "metadata": {},
     "output_type": "execute_result"
    }
   ],
   "source": [
    "sum(p.nelement() for p in parameters) # total no of parameters in the network"
   ]
  },
  {
   "cell_type": "code",
   "execution_count": 9,
   "id": "9aa82b4f",
   "metadata": {},
   "outputs": [],
   "source": [
    "for p in parameters:\n",
    "    p.requires_grad = True"
   ]
  },
  {
   "cell_type": "markdown",
   "id": "f9d7be10",
   "metadata": {},
   "source": [
    "Instead of training on entire dataset, lets run it on batches of size 32 each to make the training faster. \n",
    "\n",
    "modifications: $X\\rightarrow X[ix]$, $Y\\rightarrow Y[ix]$\n",
    "\n",
    "__Consequences:__\n",
    "- This will introduce some stochasticity and loss will not decrease uniformly. \n",
    "- The learning rate is a hyperparameter which we will tune. \n",
    "- Overall the time required to run batches will be much faster \n",
    "- Convergence to a loss may be slower and random"
   ]
  },
  {
   "cell_type": "code",
   "execution_count": 20,
   "id": "e4078b89",
   "metadata": {},
   "outputs": [
    {
     "name": "stdout",
     "output_type": "stream",
     "text": [
      "2.5587151050567627\n"
     ]
    }
   ],
   "source": [
    "for  iter in range(30):\n",
    "\n",
    "    ix = torch.randint(0, X.shape[0], (32,)) # assuming each batch has 32 data points \n",
    "    # Forward pass: \n",
    "    emb = C[X[ix]]\n",
    "    H = torch.tanh(emb.view(emb.shape[0], -1) @ W1 + b1) # 32,100\n",
    "    logits = H @ W2 + b2\n",
    "    loss = F.cross_entropy(logits, target=Y[ix])\n",
    "    # Back pass\n",
    "    for p in parameters:\n",
    "        p.grad = None\n",
    "    loss.backward()\n",
    "    # update\n",
    "    for p in parameters:\n",
    "        p.data -= 0.1 * p.grad\n",
    "    \n",
    "print(loss.item())"
   ]
  },
  {
   "cell_type": "code",
   "execution_count": 21,
   "id": "56237798",
   "metadata": {},
   "outputs": [
    {
     "data": {
      "text/plain": [
       "torch.Size([32, 3, 2])"
      ]
     },
     "execution_count": 21,
     "metadata": {},
     "output_type": "execute_result"
    }
   ],
   "source": [
    "emb.shape"
   ]
  },
  {
   "cell_type": "markdown",
   "id": "a3c39a4a",
   "metadata": {},
   "source": [
    "Loss on full testset after minibatch GD:"
   ]
  },
  {
   "cell_type": "code",
   "execution_count": 13,
   "id": "3fbc750a",
   "metadata": {},
   "outputs": [],
   "source": [
    "# To the function more precise, can include W,b as arguments as well\n",
    "def loss_fullset(A, B):\n",
    "    emb_fullset = C[A] # 228146,3,2\n",
    "    H = torch.tanh(emb_fullset.view(-1, 6) @ W1 + b1) # 228146,6 @ 6,100 => 228146, 100\n",
    "    logits_fullset = H @ W2 + b2\n",
    "    loss_fullset = F.cross_entropy(logits_fullset, target=B)\n",
    "    return loss_fullset\n",
    "\n",
    "# loss_fullset(X,Y)"
   ]
  },
  {
   "cell_type": "markdown",
   "id": "aca6282c",
   "metadata": {},
   "source": [
    "Hence: using the parameters learnt from mini batchGD, loss on entire set is `2.8780`, which is not very far from the 2.5-3.0 range loss on the training batches. \n",
    "\n",
    "### Manual tuning for step size $\\alpha$\n",
    "One issue is that we don't know whether magnitude of step size $\\alpha$ is too high or too low. Try $\\alpha = [0.0001, 0.001, 0.01. 0.1, 1, 10]$ see at what values the loss explodes or becomes unstable and set them as limits. Refine iteratively. \n",
    "\n",
    "For our problem, $0.001 = 10^{-3}$ and $1 = 10^{0}$ prove to be good limits on $\\alpha$. "
   ]
  },
  {
   "cell_type": "code",
   "execution_count": 28,
   "id": "b4cb48bc",
   "metadata": {},
   "outputs": [],
   "source": [
    "lre = torch.linspace(-3,0,1000) # 1000 exponents\n",
    "lrs = 10**lre # list of learning rates "
   ]
  },
  {
   "cell_type": "markdown",
   "id": "56f9b8b9",
   "metadata": {},
   "source": [
    "__NOTE:__ rerun the cells where W,b,C are initialized and p.grad = True is set. "
   ]
  },
  {
   "cell_type": "code",
   "execution_count": 29,
   "id": "6f5bad39",
   "metadata": {},
   "outputs": [],
   "source": [
    "lri = []\n",
    "lossi = []\n",
    "\n",
    "for iter in range(1000): \n",
    "    # 1000 mini batches of size 32 each \n",
    "    ix = torch.randint(0, X.shape[0], (32,)) # assuming each batch has 32 data points \n",
    "    # Forward pass: \n",
    "    emb = C[X[ix]]\n",
    "    H = torch.tanh(emb.view(emb.shape[0], -1) @ W1 + b1) # 32,100\n",
    "    logits = H @ W2 + b2\n",
    "    loss = F.cross_entropy(logits, target=Y[ix])\n",
    "    # Back pass\n",
    "    for p in parameters:\n",
    "        p.grad = None\n",
    "    loss.backward()\n",
    "    # update\n",
    "    lr = lrs[iter]\n",
    "    for p in parameters:\n",
    "        p.data -= lr * p.grad\n",
    "    # track loss\n",
    "    lossi.append(loss.item())\n",
    "    lri.append(lr)\n",
    "    \n",
    "    "
   ]
  },
  {
   "cell_type": "code",
   "execution_count": 30,
   "id": "d4b2ee4a",
   "metadata": {},
   "outputs": [
    {
     "data": {
      "image/png": "[encoded data removed]",
      "text/plain": [
       "<Figure size 640x480 with 1 Axes>"
      ]
     },
     "metadata": {},
     "output_type": "display_data"
    }
   ],
   "source": [
    "plt.plot(lri, lossi)\n",
    "# plt.plot(lri, loss_full)\n",
    "# plt.legend(title = \"loss variation\", loc = 'lower left')\n",
    "plt.xlabel('learning rate')\n",
    "plt.ylabel('loss')\n",
    "plt.show()"
   ]
  },
  {
   "cell_type": "code",
   "execution_count": 31,
   "id": "aa963007",
   "metadata": {},
   "outputs": [
    {
     "data": {
      "image/png": "[encoded data removed]",
      "text/plain": [
       "<Figure size 640x480 with 1 Axes>"
      ]
     },
     "metadata": {},
     "output_type": "display_data"
    }
   ],
   "source": [
    "plt.plot(lre, lossi)\n",
    "plt.xlabel('learning rate exponent')\n",
    "plt.ylabel('loss')\n",
    "plt.show()"
   ]
  },
  {
   "cell_type": "markdown",
   "id": "7220bc4c",
   "metadata": {},
   "source": [
    "From the two figures it is evident that least _training __batch__ loss_ is obtained somewhere around lr = $10^{-1}$ or lr = $0.1$\n",
    "\n",
    "So you can run like 1000 iterations, 3 times for lr = $0.1$ then 3 more times for lr = $0.01$ and so on untill loss absolutely plateaus or set a custom termination criteria. (__a.k.a lr decay__)\n",
    "\n",
    "\n",
    "## Motivation for train-dev-test split: \n",
    "\n",
    "1. The loss here pleateaus to abot `2.30` by applying lr decay from 1 to 0.1 to 0.01 for many thousand iterations. \n",
    "2. Bigram loss was ~ `2.45`\n",
    "3. Having a lower loss may not necessarily mean a 'better model' or more 'name-like' names being predicted. \n",
    "4. Additionally we have control over the parameters in the network (no or neurons in hidden layer, embedding dimension) which if made too high risks overfitting on the training data. \n",
    "5. In say a `1000000` parameter case, the training loss will be very low, but it will not generalize well. \n",
    "\n",
    "Hence, <br>\n",
    "We resport to the train-dev-test split to ensure the model generalizes better. See `CS229` notes for additional theoritical info.\n",
    "\n",
    "__Training set:__ Find optimial model parameters ($W,b,C$) <br>\n",
    "__Dev set:__ To optimize hyperparameters (size of hidden layer, embedding dimension, strength of regularization) <br>\n",
    "__Test set:__ Report overall performance ONLY (sparingly)"
   ]
  },
  {
   "cell_type": "code",
   "execution_count": 4,
   "id": "62a3ab27",
   "metadata": {},
   "outputs": [],
   "source": [
    "def build_dataset(words1):\n",
    "    X1 , Y1 = [], []\n",
    "    block_size= 3 # can be reset to whatever you like\n",
    "\n",
    "    for w in words1:\n",
    "        context = [0]*block_size # contains indcies of context letters\n",
    "        for ch in w + '.':\n",
    "            ix = stoi[ch]\n",
    "            Y1.append(ix) \n",
    "            X1.append(context)\n",
    "            context = context[1:] + [ix] # update context and append new index\n",
    "\n",
    "    X1 = torch.tensor(X1)\n",
    "    Y1 = torch.tensor(Y1)\n",
    "    print(X1.shape, Y1.shape)\n",
    "    return X1,Y1"
   ]
  },
  {
   "cell_type": "markdown",
   "id": "0d3ec9dc",
   "metadata": {},
   "source": [
    "__Note__: n1, n2 are no of words, what is printed is no of datapoints from those words "
   ]
  },
  {
   "cell_type": "code",
   "execution_count": 5,
   "id": "b3426dca",
   "metadata": {},
   "outputs": [
    {
     "name": "stdout",
     "output_type": "stream",
     "text": [
      "25626 28829\n",
      "----------------\n",
      "torch.Size([182625, 3]) torch.Size([182625])\n",
      "torch.Size([22655, 3]) torch.Size([22655])\n",
      "torch.Size([22866, 3]) torch.Size([22866])\n"
     ]
    }
   ],
   "source": [
    "import random \n",
    "\n",
    "random.seed(42)\n",
    "random.shuffle(words)\n",
    "n1 = int(0.8*len(words))\n",
    "n2 = int(0.9*(len(words)))\n",
    "\n",
    "print(n1,n2)\n",
    "print('----------------')\n",
    "\n",
    "Xtr, Ytr = build_dataset(words[:n1])\n",
    "Xdev, Ydev = build_dataset(words[n1:n2])\n",
    "Xt, Yt = build_dataset(words[n2:])"
   ]
  },
  {
   "cell_type": "markdown",
   "id": "94faa87c",
   "metadata": {},
   "source": [
    "Train on Xtr, Ytr:"
   ]
  },
  {
   "cell_type": "code",
   "execution_count": 19,
   "id": "c9fbb0a4",
   "metadata": {},
   "outputs": [],
   "source": [
    "for iter in range(1000): \n",
    "    # 1000 mini batches of size 32 each \n",
    "    ix = torch.randint(0, Xtr.shape[0], (32,)) # assuming each batch has 32 data points \n",
    "    # Forward pass: \n",
    "    emb = C[Xtr[ix]]\n",
    "    H = torch.tanh(emb.view(emb.shape[0], -1) @ W1 + b1) # 32,100\n",
    "    logits = H @ W2 + b2\n",
    "    loss = F.cross_entropy(logits, target=Ytr[ix])\n",
    "    # Back pass\n",
    "    for p in parameters:\n",
    "        p.grad = None\n",
    "    loss.backward()\n",
    "    # update\n",
    "    lr = 0.1\n",
    "    for p in parameters:\n",
    "        p.data -= lr * p.grad  \n",
    "    "
   ]
  },
  {
   "cell_type": "markdown",
   "id": "4c39e99f",
   "metadata": {},
   "source": [
    "check loss on entire training set and dev set:"
   ]
  },
  {
   "cell_type": "code",
   "execution_count": 20,
   "id": "7abbcdbc",
   "metadata": {},
   "outputs": [
    {
     "name": "stdout",
     "output_type": "stream",
     "text": [
      "tensor(2.5636, grad_fn=<NllLossBackward0>)\n",
      "tensor(2.5567, grad_fn=<NllLossBackward0>)\n"
     ]
    }
   ],
   "source": [
    "print(loss_fullset(Xtr, Ytr))\n",
    "print(loss_fullset(Xdev, Ydev))\n"
   ]
  },
  {
   "cell_type": "markdown",
   "id": "e1d73f1c",
   "metadata": {},
   "source": [
    "So from the above two losses which are pretty close, we are _not_ overfitting on training set!\n",
    "\n",
    "It usually means that we have underfit. That our netword is too small to capture all data. "
   ]
  },
  {
   "cell_type": "markdown",
   "id": "3bc1337c",
   "metadata": {},
   "source": [
    "## Hyperparameter tuning\n",
    "\n",
    "1. We could change the size of the hidden layer to say 300, increasing parameters to ~10,000 and train for longer iterations with $\\alpha$ = 0.1, 0.05, 0.01 and so on until loss stagnates. \n",
    "\n",
    "2. The size of the embedding may be a bottleneck. Perhaps a 2D mapping for each character is not enough, we need a higher dimensional embedding vector!\n",
    "\n",
    "3. Size of the minibatch maybe be increased from 32 to say 100, if stochasticity is too high. \n",
    "\n",
    "4. Instead of 3 chars as context, take more \n",
    "\n",
    "These can be implemented as an exercise to play around. try gridsearch or smth maybe. \n",
    "\n",
    "Bengio et al also has more ideas for improvement. "
   ]
  },
  {
   "cell_type": "code",
   "execution_count": 66,
   "id": "df76a23f",
   "metadata": {},
   "outputs": [
    {
     "data": {
      "image/png": "[encoded data removed]",
      "text/plain": [
       "<Figure size 400x400 with 1 Axes>"
      ]
     },
     "metadata": {},
     "output_type": "display_data"
    }
   ],
   "source": [
    "# visualize embedding:\n",
    "\n",
    "plt.figure(figsize=(4,4))\n",
    "plt.scatter(C[:,0].data, C[:,1].data, s=200)\n",
    "for i in range(C.shape[0]):\n",
    "    plt.text(C[i,0].item(), C[i,1].item(), itos[i], ha=\"center\", va=\"center\", color='white')\n",
    "plt.grid('minor')"
   ]
  },
  {
   "cell_type": "markdown",
   "id": "22d6169a",
   "metadata": {},
   "source": [
    "It is interesting to note that aeiou vowels are very close together; i.e. the model finds them similar or interchangeable in the data. "
   ]
  },
  {
   "cell_type": "code",
   "execution_count": 23,
   "id": "a24d0d86",
   "metadata": {},
   "outputs": [
    {
     "name": "stdout",
     "output_type": "stream",
     "text": [
      "mri.\n",
      "jamyan.\n",
      "keel.\n",
      "ndhey.\n",
      "larethrs.\n",
      "kadrleg.\n",
      "adered.\n",
      "elii.\n",
      "smi.\n",
      "jellekeisean.\n",
      "nar.\n",
      "kalekollara.\n",
      "noshdbergihi.\n",
      "jest.\n",
      "kale.\n",
      "jelilenteror.\n",
      "uba.\n",
      "ged.\n",
      "ray.\n",
      "jul.\n"
     ]
    }
   ],
   "source": [
    "# sample from the model\n",
    "g = torch.Generator().manual_seed(2147483647 + 10)\n",
    "\n",
    "for _ in range(20):\n",
    "    \n",
    "    out = []\n",
    "    context = [0] * block_size # initialize with all ...\n",
    "    while True:\n",
    "      emb = C[torch.tensor([context])] # (1,block_size,d)\n",
    "      h = torch.tanh(emb.view(1, -1) @ W1 + b1)\n",
    "      logits = h @ W2 + b2\n",
    "      probs = F.softmax(logits, dim=1)\n",
    "      ix = torch.multinomial(probs, num_samples=1, generator=g).item()\n",
    "      context = context[1:] + [ix]\n",
    "      out.append(ix)\n",
    "      if ix == 0:\n",
    "        break\n",
    "    \n",
    "    print(''.join(itos[i] for i in out))"
   ]
  },
  {
   "cell_type": "markdown",
   "id": "2df6f7d9",
   "metadata": {},
   "source": [
    "__Note on best practices:__\n",
    "\n",
    "Overall, this notebook to gain from proper restructuring to create classes and function of define and initalize variables, run iteration, plot graphs, sample names etc. \n",
    "\n",
    "Also, you _wouldn't hardcode dimensions etc in production_, rather have them be extracted directly from relevant variables. These could include dimension of embeddings, sizes of layers, .view() conversions etc. \n",
    "\n",
    "Finally: grande Andrej!"
   ]
  }
 ],
 "metadata": {
  "kernelspec": {
   "display_name": "venv",
   "language": "python",
   "name": "python3"
  },
  "language_info": {
   "codemirror_mode": {
    "name": "ipython",
    "version": 3
   },
   "file_extension": ".py",
   "mimetype": "text/x-python",
   "name": "python",
   "nbconvert_exporter": "python",
   "pygments_lexer": "ipython3",
   "version": "3.11.3"
  }
 },
 "nbformat": 4,
 "nbformat_minor": 5
}
