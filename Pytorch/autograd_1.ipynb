{
 "cells": [
  {
   "cell_type": "markdown",
   "id": "6d0dfe3b",
   "metadata": {},
   "source": [
    "## Autograd\n",
    "\n",
    "Revise the micrograd notebooks by Andrej Karpathy to get a better understanding of this notebook. \n",
    "\n",
    "set `requires_grad = True` every time you wish to track the gradient for a variable. "
   ]
  },
  {
   "cell_type": "code",
   "execution_count": 2,
   "id": "7d026830",
   "metadata": {},
   "outputs": [],
   "source": [
    "import torch\n",
    "import numpy"
   ]
  },
  {
   "cell_type": "code",
   "execution_count": 5,
   "id": "468bbed2",
   "metadata": {},
   "outputs": [
    {
     "data": {
      "text/plain": [
       "tensor([ 0.7659, -2.0262, -1.4139,  1.1822, -1.1543], requires_grad=True)"
      ]
     },
     "execution_count": 5,
     "metadata": {},
     "output_type": "execute_result"
    }
   ],
   "source": [
    "t1 = torch.randn(5, requires_grad=True) #random normal \n",
    "t1"
   ]
  },
  {
   "cell_type": "code",
   "execution_count": 6,
   "id": "5022b052",
   "metadata": {},
   "outputs": [
    {
     "name": "stdout",
     "output_type": "stream",
     "text": [
      "tensor([ 2.7659, -0.0262,  0.5861,  3.1822,  0.8457], grad_fn=<AddBackward0>)\n"
     ]
    }
   ],
   "source": [
    "t2 = t1 + 2\n",
    "print(t2)"
   ]
  },
  {
   "cell_type": "markdown",
   "id": "738bc324",
   "metadata": {},
   "source": [
    "<span style=\"color:#FF0000; font-family: 'Bebas Neue'; font-size: 01em;\">NOTE:</span>\n",
    "Pytorch automatically stores t2 using a _micrograd_ like notation i.e. t2 has t1,2 as parents and operator = + \n",
    "\n",
    "which is why  `grad_fn=<AddBackward0>` appears in output of the above cell. "
   ]
  },
  {
   "cell_type": "code",
   "execution_count": 7,
   "id": "3a87354a",
   "metadata": {},
   "outputs": [
    {
     "name": "stdout",
     "output_type": "stream",
     "text": [
      "tensor([1.5300e+01, 1.3746e-03, 6.8693e-01, 2.0253e+01, 1.4306e+00],\n",
      "       grad_fn=<MulBackward0>)\n"
     ]
    }
   ],
   "source": [
    "t3 = 2*t2**2\n",
    "print(t3)"
   ]
  },
  {
   "cell_type": "markdown",
   "id": "a6676a0f",
   "metadata": {},
   "source": [
    "Similarly, for `t3`, the operator is `*` and parents as `t2`, `t2`. <br>\n",
    "and this time `grad_fn=<MulBackward0>`"
   ]
  },
  {
   "cell_type": "code",
   "execution_count": 9,
   "id": "9a6f0861",
   "metadata": {},
   "outputs": [
    {
     "data": {
      "text/plain": [
       "tensor(7.5344, grad_fn=<MeanBackward0>)"
      ]
     },
     "execution_count": 9,
     "metadata": {},
     "output_type": "execute_result"
    }
   ],
   "source": [
    "t4 = t3.mean()\n",
    "t4"
   ]
  },
  {
   "cell_type": "code",
   "execution_count": null,
   "id": "f39eedc8",
   "metadata": {},
   "outputs": [],
   "source": [
    "t4.backward() #calling backward method on final variable set the gradient for all vraibles before. "
   ]
  },
  {
   "cell_type": "code",
   "execution_count": 12,
   "id": "530493c4",
   "metadata": {},
   "outputs": [
    {
     "name": "stdout",
     "output_type": "stream",
     "text": [
      "t1.grad =  tensor([ 2.2127, -0.0210,  0.4688,  2.5458,  0.6766])\n",
      "t2.grad =  None\n",
      "t3.grad =  None\n",
      "t4.grad =  None\n"
     ]
    },
    {
     "name": "stderr",
     "output_type": "stream",
     "text": [
      "C:\\Users\\AN80050181\\AppData\\Local\\Temp\\ipykernel_10668\\3609805089.py:2: UserWarning: The .grad attribute of a Tensor that is not a leaf Tensor is being accessed. Its .grad attribute won't be populated during autograd.backward(). If you indeed want the .grad field to be populated for a non-leaf Tensor, use .retain_grad() on the non-leaf Tensor. If you access the non-leaf Tensor by mistake, make sure you access the leaf Tensor instead. See github.com/pytorch/pytorch/pull/30531 for more informations. (Triggered internally at C:\\actions-runner\\_work\\pytorch\\pytorch\\pytorch\\build\\aten\\src\\ATen/core/TensorBody.h:494.)\n",
      "  print('t2.grad = ', t2.grad)\n",
      "C:\\Users\\AN80050181\\AppData\\Local\\Temp\\ipykernel_10668\\3609805089.py:3: UserWarning: The .grad attribute of a Tensor that is not a leaf Tensor is being accessed. Its .grad attribute won't be populated during autograd.backward(). If you indeed want the .grad field to be populated for a non-leaf Tensor, use .retain_grad() on the non-leaf Tensor. If you access the non-leaf Tensor by mistake, make sure you access the leaf Tensor instead. See github.com/pytorch/pytorch/pull/30531 for more informations. (Triggered internally at C:\\actions-runner\\_work\\pytorch\\pytorch\\pytorch\\build\\aten\\src\\ATen/core/TensorBody.h:494.)\n",
      "  print('t3.grad = ', t3.grad)\n",
      "C:\\Users\\AN80050181\\AppData\\Local\\Temp\\ipykernel_10668\\3609805089.py:4: UserWarning: The .grad attribute of a Tensor that is not a leaf Tensor is being accessed. Its .grad attribute won't be populated during autograd.backward(). If you indeed want the .grad field to be populated for a non-leaf Tensor, use .retain_grad() on the non-leaf Tensor. If you access the non-leaf Tensor by mistake, make sure you access the leaf Tensor instead. See github.com/pytorch/pytorch/pull/30531 for more informations. (Triggered internally at C:\\actions-runner\\_work\\pytorch\\pytorch\\pytorch\\build\\aten\\src\\ATen/core/TensorBody.h:494.)\n",
      "  print('t4.grad = ', t4.grad) #expected to be 1 since d(t4)/d(t4) = 1\n"
     ]
    }
   ],
   "source": [
    "print('t1.grad = ', t1.grad)\n",
    "print('t2.grad = ', t2.grad)\n",
    "print('t3.grad = ', t3.grad)\n",
    "print('t4.grad = ', t4.grad) #expected to be 1 since d(t4)/d(t4) = 1"
   ]
  },
  {
   "cell_type": "markdown",
   "id": "0cdd3bc9",
   "metadata": {},
   "source": [
    "The above error points that __'gradients are store only for leaf nodes by default'__\n",
    "\n",
    "#### What are leaf nodes? \n",
    "\n",
    "A leaf node is a torch.Tensor that:\n",
    "- Was created by the user (not resulting from a computation), and\n",
    "- Has requires_grad=True.\n",
    "\n",
    "So in the above process, t1 is a leaf node (init by user, requires_grad = True) but t2,t3,t4 are simply result of some mathematical operations. Pytorch doesnt store _intermediate gradients_ by default. Why? Because they are rarely needed in practice. \n",
    "\n",
    "For ex: in a NN with 2 inputs, 3 hidden layer neurons and 1 output: \n",
    "```\n",
    "x = torch.randn(1, 2, requires_grad=False)   # Input\n",
    "W1 = torch.randn(2, 3, requires_grad=True)   # Leaf\n",
    "b1 = torch.randn(3, requires_grad=True)      # Leaf\n",
    "\n",
    "W2 = torch.randn(3, 1, requires_grad=True)   # Leaf\n",
    "b2 = torch.randn(1, requires_grad=True)      # Leaf\n",
    "\n",
    "# Forward pass\n",
    "h = x @ W1 + b1      # Intermediate tensor (not leaf)\n",
    "a = torch.relu(h)    # Intermediate\n",
    "y = a @ W2 + b2      # Final output\n",
    "```\n",
    "\n",
    "__So gradients of `h` and `a` are not store, which is in line with our usage.__ \n",
    "\n",
    "However, intermediate gradients can be accessed by explicitly calling t2.retain_grad() or torch.autograd.grad(t4, t2) -- d(t4)/d(t2)"
   ]
  },
  {
   "cell_type": "code",
   "execution_count": 13,
   "id": "77bc5fc0",
   "metadata": {},
   "outputs": [],
   "source": [
    "# consider the following case: \n",
    "\n",
    "t1 = torch.randn(3, requires_grad=True)\n",
    "t2 = t1 + 2\n",
    "t3 = 2 * t2 ** 2"
   ]
  },
  {
   "cell_type": "code",
   "execution_count": null,
   "id": "701901e2",
   "metadata": {},
   "outputs": [],
   "source": [
    "t3.backward()"
   ]
  },
  {
   "cell_type": "markdown",
   "id": "55335bd1",
   "metadata": {},
   "source": [
    "^ leads into an error since t3 is not a scalar. \n",
    "\n",
    "#### Why? and what to do?\n",
    "\n",
    "`backward()` needs the output tensor (`t3`) to be a scalar, or you must explicitly provide a \"gradient vector\" of the same shape as the output.\n",
    "\n",
    "`.backward()` actually computes the __Jacobian vector product (JVP)__: $$\\frac{∂t_3}{∂t_1}^T \\cdot v$$\n",
    "\n",
    "So instead we do:\n",
    "```\n",
    "v = torch.tensor([0.1, 1.0, 0.01])\n",
    "t3.backward(v)\n",
    "```\n",
    "You’re saying:\n",
    "\n",
    "“I don’t need the full Jacobian — just give me the result of multiplying it by this vector v\". Check below image for it in action, to calculate d(t_3)/d(t_1), which is needed, since t_1 is the leaf node!\n"
   ]
  },
  {
   "cell_type": "markdown",
   "id": "25a90a42",
   "metadata": {},
   "source": [
    "<img src=\"pictures/j.v working.jpg\" width=\"50%\">"
   ]
  },
  {
   "cell_type": "code",
   "execution_count": 15,
   "id": "f3896e10",
   "metadata": {},
   "outputs": [],
   "source": [
    "# instead \n",
    "\n",
    "v = torch.ones(t3.shape[0])\n",
    "\n",
    "t3.backward(v)"
   ]
  },
  {
   "cell_type": "code",
   "execution_count": 17,
   "id": "0af89b2e",
   "metadata": {},
   "outputs": [
    {
     "data": {
      "text/plain": [
       "tensor([ 7.0332,  9.2314, 10.7467])"
      ]
     },
     "execution_count": 17,
     "metadata": {},
     "output_type": "execute_result"
    }
   ],
   "source": [
    "# .grad attribute stores the gradient\n",
    "t1.grad"
   ]
  },
  {
   "cell_type": "markdown",
   "id": "1f61d932",
   "metadata": {},
   "source": [
    "### Emptying gradients\n",
    "\n",
    "use `object.gard.zero_()`"
   ]
  },
  {
   "cell_type": "code",
   "execution_count": 19,
   "id": "6038a6e6",
   "metadata": {},
   "outputs": [
    {
     "name": "stdout",
     "output_type": "stream",
     "text": [
      "tensor([3., 3., 3., 3.])\n",
      "tensor([3., 3., 3., 3.])\n",
      "tensor([0.4000, 0.4000, 0.4000, 0.4000], requires_grad=True)\n",
      "tensor(8.4000, grad_fn=<SumBackward0>)\n"
     ]
    }
   ],
   "source": [
    "# backward() accumulates the gradient for this tensor into .grad attribute.\n",
    "# !!! We need to be careful during optimization !!!\n",
    "# Use .zero_() to empty the gradients before a new optimization step!\n",
    "weights = torch.ones(4, requires_grad=True)\n",
    "\n",
    "for epoch in range(2):\n",
    "    # just a dummy example\n",
    "    model_output = (weights*3).sum()\n",
    "    model_output.backward()\n",
    "    \n",
    "    print(weights.grad)\n",
    "\n",
    "    # optimize model, i.e. adjust weights...\n",
    "    with torch.no_grad():\n",
    "        weights -= 0.1 * weights.grad\n",
    "\n",
    "    # this is important! It affects the final weights & output\n",
    "    weights.grad.zero_()\n",
    "\n",
    "print(weights)\n",
    "print(model_output)"
   ]
  },
  {
   "cell_type": "markdown",
   "id": "7dfad01c",
   "metadata": {},
   "source": [
    "^ self-explanatory. "
   ]
  }
 ],
 "metadata": {
  "kernelspec": {
   "display_name": "Python 3",
   "language": "python",
   "name": "python3"
  },
  "language_info": {
   "codemirror_mode": {
    "name": "ipython",
    "version": 3
   },
   "file_extension": ".py",
   "mimetype": "text/x-python",
   "name": "python",
   "nbconvert_exporter": "python",
   "pygments_lexer": "ipython3",
   "version": "3.12.4"
  }
 },
 "nbformat": 4,
 "nbformat_minor": 5
}
