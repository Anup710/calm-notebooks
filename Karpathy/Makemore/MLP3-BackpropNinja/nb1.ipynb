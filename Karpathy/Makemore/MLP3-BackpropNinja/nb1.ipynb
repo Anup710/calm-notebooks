{
 "cells": [
  {
   "cell_type": "markdown",
   "id": "715ec7e4",
   "metadata": {},
   "source": [
    "## Backprop history and importance: \n",
    "\n",
    "It was a common practice as late as 2016 to write your own backward pass instead of the autograd engine we use to call `loss.backward()`, which is why we will spend this lecture trying to get an intuitive sense of backprop by writing own own code to execute it. \n",
    "\n",
    "Essentially we will introduce many __intermediate variables__ to track the flow of gradients a bit like we did in autograd. \n",
    "\n",
    "We will also __revert__ to our simple model of neural network with only a __single hidden layer__. "
   ]
  },
  {
   "cell_type": "code",
   "execution_count": 1,
   "id": "f1eb8239",
   "metadata": {},
   "outputs": [],
   "source": [
    "import torch\n",
    "import torch.nn.functional as F\n",
    "import matplotlib.pyplot as plt # for making figures\n",
    "%matplotlib inline\n",
    "\n",
    "from aux_files import Linear, Tanh, BatchNorm1d"
   ]
  },
  {
   "cell_type": "code",
   "execution_count": 2,
   "id": "0b0e7ece",
   "metadata": {},
   "outputs": [],
   "source": [
    "words = open('names.txt', 'r').read().splitlines()"
   ]
  },
  {
   "cell_type": "code",
   "execution_count": 3,
   "id": "d8a46a18",
   "metadata": {},
   "outputs": [],
   "source": [
    "allchars = sorted(set(''.join(words)))\n",
    "\n",
    "stoi = {s:i+1 for i,s in enumerate(allchars) }\n",
    "stoi['.'] = 0\n",
    "\n",
    "itos = {i:s for s,i in stoi.items()}\n",
    "vocab_size = len(stoi)"
   ]
  },
  {
   "cell_type": "code",
   "execution_count": 4,
   "id": "c70ed5fd",
   "metadata": {},
   "outputs": [
    {
     "name": "stdout",
     "output_type": "stream",
     "text": [
      "torch.Size([182625, 3]) torch.Size([182625])\n",
      "torch.Size([22655, 3]) torch.Size([22655])\n",
      "torch.Size([22866, 3]) torch.Size([22866])\n"
     ]
    }
   ],
   "source": [
    "# build the dataset\n",
    "block_size = 3 # context length: how many characters do we take to predict the next one?\n",
    "\n",
    "def build_dataset(words):  \n",
    "  X, Y = [], []\n",
    "  \n",
    "  for w in words:\n",
    "    context = [0] * block_size\n",
    "    for ch in w + '.':\n",
    "      ix = stoi[ch]\n",
    "      X.append(context)\n",
    "      Y.append(ix)\n",
    "      context = context[1:] + [ix] # crop and append\n",
    "\n",
    "  X = torch.tensor(X)\n",
    "  Y = torch.tensor(Y)\n",
    "  print(X.shape, Y.shape)\n",
    "  return X, Y\n",
    "\n",
    "import random\n",
    "random.seed(42)\n",
    "words_shuffled = words[:]  # shallow copy -- to preserve across runs\n",
    "random.shuffle(words_shuffled)\n",
    "n1 = int(0.8*len(words_shuffled))\n",
    "n2 = int(0.9*len(words_shuffled))\n",
    "\n",
    "Xtr,  Ytr  = build_dataset(words_shuffled[:n1])     # 80%\n",
    "Xdev, Ydev = build_dataset(words_shuffled[n1:n2])   # 10%\n",
    "Xte,  Yte  = build_dataset(words_shuffled[n2:])     # 10%"
   ]
  },
  {
   "cell_type": "markdown",
   "id": "e0854309",
   "metadata": {},
   "source": [
    "Done with boilerplate init code, now to more concrete stuff. \n",
    "\n",
    "Lets define a comparing function to check whether analytically calculated gradients are close to those calculated by pytorch."
   ]
  },
  {
   "cell_type": "code",
   "execution_count": 67,
   "id": "68dbc99a",
   "metadata": {},
   "outputs": [],
   "source": [
    "# utility function we will use later when comparing manual gradients to PyTorch gradients\n",
    "def cmp(s, dt, t):\n",
    "  ex = torch.all(dt == t.grad).item()\n",
    "  app = torch.allclose(dt, t.grad)\n",
    "  maxdiff = (dt - t.grad).abs().max().item()\n",
    "  print(f'{s:15s} | exact: {str(ex):5s} | approximate: {str(app):5s} | maxdiff: {str(maxdiff):5s}')"
   ]
  },
  {
   "cell_type": "markdown",
   "id": "26e267a1",
   "metadata": {},
   "source": [
    "Utility of `cmp`: \n",
    "- Line 1: compares all elements of dt and t.grad and compresses it to a single True or False boolean rather than a whole matrix\n",
    "- Line 2: gives come wiggle room during comparison\n",
    "- Line 3: captures the maximum difference bw the two values across the entire gradient matrix\n",
    "- Line 4 is a simple print statement\n",
    "\n",
    "Initializating many of these parameters in non-standard ways because sometimes initializating with e.g. all zeros could mask an incorrect\n",
    "implementation of the backward pass."
   ]
  },
  {
   "cell_type": "code",
   "execution_count": 6,
   "id": "0fbd49c0",
   "metadata": {},
   "outputs": [
    {
     "name": "stdout",
     "output_type": "stream",
     "text": [
      "4137\n"
     ]
    }
   ],
   "source": [
    "n_embd = 10 # the dimensionality of the character embedding vectors\n",
    "n_hidden = 64 # the number of neurons in the hidden layer of the MLP\n",
    "\n",
    "g = torch.Generator().manual_seed(2147483647) # for reproducibility\n",
    "C  = torch.randn((vocab_size, n_embd),            generator=g)\n",
    "# Layer 1\n",
    "W1 = torch.randn((n_embd * block_size, n_hidden), generator=g) * (5/3)/((n_embd * block_size)**0.5) # kaiming init\n",
    "b1 = torch.randn(n_hidden,                        generator=g) * 0.1 # using b1 just for fun, it's useless because of BN\n",
    "# Layer 2\n",
    "W2 = torch.randn((n_hidden, vocab_size),          generator=g) * 0.1\n",
    "b2 = torch.randn(vocab_size,                      generator=g) * 0.1\n",
    "# BatchNorm parameters\n",
    "bngain = torch.randn((1, n_hidden))*0.1 + 1.0 # non standard init\n",
    "bnbias = torch.randn((1, n_hidden))*0.1 # non standard init\n",
    "\n",
    "parameters = [C, W1, b1, W2, b2, bngain, bnbias]\n",
    "print(sum(p.nelement() for p in parameters)) # number of parameters in total\n",
    "for p in parameters:\n",
    "  p.requires_grad = True"
   ]
  },
  {
   "cell_type": "code",
   "execution_count": 7,
   "id": "19e96ded",
   "metadata": {},
   "outputs": [],
   "source": [
    "batch_size = 32\n",
    "n = batch_size # a shorter variable also, for convenience\n",
    "# construct a minibatch\n",
    "ix = torch.randint(0, Xtr.shape[0], (batch_size,), generator=g)\n",
    "Xb, Yb = Xtr[ix], Ytr[ix] # batch X,Y"
   ]
  },
  {
   "cell_type": "code",
   "execution_count": 75,
   "id": "3016ae34",
   "metadata": {},
   "outputs": [
    {
     "name": "stdout",
     "output_type": "stream",
     "text": [
      "torch.Size([32, 64]) torch.Size([32, 30]) torch.Size([30, 64]) torch.Size([64])\n",
      "torch.Size([32, 30]) torch.Size([32, 3, 10])\n",
      "torch.Size([27, 10]) torch.Size([32, 3, 10]) torch.Size([32, 3])\n"
     ]
    }
   ],
   "source": [
    "print(hprebn.shape, embcat.shape, W1.shape, b1.shape)\n",
    "print(embcat.shape, emb.shape)\n",
    "print(C.shape, emb.shape, Xb.shape)"
   ]
  },
  {
   "cell_type": "code",
   "execution_count": 27,
   "id": "c515d3e3",
   "metadata": {},
   "outputs": [
    {
     "data": {
      "text/plain": [
       "tensor(3.3394, grad_fn=<NegBackward0>)"
      ]
     },
     "execution_count": 27,
     "metadata": {},
     "output_type": "execute_result"
    }
   ],
   "source": [
    "# forward pass, \"chunkated\" into smaller steps that are possible to backward one at a time\n",
    "\n",
    "emb = C[Xb] # embed the characters into vectors\n",
    "embcat = emb.view(emb.shape[0], -1) # concatenate the vectors\n",
    "# Linear layer 1\n",
    "hprebn = embcat @ W1 + b1 # hidden layer pre-activation\n",
    "# BatchNorm layer\n",
    "bnmeani = 1/n*hprebn.sum(0, keepdim=True)\n",
    "bndiff = hprebn - bnmeani\n",
    "bndiff2 = bndiff**2\n",
    "bnvar = 1/(n-1)*(bndiff2).sum(0, keepdim=True) # note: Bessel's correction (dividing by n-1, not n)\n",
    "bnvar_inv = (bnvar + 1e-5)**-0.5\n",
    "bnraw = bndiff * bnvar_inv\n",
    "hpreact = bngain * bnraw + bnbias\n",
    "# Non-linearity\n",
    "h = torch.tanh(hpreact) # hidden layer\n",
    "# Linear layer 2\n",
    "logits = h @ W2 + b2 # output layer\n",
    "# cross entropy loss (same as F.cross_entropy(logits, Yb))\n",
    "logit_maxes = logits.max(1, keepdim=True).values\n",
    "norm_logits = logits - logit_maxes # subtract max for numerical stability\n",
    "counts = norm_logits.exp()\n",
    "counts_sum = counts.sum(1, keepdims=True)\n",
    "counts_sum_inv = counts_sum**-1 # if I use (1.0 / counts_sum) instead then I can't get backprop to be bit exact...\n",
    "probs = counts * counts_sum_inv\n",
    "logprobs = probs.log()\n",
    "loss = -logprobs[range(n), Yb].mean()\n",
    "\n",
    "# PyTorch backward pass\n",
    "for p in parameters:\n",
    "  p.grad = None\n",
    "for t in [logprobs, probs, counts, counts_sum, counts_sum_inv, # afaik there is no cleaner way\n",
    "          norm_logits, logit_maxes, logits, h, hpreact, bnraw,\n",
    "         bnvar_inv, bnvar, bndiff2, bndiff, hprebn, bnmeani,\n",
    "         embcat, emb]:\n",
    "  t.retain_grad()\n",
    "loss.backward()\n",
    "loss"
   ]
  },
  {
   "cell_type": "markdown",
   "id": "45c85860",
   "metadata": {},
   "source": [
    "All cells above this one are just the basics being carried over. Now lets define: \n",
    "\n",
    "$\\frac{\\partial Loss}{\\partial {logprobs}}$ and start from here as we go back in the chain to compute derivative of loss wrt each intermediate variable. \n",
    "\n",
    "At each step we uncomment each `cmp` call to check the proximity of our analytically calculated grad and pytorch calculated grad."
   ]
  },
  {
   "cell_type": "code",
   "execution_count": 50,
   "id": "488514f7",
   "metadata": {},
   "outputs": [
    {
     "name": "stdout",
     "output_type": "stream",
     "text": [
      "torch.Size([32, 27]) torch.Size([32, 1])\n",
      "--------------------\n",
      "torch.Size([32, 27]) torch.Size([32, 64]) torch.Size([64, 27]) torch.Size([27])\n",
      "--------------------\n",
      "torch.Size([32, 64]) torch.Size([32, 64]) torch.Size([1, 64])\n",
      "--------------------\n",
      "torch.Size([32, 64])\n"
     ]
    }
   ],
   "source": [
    "# c = a * b \n",
    "# dc/db = a\n",
    "print(counts.shape, counts_sum_inv.shape) # broadcasting is implicit\n",
    "print('--------------------')\n",
    "print(logits.shape, h.shape, W2.shape, b2.shape)\n",
    "print('--------------------')\n",
    "print(hpreact.shape, bnraw.shape, bngain.shape)\n",
    "print('--------------------')\n",
    "print(bndiff2.shape)"
   ]
  },
  {
   "cell_type": "markdown",
   "id": "f423a17f",
   "metadata": {},
   "source": [
    "One tip to deduce formulae of gradients correctly is to check the shape of the original variable; the shape of the grad will also be same, since loss is a scalar. \n",
    "\n",
    "i.e. __if__ shape of logprobs = $(30,40)$ shape of dlogprobs also will be $(30,40)$. \n",
    "\n",
    "<span style=\"color:#FF0000; font-family: 'Bebas Neue'; font-size: 01em;\">Caution:</span><br>\n",
    "1. for `probs = counts_sum_inv * counts`, there are __2 steps__: broadcasting counts_sum_inv and then multiplication, which is why in `dcounts_sum_inv` we sum the gradients along dim 1\n",
    "\n",
    "2. At some places, a `+=` is used to _accumulate_ gradients if a variable is repeated during backpass. \n",
    "\n",
    "3. `A*B` is element-wise multiplication and and `A@B` is matrix multiplication. "
   ]
  },
  {
   "cell_type": "code",
   "execution_count": 78,
   "id": "acee655c",
   "metadata": {},
   "outputs": [
    {
     "name": "stdout",
     "output_type": "stream",
     "text": [
      "---------GRAD comparison results--------------\n",
      "logprobs        | exact: True  | approximate: True  | maxdiff: 0.0  \n",
      "probs           | exact: True  | approximate: True  | maxdiff: 0.0  \n",
      "counts_sum_inv  | exact: True  | approximate: True  | maxdiff: 0.0  \n",
      "counts_sum      | exact: True  | approximate: True  | maxdiff: 0.0  \n",
      "counts          | exact: True  | approximate: True  | maxdiff: 0.0  \n",
      "norm_logits     | exact: True  | approximate: True  | maxdiff: 0.0  \n",
      "logit_maxes     | exact: True  | approximate: True  | maxdiff: 0.0  \n",
      "logits          | exact: False | approximate: True  | maxdiff: 9.313225746154785e-09\n",
      "h               | exact: False | approximate: True  | maxdiff: 2.3283064365386963e-09\n",
      "W2              | exact: False | approximate: True  | maxdiff: 1.210719347000122e-08\n",
      "b2              | exact: False | approximate: True  | maxdiff: 1.4901161193847656e-08\n",
      "hpreact         | exact: False | approximate: True  | maxdiff: 2.3283064365386963e-09\n",
      "bngain          | exact: False | approximate: True  | maxdiff: 2.3283064365386963e-09\n",
      "bnbias          | exact: False | approximate: True  | maxdiff: 7.450580596923828e-09\n",
      "bnraw           | exact: False | approximate: True  | maxdiff: 1.862645149230957e-09\n",
      "bnvar_inv       | exact: False | approximate: True  | maxdiff: 3.725290298461914e-09\n",
      "bnvar           | exact: False | approximate: True  | maxdiff: 6.984919309616089e-10\n",
      "bndiff2         | exact: False | approximate: True  | maxdiff: 2.9103830456733704e-11\n",
      "bndiff          | exact: False | approximate: True  | maxdiff: 1.5133991837501526e-09\n",
      "bnmeani         | exact: False | approximate: True  | maxdiff: 7.450580596923828e-09\n",
      "hprebn          | exact: False | approximate: True  | maxdiff: 1.4551915228366852e-09\n",
      "embcat          | exact: False | approximate: True  | maxdiff: 3.026798367500305e-09\n",
      "W1              | exact: False | approximate: True  | maxdiff: 9.313225746154785e-09\n",
      "b1              | exact: False | approximate: True  | maxdiff: 6.51925802230835e-09\n",
      "emb             | exact: False | approximate: True  | maxdiff: 3.026798367500305e-09\n",
      "C               | exact: False | approximate: True  | maxdiff: 7.450580596923828e-09\n"
     ]
    }
   ],
   "source": [
    "# Exercise 1: bacmp('logprobs', dlogprobs, logprobs)\n",
    "\n",
    "dlogprobs = torch.zeros_like(logprobs)\n",
    "dlogprobs[range(n), Yb] = -1.0/n\n",
    "\n",
    "dprobs = 1/probs * dlogprobs # chain rule\n",
    "\n",
    "dcounts = dprobs * counts_sum_inv # 1st contribution, rest comes from count_sum_inv definition!\n",
    "dcounts_sum_inv = (counts * dprobs).sum(1, keepdim=True) # this is tricky -- understand using shape analogy\n",
    "\n",
    "dcounts_sum =   (-1/(counts_sum)**2) * dcounts_sum_inv\n",
    "\n",
    "dcounts2 = torch.ones_like(counts) * dcounts_sum\n",
    "dcounts += dcounts2 \n",
    "\n",
    "dnorm_logits = dcounts * counts #exponential goes unscathed\n",
    "\n",
    "dlogits = dnorm_logits.clone()\n",
    "dlogit_maxes = (-dnorm_logits).sum(1, keepdim=True) # similar to dcounts_sum_inv -- broadcasting takes place to beware\n",
    "\n",
    "dh = dlogits @ W2.T  \n",
    "dW2 = h.T @ dlogits\n",
    "db2 = dlogits.sum(0, keepdims = True) # trick: dim(b2) = [27] => broadcasting happens across rows, so grad sum must be across rows. \n",
    "\n",
    "dhpreact = dh * (1-h**2)\n",
    "\n",
    "dbnbias = dhpreact.sum(0, keepdims=True) # since dim(bnbias) = 1,64 => sum must be along rows (0) while broadcasting -- same as db2\n",
    "dbngain = (dhpreact * bnraw).sum(0, keepdims = True) # from dimensional analysis\n",
    "dbnraw = bngain * dhpreact\n",
    "\n",
    "dbnvar_inv = (dbnraw * bndiff).sum(0, keepdims = True)\n",
    "dbndiff = dbnraw * bnvar_inv # will have to add another components from dbndiff2.grad\n",
    "\n",
    "dbnvar = dbnvar_inv * (-0.5 * ((bnvar + 1e-5)**-1.5)) # simple derivative\n",
    "dbndiff2 = dbnvar * torch.ones_like(bndiff2) * 1/(n-1) # decrypting broadcasting using math\n",
    "\n",
    "dbndiff += 2*bndiff*dbndiff2 # add second component \n",
    "\n",
    "dbnmeani = -1* dbndiff.sum(0, keepdim=True)\n",
    "\n",
    "dhprebn = dbndiff.clone()\n",
    "dhprebn += dbnmeani * 1/n * torch.ones_like(hprebn) # since there were 2 components \n",
    "\n",
    "dembcat = dhprebn @ W1.T\n",
    "dW1 = embcat.T @ dhprebn\n",
    "db1 = dhprebn.sum(0, keepdim = True)\n",
    "\n",
    "demb = dembcat.view(emb.shape[0], block_size, -1) #since this was just a dim transformation in forward pass too\n",
    "\n",
    "# proceed based on intuition and dimensions of C, emb and Xb\n",
    "dC = torch.zeros_like(C)\n",
    "for k in range(Xb.shape[0]):\n",
    "  for j in range(Xb.shape[1]):\n",
    "    ix = Xb[k,j]\n",
    "    dC[ix] += demb[k,j]\n",
    "\n",
    "print('---------GRAD comparison results--------------')\n",
    "cmp('logprobs', dlogprobs, logprobs)\n",
    "cmp('probs', dprobs, probs)\n",
    "cmp('counts_sum_inv', dcounts_sum_inv, counts_sum_inv)\n",
    "cmp('counts_sum', dcounts_sum, counts_sum)\n",
    "cmp('counts', dcounts, counts)\n",
    "cmp('norm_logits', dnorm_logits, norm_logits)\n",
    "cmp('logit_maxes', dlogit_maxes, logit_maxes)\n",
    "cmp('logits', dlogits, logits)\n",
    "cmp('h', dh, h)\n",
    "cmp('W2', dW2, W2)\n",
    "cmp('b2', db2, b2)\n",
    "cmp('hpreact', dhpreact, hpreact)\n",
    "cmp('bngain', dbngain, bngain)\n",
    "cmp('bnbias', dbnbias, bnbias)\n",
    "cmp('bnraw', dbnraw, bnraw)\n",
    "cmp('bnvar_inv', dbnvar_inv, bnvar_inv)\n",
    "cmp('bnvar', dbnvar, bnvar)\n",
    "cmp('bndiff2', dbndiff2, bndiff2)\n",
    "cmp('bndiff', dbndiff, bndiff)\n",
    "cmp('bnmeani', dbnmeani, bnmeani)\n",
    "cmp('hprebn', dhprebn, hprebn)\n",
    "cmp('embcat', dembcat, embcat)\n",
    "cmp('W1', dW1, W1)\n",
    "cmp('b1', db1, b1)\n",
    "cmp('emb', demb, emb)\n",
    "cmp('C', dC, C)\n",
    "\n",
    "# backpropagating through exactly all of the variables manually\n",
    "# as they are defined in the forward pass above, one by one\n",
    "\n",
    "\n"
   ]
  },
  {
   "cell_type": "markdown",
   "id": "2b994669",
   "metadata": {},
   "source": [
    "It does take some effort to trace it all the way back but matching dimensions of variables is really the trick. Understanding broadcasting, accumulation etc operations. \n",
    "\n",
    "### On Bessel's correction \n",
    "\n",
    "In the line: <br>\n",
    "`bnvar = 1/(n-1)*(bndiff2).sum(0, keepdim=True)` <br>\n",
    "whether to use $\\frac{1}{n-1}$ or $\\frac{1}{n}$ is a bit of a confusion in the [original batch norm paper](https://arxiv.org/abs/1502.03167) since they use one during training and other during testing which can, however minutely, give fudged results. Andrej prefers using \n",
    "$\\frac{1}{n-1}$ uniformly. More debate can be found [here](https://math.oxford.emory.edu/site/math117/besselCorrection/)\n",
    "\n",
    "\n",
    "## Exercise 2\n",
    "\n",
    "Backprop through cross_entropy but all in one go to complete this challenge look at the mathematical expression of the loss, take the derivative, simplify the expression, and just write it out."
   ]
  },
  {
   "cell_type": "code",
   "execution_count": 82,
   "id": "f05b8db8",
   "metadata": {},
   "outputs": [
    {
     "name": "stdout",
     "output_type": "stream",
     "text": [
      "3.3394112586975098 diff: 0.0\n"
     ]
    }
   ],
   "source": [
    "# forward pass\n",
    "\n",
    "# before:\n",
    "# logit_maxes = logits.max(1, keepdim=True).values\n",
    "# norm_logits = logits - logit_maxes # subtract max for numerical stability\n",
    "# counts = norm_logits.exp()\n",
    "# counts_sum = counts.sum(1, keepdims=True)\n",
    "# counts_sum_inv = counts_sum**-1 # if I use (1.0 / counts_sum) instead then I can't get backprop to be bit exact...\n",
    "# probs = counts * counts_sum_inv\n",
    "# logprobs = probs.log()\n",
    "# loss = -logprobs[range(n), Yb].mean()\n",
    "\n",
    "# now:\n",
    "loss_fast = F.cross_entropy(logits, Yb)\n",
    "print(loss_fast.item(), 'diff:', (loss_fast - loss).item())"
   ]
  },
  {
   "cell_type": "markdown",
   "id": "71362777",
   "metadata": {},
   "source": [
    "Similarly, now in computation of `dlogits` we will derive a mathematical relation to prevent calculation of derivatives of `[logprobs, probs, counts, counts_sum, counts_sum_inv, norm_logits, logit_maxes]` to reach upto `dlogits`. \n",
    "\n",
    "__So the goal is:__ `dlogits = f(logits, Yb)`\n",
    "\n",
    "Note: an attempt to calculate the loss analytically from the logits matrix, BUT apparently that is not what Andrej meant LOL."
   ]
  },
  {
   "cell_type": "code",
   "execution_count": 105,
   "id": "af4f70fe",
   "metadata": {},
   "outputs": [
    {
     "name": "stdout",
     "output_type": "stream",
     "text": [
      "num and den shape: torch.Size([32, 1]) torch.Size([32]) torch.Size([32, 1])\n",
      "entries shape: torch.Size([32, 1])\n"
     ]
    },
    {
     "data": {
      "text/plain": [
       "tensor([[ 0.0000,  0.0000,  0.0000,  0.0000,  0.0000,  0.0000,  0.0000,  0.0000,\n",
       "         -0.0185,  0.0000,  0.0000,  0.0000,  0.0000,  0.0000,  0.0000,  0.0000,\n",
       "          0.0000,  0.0000,  0.0000,  0.0000,  0.0000,  0.0000,  0.0000,  0.0000,\n",
       "          0.0000,  0.0000,  0.0000],\n",
       "        [ 0.0000,  0.0000,  0.0000,  0.0000,  0.0000,  0.0000,  0.0000,  0.0000,\n",
       "          0.0000,  0.0000,  0.0000,  0.0000,  0.0000,  0.0000, -0.0441,  0.0000,\n",
       "          0.0000,  0.0000,  0.0000,  0.0000,  0.0000,  0.0000,  0.0000,  0.0000,\n",
       "          0.0000,  0.0000,  0.0000]], grad_fn=<SliceBackward0>)"
      ]
     },
     "execution_count": 105,
     "metadata": {},
     "output_type": "execute_result"
    }
   ],
   "source": [
    "# write a variable logit matrix, subtract, exponentiate, take sum along dim 1 => probs. Calculate derivatives at \n",
    "# specific index using chain rule for division. Doesnt seem to work tho. \n",
    "\n",
    "den = logits.exp().sum(dim=1, keepdim=True)\n",
    "den**2 # used in denominator\n",
    "num1 = ((logits[range(n), Yb]).exp())\n",
    "num1**2 # first term of numerator\n",
    "\n",
    "num2 = den * num1.view(32,1) # .view to enforce element wise multiplication\n",
    " \n",
    "print('num and den shape:',den.shape, num1.shape, num2.shape)\n",
    "\n",
    "entries = ((num1**2).view(32,1) - num2)/ den**2\n",
    "\n",
    "print('entries shape:',entries.shape)\n",
    "\n",
    "dlogits_math = torch.zeros_like(logits)\n",
    "\n",
    "for i in range(n): # n: batch size 32\n",
    "    dlogits_math[i, Yb[i]] = entries[i]\n",
    "\n",
    "dlogits_math[:2] # i have f ed up somewhere clearly. "
   ]
  },
  {
   "cell_type": "markdown",
   "id": "3cbe8675",
   "metadata": {},
   "source": [
    "Andrej's sense of the implementation: "
   ]
  },
  {
   "cell_type": "code",
   "execution_count": 106,
   "id": "fd984687",
   "metadata": {},
   "outputs": [
    {
     "name": "stdout",
     "output_type": "stream",
     "text": [
      "logits          | exact: False | approximate: True  | maxdiff: 9.080395102500916e-09\n"
     ]
    }
   ],
   "source": [
    "dlogits = F.softmax(logits, 1)\n",
    "dlogits[range(n), Yb] -= 1\n",
    "dlogits /= n\n",
    "\n",
    "cmp('logits', dlogits, logits)"
   ]
  },
  {
   "cell_type": "code",
   "execution_count": null,
   "id": "f89ba333",
   "metadata": {},
   "outputs": [],
   "source": []
  }
 ],
 "metadata": {
  "kernelspec": {
   "display_name": "Python 3",
   "language": "python",
   "name": "python3"
  },
  "language_info": {
   "codemirror_mode": {
    "name": "ipython",
    "version": 3
   },
   "file_extension": ".py",
   "mimetype": "text/x-python",
   "name": "python",
   "nbconvert_exporter": "python",
   "pygments_lexer": "ipython3",
   "version": "3.12.4"
  }
 },
 "nbformat": 4,
 "nbformat_minor": 5
}
