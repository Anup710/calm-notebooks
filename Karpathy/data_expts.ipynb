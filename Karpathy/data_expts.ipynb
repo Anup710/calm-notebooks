{
 "cells": [
  {
   "cell_type": "code",
   "execution_count": 2,
   "id": "448a026c",
   "metadata": {},
   "outputs": [],
   "source": [
    "import torch\n",
    "import torch.nn as nn"
   ]
  },
  {
   "cell_type": "code",
   "execution_count": 7,
   "id": "4917a3f4",
   "metadata": {},
   "outputs": [
    {
     "name": "stdout",
     "output_type": "stream",
     "text": [
      "6110\n"
     ]
    }
   ],
   "source": [
    "X = torch.randn((1000,50))\n",
    "n_in = X.shape[1]\n",
    "\n",
    "model = nn.Sequential(nn.Linear(n_in, 100, bias = True), nn.Tanh(), nn.Linear(100, 10, bias = True))\n",
    "\n",
    "# calculate total no of params:\n",
    "params = [p for layer in model for p in layer.parameters()]\n",
    "print(sum(p.nelement() for p in params))"
   ]
  },
  {
   "cell_type": "code",
   "execution_count": 11,
   "id": "dd106279",
   "metadata": {},
   "outputs": [
    {
     "name": "stdout",
     "output_type": "stream",
     "text": [
      "torch.Size([4, 4, 10])\n",
      "torch.Size([4, 40, 1])\n",
      "torch.Size([4, 40])\n"
     ]
    }
   ],
   "source": [
    "x = torch.randn((4,4,10))\n",
    "print(x.shape)\n",
    "\n",
    "y = x.view(4,40,-1)\n",
    "print(y.shape)\n",
    "\n",
    "y = y.squeeze(dim = 2) #squeezing wrong dim keeps y.shape intact\n",
    "print(y.shape)"
   ]
  }
 ],
 "metadata": {
  "kernelspec": {
   "display_name": "Python 3",
   "language": "python",
   "name": "python3"
  },
  "language_info": {
   "codemirror_mode": {
    "name": "ipython",
    "version": 3
   },
   "file_extension": ".py",
   "mimetype": "text/x-python",
   "name": "python",
   "nbconvert_exporter": "python",
   "pygments_lexer": "ipython3",
   "version": "3.12.4"
  }
 },
 "nbformat": 4,
 "nbformat_minor": 5
}
