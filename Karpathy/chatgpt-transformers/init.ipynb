{
 "cells": [
  {
   "cell_type": "markdown",
   "id": "c1af74df",
   "metadata": {},
   "source": [
    "## Chatgpt: under the hood\n",
    "\n",
    "This video was launched just a few months after chatgpt became a sensation in early 2023. Since then the models have become more powerful.\n",
    "\n",
    "The neural network under the hood which models the words -- is defined in the landmark paper [Attention is all you need](https://proceedings.neurips.cc/paper_files/paper/2017/file/3f5ee243547dee91fbd053c1c4a845aa-Paper.pdf) by Vaswani et Al in 2017. GPT stands for __generatively pretrained transformer__. \n",
    "\n",
    "_Our_ goal here is to draw upon the principles of the transformer architecture to reproduce _Shakespearesque_ text after training on the tiny shakespeare dataset. "
   ]
  },
  {
   "cell_type": "code",
   "execution_count": 42,
   "id": "72c6ec70",
   "metadata": {},
   "outputs": [],
   "source": [
    "import torch\n",
    "import torch.nn as nn\n",
    "import torch.nn.functional as f\n",
    "import matplotlib.pyplot as plt"
   ]
  },
  {
   "cell_type": "code",
   "execution_count": 2,
   "id": "42fa6262",
   "metadata": {},
   "outputs": [
    {
     "data": {
      "text/plain": [
       "('input.txt', <http.client.HTTPMessage at 0x244234a9010>)"
      ]
     },
     "execution_count": 2,
     "metadata": {},
     "output_type": "execute_result"
    }
   ],
   "source": [
    "import urllib.request\n",
    "url = \"https://raw.githubusercontent.com/karpathy/char-rnn/master/data/tinyshakespeare/input.txt\"\n",
    "local_path = \"input.txt\"\n",
    "\n",
    "urllib.request.urlretrieve(url, local_path)"
   ]
  },
  {
   "cell_type": "code",
   "execution_count": 43,
   "id": "83f4a12d",
   "metadata": {},
   "outputs": [],
   "source": [
    "with open(local_path, \"r\", encoding=\"utf-8\") as f:\n",
    "    text = f.read()"
   ]
  },
  {
   "cell_type": "code",
   "execution_count": 44,
   "id": "3bc33b0f",
   "metadata": {},
   "outputs": [
    {
     "name": "stdout",
     "output_type": "stream",
     "text": [
      "length of dataset = 1115394 characters\n"
     ]
    }
   ],
   "source": [
    "print(f'length of dataset = {len(text)} characters')"
   ]
  },
  {
   "cell_type": "code",
   "execution_count": 45,
   "id": "baa9b030",
   "metadata": {},
   "outputs": [
    {
     "name": "stdout",
     "output_type": "stream",
     "text": [
      "First Citizen:\n",
      "Before we proceed any further, hear me speak.\n",
      "\n",
      "All:\n",
      "Speak, speak.\n",
      "\n",
      "First Citizen:\n",
      "You\n"
     ]
    }
   ],
   "source": [
    "print(text[:100])"
   ]
  },
  {
   "cell_type": "code",
   "execution_count": 46,
   "id": "9f053162",
   "metadata": {},
   "outputs": [
    {
     "name": "stdout",
     "output_type": "stream",
     "text": [
      "\n",
      " !$&',-.3:;?ABCDEFGHIJKLMNOPQRSTUVWXYZabcdefghijklmnopqrstuvwxyz | 65\n"
     ]
    }
   ],
   "source": [
    "chars = sorted(list(set(''.join(text))))\n",
    "vocab_size = len(chars)\n",
    "print(''.join(chars), '|' ,vocab_size)"
   ]
  },
  {
   "cell_type": "markdown",
   "id": "5b84f2ac",
   "metadata": {},
   "source": [
    "Note that ' ' (space) is also a character, included at the very beginning of the above chars. Next we need to create a mapping from characters to integers to tokenize them effectively. "
   ]
  },
  {
   "cell_type": "code",
   "execution_count": 47,
   "id": "d6154213",
   "metadata": {},
   "outputs": [],
   "source": [
    "stoi = {ch:i for i,ch in enumerate(chars)}\n",
    "itos = {i:ch for ch,i in stoi.items()}\n",
    "# print(itos, stoi)\n",
    "\n",
    "encode = lambda s: [stoi[c] for c in s]\n",
    "decode = lambda l: ''.join([itos[i] for i in l])"
   ]
  },
  {
   "cell_type": "code",
   "execution_count": 48,
   "id": "2977c1f4",
   "metadata": {},
   "outputs": [
    {
     "name": "stdout",
     "output_type": "stream",
     "text": [
      "[20, 47, 47, 1, 51, 63, 1, 52, 39, 51, 43, 1, 47, 57, 1, 14, 39, 56, 52, 43, 63, 9, 2]\n",
      "Hii my name is Barney3!\n"
     ]
    }
   ],
   "source": [
    "print(encode(\"Hii my name is Barney3!\"))\n",
    "print(decode(encode(\"Hii my name is Barney3!\")))"
   ]
  },
  {
   "cell_type": "markdown",
   "id": "ea4c46ae",
   "metadata": {},
   "source": [
    "The above schema is a very simple encoding-decoding mechanism. For ex. google uses [Sentence Piecing](https://github.com/google/sentencepiece), which encodes text into integers and it is a _subword_ tokenizer. OpenAI on the other hand, uses [tiktoken](https://github.com/openai/tiktoken):"
   ]
  },
  {
   "cell_type": "code",
   "execution_count": 39,
   "id": "4a26ba99",
   "metadata": {},
   "outputs": [
    {
     "name": "stdout",
     "output_type": "stream",
     "text": [
      "[24912, 2375, 770, 3608, 4429, 18, 45326, 2090, 2372, 348, 704, 385]\n",
      "Total chars in vocab = 200019\n"
     ]
    }
   ],
   "source": [
    "import tiktoken\n",
    "enc = tiktoken.get_encoding(\"o200k_base\") # for gpt 4o\n",
    "print(enc.encode(\"hello world im barney3-Anya_Magçus\"))\n",
    "\n",
    "print('Total chars in vocab =', enc.n_vocab)"
   ]
  },
  {
   "cell_type": "code",
   "execution_count": null,
   "id": "46e38e2b",
   "metadata": {},
   "outputs": [
    {
     "name": "stdout",
     "output_type": "stream",
     "text": [
      "[15339, 1917, 737, 3703, 3520, 18]\n",
      "Total chars in vocab = 100277\n"
     ]
    }
   ],
   "source": [
    "enc2 = tiktoken.get_encoding(\"cl100k_base\")  # for GPT-3.5 / GPT-4-family\n",
    "print(enc2.encode(\"hello world im barney3\"))\n",
    "\n",
    "print('Total chars in vocab =', enc2.n_vocab)"
   ]
  },
  {
   "cell_type": "markdown",
   "id": "1a9bac88",
   "metadata": {},
   "source": [
    "Just for reference: `o200k_base` encoder of OPENAI has 200019 __sub-word__, in contrast to our 65. These tiktoken based encoders do not need API calls and are contained offline within the library.\n",
    "\n",
    "While tiktoken is a subword tokenizer, we will stick with our character level encoder for this video. "
   ]
  },
  {
   "cell_type": "code",
   "execution_count": 53,
   "id": "af81954b",
   "metadata": {},
   "outputs": [
    {
     "name": "stdout",
     "output_type": "stream",
     "text": [
      "torch.Size([1115394]) torch.int64\n",
      "tensor([18, 47, 56, 57, 58,  1, 15, 47, 58, 47, 64, 43, 52, 10,  0, 14, 43, 44,\n",
      "        53, 56, 43,  1, 61, 43,  1, 54, 56, 53, 41, 43, 43, 42,  1, 39, 52, 63,\n",
      "         1, 44, 59, 56, 58, 46, 43, 56,  6,  1, 46, 43, 39, 56,  1, 51, 43,  1,\n",
      "        57, 54, 43, 39, 49,  8,  0,  0, 13, 50, 50, 10,  0, 31, 54, 43, 39, 49,\n",
      "         6,  1, 57, 54, 43, 39, 49,  8,  0,  0, 18, 47, 56, 57, 58,  1, 15, 47,\n",
      "        58, 47, 64, 43, 52, 10,  0, 37, 53, 59])\n"
     ]
    }
   ],
   "source": [
    "data = torch.tensor(encode(text), dtype = torch.long)\n",
    "\n",
    "print(data.shape, data.dtype)\n",
    "print(data[:100]) # this is how it will look like to our GPT"
   ]
  },
  {
   "cell_type": "markdown",
   "id": "b1d7e9ce",
   "metadata": {},
   "source": [
    "Now lets create a test train split:\n",
    "\n",
    "<span style=\"color:#FF0000; font-family: 'Bebas Neue'; font-size: 01em;\">NOTE:</span> Shuffling this sequence is a _bad_ idea. The order of words is significant when it comes to NLP!"
   ]
  },
  {
   "cell_type": "code",
   "execution_count": 58,
   "id": "bfd2e06e",
   "metadata": {},
   "outputs": [
    {
     "data": {
      "text/plain": [
       "1003854.6"
      ]
     },
     "execution_count": 58,
     "metadata": {},
     "output_type": "execute_result"
    }
   ],
   "source": [
    "(0.9*(len(data)))"
   ]
  },
  {
   "cell_type": "code",
   "execution_count": 59,
   "id": "8421f600",
   "metadata": {},
   "outputs": [],
   "source": [
    "n = int(0.9*(len(data)))\n",
    "train_data = data[:n]\n",
    "val_data = data[n:]"
   ]
  },
  {
   "cell_type": "markdown",
   "id": "c976fdce",
   "metadata": {},
   "source": [
    "### Training the transformer (TF)\n",
    "\n",
    "We never actually feed in the entire dataset into the TF, as it is too computationally expensive. It is only a chunk (`block_size` or `context_length`). Consider this:"
   ]
  },
  {
   "cell_type": "code",
   "execution_count": 61,
   "id": "4830a580",
   "metadata": {},
   "outputs": [
    {
     "data": {
      "text/plain": [
       "tensor([18, 47, 56, 57, 58,  1, 15, 47, 58])"
      ]
     },
     "execution_count": 61,
     "metadata": {},
     "output_type": "execute_result"
    }
   ],
   "source": [
    "block_size = 8 # hyperparameter\n",
    "train_data[:block_size+1]"
   ]
  },
  {
   "cell_type": "markdown",
   "id": "8db3f2f6",
   "metadata": {},
   "source": [
    "This above text of `len = block_size` consists of 8 different indications which is why we take `block_size+1`: "
   ]
  },
  {
   "cell_type": "code",
   "execution_count": 73,
   "id": "bf2ba9b6",
   "metadata": {},
   "outputs": [
    {
     "name": "stdout",
     "output_type": "stream",
     "text": [
      "When input is tensor([18]) the target is 47\n",
      "When input is tensor([18, 47]) the target is 56\n",
      "When input is tensor([18, 47, 56]) the target is 57\n",
      "When input is tensor([18, 47, 56, 57]) the target is 58\n",
      "When input is tensor([18, 47, 56, 57, 58]) the target is 1\n",
      "When input is tensor([18, 47, 56, 57, 58,  1]) the target is 15\n",
      "When input is tensor([18, 47, 56, 57, 58,  1, 15]) the target is 47\n",
      "When input is tensor([18, 47, 56, 57, 58,  1, 15, 47]) the target is 58\n",
      "------------- \n",
      "(torch.int64, torch.int64)\n"
     ]
    }
   ],
   "source": [
    "x = train_data[:block_size]\n",
    "y = train_data[1:block_size+1]\n",
    "\n",
    "for i in range(block_size):\n",
    "    context = x[:i+1]\n",
    "    target = y[i]\n",
    "\n",
    "    print(f\"When input is {context} the target is {target}\")\n",
    "\n",
    "print('-------------',f'\\n{x.dtype, y.dtype}')"
   ]
  },
  {
   "cell_type": "markdown",
   "id": "cae23b59",
   "metadata": {},
   "source": [
    "Extracting each layer of this information is essential so that the 'transformer is used to seeing' all lengths (up tp `block_size`) of context when we sample later down!\n",
    "\n",
    "Lets now create minibatches:"
   ]
  }
 ],
 "metadata": {
  "kernelspec": {
   "display_name": "venv",
   "language": "python",
   "name": "python3"
  },
  "language_info": {
   "codemirror_mode": {
    "name": "ipython",
    "version": 3
   },
   "file_extension": ".py",
   "mimetype": "text/x-python",
   "name": "python",
   "nbconvert_exporter": "python",
   "pygments_lexer": "ipython3",
   "version": "3.11.3"
  }
 },
 "nbformat": 4,
 "nbformat_minor": 5
}
