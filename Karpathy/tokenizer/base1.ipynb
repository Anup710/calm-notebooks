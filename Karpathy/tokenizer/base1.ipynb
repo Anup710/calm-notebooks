{
 "cells": [
  {
   "cell_type": "markdown",
   "id": "c5033b8e",
   "metadata": {},
   "source": [
    "# Tokenizer \n",
    "\n",
    "A lot of oddity of LLMs comes from tokenizers, into which we will deep dive today. \n",
    "\n",
    "In little shakespeare nano-gpt, we simply used character level tokenizers. This casues the context length to explode. It is shown that he __complexiety of train time increase quadratically with context length__, hence we are incentivized to have longer token sizes. <br>\n",
    "Sub-word tokenizers are most commonly used, using algorithms such as __Byte pair encoding__. \n",
    "\n",
    "__Tokenization is essentially the process of converting text into sequences of integers and vice versa.__\n",
    "\n",
    "<hr>\n",
    "\n",
    "Tokenization is at the heart of much weirdness of LLMs. Do not brush it off.\n",
    "\n",
    "- Why can't LLM spell words? __Tokenization__.<br>\n",
    "- Why can't LLM do super simple string processing tasks like reversing a string? __Tokenization__.<br>\n",
    "- Why is LLM worse at non-English languages (e.g. Japanese)? __Tokenization__.<br>\n",
    "- Why is LLM bad at simple arithmetic? __Tokenization__.<br>\n",
    "- Why did GPT-2 have more than necessary trouble coding in Python? __Tokenization__.<br>\n",
    "- Why did my LLM abruptly halt when it sees the string \"<|endoftext|>\"? __Tokenization__.<br>\n",
    "- What is this weird warning I get about a \"trailing whitespace\"? __Tokenization__.<br>\n",
    "- Why the LLM break if I ask it about \"[SolidGoldMagikarp](https://deconstructing.ai/deconstructing-ai%E2%84%A2-blog/f/-the-enigma-of-solidgoldmagikarp-ais-strangest-token)\"? __Tokenization__.<br>\n",
    "- Why should I prefer to use YAML over JSON with LLMs? __Tokenization__.<br>\n",
    "- Why is LLM not actually end-to-end language modeling? __Tokenization__.<br>\n",
    "- What is the real root of suffering? __Tokenization__.<br>\n",
    "\n",
    "\n",
    "Experiment with tokenizers here: https://www.google.com/url?q=https%3A%2F%2Ftiktokenizer.vercel.app"
   ]
  },
  {
   "cell_type": "code",
   "execution_count": null,
   "id": "5a5e32d8",
   "metadata": {},
   "outputs": [],
   "source": []
  }
 ],
 "metadata": {
  "kernelspec": {
   "display_name": "Python 3",
   "language": "python",
   "name": "python3"
  },
  "language_info": {
   "name": "python",
   "version": "3.10.11"
  }
 },
 "nbformat": 4,
 "nbformat_minor": 5
}
