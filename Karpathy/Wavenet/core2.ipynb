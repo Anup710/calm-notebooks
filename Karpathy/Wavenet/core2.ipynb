{
 "cells": [
  {
   "cell_type": "code",
   "execution_count": 1,
   "id": "261874c1",
   "metadata": {},
   "outputs": [],
   "source": [
    "import torch \n",
    "import torch.nn as nn \n",
    "import matplotlib.pyplot as plt\n",
    "\n",
    "# to ensure changes in aux_files are reflected dynamically\n",
    "import importlib\n",
    "import aux_files\n",
    "importlib.reload(aux_files)\n",
    "from aux_files import Linear, BatchNorm1d, Tanh, Embedding, Sequential, FlattenConsecutive"
   ]
  },
  {
   "cell_type": "code",
   "execution_count": 2,
   "id": "1dbca0f5",
   "metadata": {},
   "outputs": [],
   "source": [
    "words = open('names.txt').read().splitlines()"
   ]
  },
  {
   "cell_type": "code",
   "execution_count": 3,
   "id": "c61acab8",
   "metadata": {},
   "outputs": [],
   "source": [
    "allchars = sorted(set(''.join(words)))\n",
    "\n",
    "stoi = {s:i+1 for i,s in enumerate(allchars)}\n",
    "stoi['.'] = 0\n",
    "\n",
    "itos = {i:s for s,i in stoi.items()}\n",
    "\n",
    "vocab_size = len(itos)"
   ]
  },
  {
   "cell_type": "code",
   "execution_count": 4,
   "id": "023bbbb9",
   "metadata": {},
   "outputs": [
    {
     "name": "stdout",
     "output_type": "stream",
     "text": [
      "torch.Size([182625, 8]) torch.Size([182625])\n",
      "torch.Size([22655, 8]) torch.Size([22655])\n",
      "torch.Size([22866, 8]) torch.Size([22866])\n"
     ]
    }
   ],
   "source": [
    "# build the dataset\n",
    "block_size = 8 # context length: how many characters do we take to predict the next one?\n",
    "\n",
    "def build_dataset(words):  \n",
    "  X, Y = [], []\n",
    "  \n",
    "  for w in words:\n",
    "    context = [0] * block_size\n",
    "    for ch in w + '.':\n",
    "      ix = stoi[ch]\n",
    "      X.append(context)\n",
    "      Y.append(ix)\n",
    "      context = context[1:] + [ix] # crop and append\n",
    "\n",
    "  X = torch.tensor(X)\n",
    "  Y = torch.tensor(Y)\n",
    "  print(X.shape, Y.shape)\n",
    "  return X, Y\n",
    "\n",
    "import random\n",
    "random.seed(42)\n",
    "words_shuffled = words[:]  # shallow copy -- to preserve across runs\n",
    "random.shuffle(words_shuffled)\n",
    "n1 = int(0.8*len(words_shuffled))\n",
    "n2 = int(0.9*len(words_shuffled))\n",
    "\n",
    "Xtr,  Ytr  = build_dataset(words_shuffled[:n1])     # 80%\n",
    "Xdev, Ydev = build_dataset(words_shuffled[n1:n2])   # 10%\n",
    "Xte,  Yte  = build_dataset(words_shuffled[n2:])     # 10%"
   ]
  },
  {
   "cell_type": "code",
   "execution_count": 5,
   "id": "d7203c5e",
   "metadata": {},
   "outputs": [
    {
     "name": "stdout",
     "output_type": "stream",
     "text": [
      "........ --> y\n",
      ".......y --> u\n",
      "......yu --> h\n",
      ".....yuh --> e\n",
      "....yuhe --> n\n",
      "...yuhen --> g\n",
      "..yuheng --> .\n",
      "........ --> d\n",
      ".......d --> i\n",
      "......di --> o\n",
      ".....dio --> n\n",
      "....dion --> d\n",
      "...diond --> r\n",
      "..diondr --> e\n",
      ".diondre --> .\n",
      "........ --> x\n",
      ".......x --> a\n",
      "......xa --> v\n",
      ".....xav --> i\n",
      "....xavi --> e\n"
     ]
    }
   ],
   "source": [
    "for x,y in zip(Xtr[:20], Ytr[:20]):\n",
    "  print(''.join(itos[ix.item()] for ix in x), '-->', itos[y.item()])"
   ]
  },
  {
   "cell_type": "code",
   "execution_count": 9,
   "id": "b19f28eb",
   "metadata": {},
   "outputs": [
    {
     "name": "stdout",
     "output_type": "stream",
     "text": [
      "76579\n"
     ]
    }
   ],
   "source": [
    "g = torch.Generator().manual_seed(3445676536)\n",
    "\n",
    "n_embd = 24 # the dimensionality of the character embedding vectors\n",
    "n_hidden = 128 # the number of neurons in the hidden layer of the MLP\n",
    "batch_size = 32\n",
    "\n",
    "C = torch.randn((vocab_size, n_embd))\n",
    "\n",
    "# changed model\n",
    "model = Sequential([\n",
    "  Embedding(vocab_size, n_embd),\n",
    "  FlattenConsecutive(2), Linear(n_embd * 2, n_hidden, bias=False), BatchNorm1d(n_hidden), Tanh(),\n",
    "  FlattenConsecutive(2), Linear(n_hidden*2, n_hidden, bias=False), BatchNorm1d(n_hidden), Tanh(),\n",
    "  FlattenConsecutive(2), Linear(n_hidden*2, n_hidden, bias=False), BatchNorm1d(n_hidden), Tanh(),\n",
    "  Linear(n_hidden, vocab_size),\n",
    "])\n",
    "parameters = model.parameters()\n",
    "print(sum(p.nelement() for p in parameters))\n",
    "for p in parameters:\n",
    "    p.requires_grad = True"
   ]
  },
  {
   "cell_type": "code",
   "execution_count": 10,
   "id": "c9228bb5",
   "metadata": {},
   "outputs": [
    {
     "name": "stdout",
     "output_type": "stream",
     "text": [
      "iter: 0/200000: loss = 3.5229883193969727\n",
      "iter: 10000/200000: loss = 1.6484172344207764\n",
      "iter: 20000/200000: loss = 1.9477514028549194\n",
      "iter: 30000/200000: loss = 1.9256640672683716\n",
      "iter: 40000/200000: loss = 1.9162728786468506\n",
      "iter: 50000/200000: loss = 1.856515884399414\n",
      "iter: 60000/200000: loss = 2.0389578342437744\n",
      "iter: 70000/200000: loss = 2.3045454025268555\n",
      "iter: 80000/200000: loss = 1.5391825437545776\n",
      "iter: 90000/200000: loss = 1.636509895324707\n",
      "iter: 100000/200000: loss = 2.1913836002349854\n",
      "iter: 110000/200000: loss = 1.791128396987915\n",
      "iter: 120000/200000: loss = 1.9796326160430908\n",
      "iter: 130000/200000: loss = 1.8877861499786377\n",
      "iter: 140000/200000: loss = 1.810704231262207\n",
      "iter: 150000/200000: loss = 1.693022608757019\n",
      "iter: 160000/200000: loss = 1.8980060815811157\n",
      "iter: 170000/200000: loss = 1.501137614250183\n",
      "iter: 180000/200000: loss = 1.6878021955490112\n",
      "iter: 190000/200000: loss = 1.5790033340454102\n"
     ]
    }
   ],
   "source": [
    "# Optimization loop - same as earlier\n",
    "\n",
    "max_iters = 200000\n",
    "lossi = []\n",
    "\n",
    "for iter in range(max_iters):\n",
    "\n",
    "    # define batch\n",
    "    ix = torch.randint(0, Xtr.shape[0], (batch_size,))\n",
    "    Xb, Yb = Xtr[ix], Ytr[ix]\n",
    "\n",
    "    # forward pass\n",
    "    logits = model(Xb)\n",
    "    loss = nn.functional.cross_entropy(logits, Yb)\n",
    "\n",
    "    # backward pass\n",
    "    for p in parameters:\n",
    "        p.grad = None # flush gradients\n",
    "    loss.backward()\n",
    "\n",
    "    # update - SGD\n",
    "    lr = 0.1 if iter < 100000 else 0.01\n",
    "    for p in parameters:\n",
    "        p.data += -lr*p.grad\n",
    "\n",
    "    #print\n",
    "    lossi.append(loss.item())\n",
    "    if iter % 10000 == 0:\n",
    "        print(f'iter: {iter}/{max_iters}: loss = {loss.item()}')\n",
    "    \n",
    "    # if iter == 100:\n",
    "    #     break\n"
   ]
  },
  {
   "cell_type": "code",
   "execution_count": 11,
   "id": "9153793a",
   "metadata": {},
   "outputs": [
    {
     "name": "stdout",
     "output_type": "stream",
     "text": [
      "Embedding : (32, 8, 24)\n",
      "FlattenConsecutive : (32, 4, 48)\n",
      "Linear : (32, 4, 128)\n",
      "BatchNorm1d : (32, 4, 128)\n",
      "Tanh : (32, 4, 128)\n",
      "FlattenConsecutive : (32, 2, 256)\n",
      "Linear : (32, 2, 128)\n",
      "BatchNorm1d : (32, 2, 128)\n",
      "Tanh : (32, 2, 128)\n",
      "FlattenConsecutive : (32, 256)\n",
      "Linear : (32, 128)\n",
      "BatchNorm1d : (32, 128)\n",
      "Tanh : (32, 128)\n",
      "Linear : (32, 27)\n"
     ]
    }
   ],
   "source": [
    "for layer in model.layers:\n",
    "    print(layer.__class__.__name__, ':', tuple(layer.out.shape))"
   ]
  },
  {
   "cell_type": "code",
   "execution_count": 12,
   "id": "a6ab0271",
   "metadata": {},
   "outputs": [
    {
     "data": {
      "image/png": "[encoded data removed]",
      "text/plain": [
       "<Figure size 400x400 with 1 Axes>"
      ]
     },
     "metadata": {},
     "output_type": "display_data"
    }
   ],
   "source": [
    "lossi = torch.tensor(lossi)\n",
    "lossi = lossi.view(-1,1000) # 200,1000\n",
    "\n",
    "plt.figure(figsize=(4,4))\n",
    "plt.plot(lossi.mean(dim = 1)) # 200 points only across all iterations\n",
    "plt.ylabel('Log loss')\n",
    "plt.xlabel('iterations / 1000')\n",
    "plt.show()"
   ]
  },
  {
   "cell_type": "code",
   "execution_count": 13,
   "id": "58b575a8",
   "metadata": {},
   "outputs": [],
   "source": [
    "# to ensure batch norm parameters are not trainined on eval data!\n",
    "for layer in model.layers:\n",
    "    layer.training = False"
   ]
  },
  {
   "cell_type": "code",
   "execution_count": 14,
   "id": "7e5d61b8",
   "metadata": {},
   "outputs": [
    {
     "name": "stdout",
     "output_type": "stream",
     "text": [
      "train 1.783880352973938\n",
      "val 1.9924705028533936\n"
     ]
    }
   ],
   "source": [
    "@torch.no_grad()\n",
    "def split_loss(split):\n",
    "  x,y = {\n",
    "    'train': (Xtr, Ytr),\n",
    "    'val': (Xdev, Ydev),\n",
    "    'test': (Xte, Yte),\n",
    "  }[split]\n",
    "  logits = model(x)\n",
    "  loss = torch.nn.functional.cross_entropy(logits, y)\n",
    "  print(split, loss.item())\n",
    "\n",
    "split_loss('train')\n",
    "split_loss('val')\n"
   ]
  },
  {
   "cell_type": "code",
   "execution_count": 23,
   "id": "676475d6",
   "metadata": {},
   "outputs": [
    {
     "data": {
      "text/plain": [
       "tensor([1.8187, 1.8326, 1.8148, 1.8253, 1.8187, 1.8302, 1.8217, 1.8202, 1.8118,\n",
       "        1.8209])"
      ]
     },
     "execution_count": 23,
     "metadata": {},
     "output_type": "execute_result"
    }
   ],
   "source": [
    "(lossi.mean(dim = 1))[-10:] # latest training losses"
   ]
  },
  {
   "cell_type": "code",
   "execution_count": 24,
   "id": "27375a05",
   "metadata": {},
   "outputs": [
    {
     "name": "stdout",
     "output_type": "stream",
     "text": [
      "ryesiah.\n",
      "denazz.\n",
      "wystin.\n",
      "noalani.\n",
      "cariannah.\n",
      "mylian.\n",
      "ase.\n",
      "joseline.\n",
      "torry.\n",
      "bailee.\n",
      "edibigo.\n",
      "zepper.\n",
      "mathil.\n",
      "brisee.\n",
      "paubash.\n",
      "gileanovarias.\n",
      "bohder.\n",
      "deciah.\n",
      "kareni.\n",
      "camar.\n"
     ]
    }
   ],
   "source": [
    "# sample from the model\n",
    "for _ in range(20):\n",
    "    \n",
    "    out = []\n",
    "    context = [0] * block_size # initialize with all ...\n",
    "    while True:\n",
    "      # forward pass the neural net\n",
    "      logits = model(torch.tensor([context]))\n",
    "      probs = torch.nn.functional.softmax(logits, dim=1)\n",
    "      # sample from the distribution\n",
    "      ix = torch.multinomial(probs, num_samples=1).item()\n",
    "      # shift the context window and track the samples\n",
    "      context = context[1:] + [ix]\n",
    "      out.append(ix)\n",
    "      # if we sample the special '.' token, break\n",
    "      if ix == 0:\n",
    "        break\n",
    "    \n",
    "    print(''.join(itos[i] for i in out)) # decode and print the generated word"
   ]
  },
  {
   "cell_type": "markdown",
   "id": "296d347d",
   "metadata": {},
   "source": [
    "### Performance log: \n",
    "\n",
    "- original (3 char context + 1 hidden layer - 200 neurons; 12k parameters): train 2.06, val: 2.10\n",
    "- context: 3 -> 8 (22k params): train: 1.92, val: 2.02\n",
    "- flat -> tree structure, n_hidden = 68 (22k params): train: 1.94, val: 2.02\n",
    "- tree structure, n_hidden = 128 (76k params): train: 1.78 val: 1.992"
   ]
  },
  {
   "cell_type": "markdown",
   "id": "008ed389",
   "metadata": {},
   "source": [
    "## On Convolution:\n",
    "\n",
    "The [Wavenet paper](https://arxiv.org/pdf/1609.03499) implements convolutions __strictly__ to improve compute efficiency. The tree-like hierarchical architecture is same as what we have implemented. \n",
    "\n",
    "Intuition for convolution: "
   ]
  },
  {
   "cell_type": "code",
   "execution_count": 26,
   "id": "1f67bbb4",
   "metadata": {},
   "outputs": [
    {
     "name": "stdout",
     "output_type": "stream",
     "text": [
      "........ --> d\n",
      ".......d --> i\n",
      "......di --> o\n",
      ".....dio --> n\n",
      "....dion --> d\n",
      "...diond --> r\n",
      "..diondr --> e\n",
      ".diondre --> .\n"
     ]
    }
   ],
   "source": [
    "# consider a single name:\n",
    "for x,y in zip(Xtr[7:15], Ytr[7:15]):\n",
    "  print(''.join(itos[ix.item()] for ix in x), '-->', itos[y.item()])"
   ]
  },
  {
   "cell_type": "code",
   "execution_count": 27,
   "id": "0a7b5ff3",
   "metadata": {},
   "outputs": [
    {
     "data": {
      "text/plain": [
       "torch.Size([1, 27])"
      ]
     },
     "execution_count": 27,
     "metadata": {},
     "output_type": "execute_result"
    }
   ],
   "source": [
    "# forward a single example:\n",
    "logits = model(Xtr[[7]])\n",
    "logits.shape"
   ]
  },
  {
   "cell_type": "code",
   "execution_count": 28,
   "id": "5d61161e",
   "metadata": {},
   "outputs": [
    {
     "data": {
      "text/plain": [
       "torch.Size([8, 27])"
      ]
     },
     "execution_count": 28,
     "metadata": {},
     "output_type": "execute_result"
    }
   ],
   "source": [
    "# forward all of them\n",
    "logits = torch.zeros(8, 27)\n",
    "for i in range(8):\n",
    "  logits[i] = model(Xtr[[7+i]])\n",
    "logits.shape"
   ]
  },
  {
   "cell_type": "markdown",
   "id": "67d066f1",
   "metadata": {},
   "source": [
    "So basically we call our model 8 times to forward a point through it and convolution presents a 'sliding' mechanism which performs these operations __without explicit model call for each__ datapoint. \n",
    "\n",
    "So convolution plays role of a efficient 'equivalent of the for loop'."
   ]
  },
  {
   "cell_type": "markdown",
   "id": "119c298c",
   "metadata": {},
   "source": [
    "# Conclusion and open areas:\n",
    "\n",
    "- We obv have many hard coded hyperparameters (n_hidden, batch_size, embd_dim etc) over which we are manually trying permutations. This is less than ideal and we would normally have grids of hyperparameters to search over for the optimum set.\n",
    "\n",
    "- Play around with initialization, different optimization algos\n",
    "\n",
    "- How to deploy this into production? <br>\n",
    "Usually you tinker with shapes, dimensions etc in a jupyter nb and then copy it finally to a single .py file to execute into production. I have to look this up. \n"
   ]
  }
 ],
 "metadata": {
  "kernelspec": {
   "display_name": "Python 3",
   "language": "python",
   "name": "python3"
  },
  "language_info": {
   "codemirror_mode": {
    "name": "ipython",
    "version": 3
   },
   "file_extension": ".py",
   "mimetype": "text/x-python",
   "name": "python",
   "nbconvert_exporter": "python",
   "pygments_lexer": "ipython3",
   "version": "3.12.4"
  }
 },
 "nbformat": 4,
 "nbformat_minor": 5
}
