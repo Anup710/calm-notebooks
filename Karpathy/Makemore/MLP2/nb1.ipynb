{
 "cells": [
  {
   "cell_type": "markdown",
   "id": "36c50cd7",
   "metadata": {},
   "source": [
    "# MLP: Activations and Gradients\n",
    "\n",
    "After contructing a basic neural network in the previous folder, we now want to progress toward more complex models such as RNNs, GRU, LSTM etc. Before that we want to develop an intuition on role of activations in a NN during training and esp the gradients during backptop. This is essential to understand the historical context in developing advanced architectures. \n",
    "\n",
    "While RNNs are 'universally expressive', we will see that they cannot be optimized using the first order gradient based techniques we apply all the time. Why? $\\rightarrow$ We need to understand activations, gradients anminituae. "
   ]
  },
  {
   "cell_type": "markdown",
   "id": "db3b5363",
   "metadata": {},
   "source": [
    "The intial part of the code remains same with minor readability changes, which I will copy from Karpahty's notebook directly. "
   ]
  },
  {
   "cell_type": "code",
   "execution_count": 1,
   "id": "f508f215",
   "metadata": {},
   "outputs": [],
   "source": [
    "import torch\n",
    "import torch.nn.functional as F\n",
    "import matplotlib.pyplot as plt # for making figures\n",
    "%matplotlib inline"
   ]
  },
  {
   "cell_type": "code",
   "execution_count": 2,
   "id": "5aa2b803",
   "metadata": {},
   "outputs": [],
   "source": [
    "words = open('names.txt', 'r').read().splitlines()"
   ]
  },
  {
   "cell_type": "code",
   "execution_count": 3,
   "id": "868091df",
   "metadata": {},
   "outputs": [],
   "source": [
    "# character mapping \n",
    "stoi = {}\n",
    "allletters = sorted(set(\"\".join(words)))\n",
    "\n",
    "stoi = {s:i+1 for i,s in enumerate(allletters)}\n",
    "stoi['.'] = 0\n",
    "\n",
    "itos = {i:s for s,i in stoi.items()}\n",
    "\n",
    "vocab_size = len(itos)"
   ]
  },
  {
   "cell_type": "code",
   "execution_count": 4,
   "id": "93a0eea1",
   "metadata": {},
   "outputs": [
    {
     "name": "stdout",
     "output_type": "stream",
     "text": [
      "torch.Size([182625, 3]) torch.Size([182625])\n",
      "torch.Size([22655, 3]) torch.Size([22655])\n",
      "torch.Size([22866, 3]) torch.Size([22866])\n"
     ]
    }
   ],
   "source": [
    "# build the dataset\n",
    "block_size = 3 # context length: how many characters do we take to predict the next one?\n",
    "\n",
    "def build_dataset(words):  \n",
    "  X, Y = [], []\n",
    "  \n",
    "  for w in words:\n",
    "    context = [0] * block_size\n",
    "    for ch in w + '.':\n",
    "      ix = stoi[ch]\n",
    "      X.append(context)\n",
    "      Y.append(ix)\n",
    "      context = context[1:] + [ix] # crop and append\n",
    "\n",
    "  X = torch.tensor(X)\n",
    "  Y = torch.tensor(Y)\n",
    "  print(X.shape, Y.shape)\n",
    "  return X, Y\n",
    "\n",
    "import random\n",
    "random.seed(42)\n",
    "random.shuffle(words)\n",
    "n1 = int(0.8*len(words))\n",
    "n2 = int(0.9*len(words))\n",
    "\n",
    "Xtr,  Ytr  = build_dataset(words[:n1])     # 80%\n",
    "Xdev, Ydev = build_dataset(words[n1:n2])   # 10%\n",
    "Xte,  Yte  = build_dataset(words[n2:])     # 10%"
   ]
  },
  {
   "cell_type": "code",
   "execution_count": null,
   "id": "c6858fd8",
   "metadata": {},
   "outputs": [
    {
     "name": "stdout",
     "output_type": "stream",
     "text": [
      "8762\n"
     ]
    }
   ],
   "source": [
    "n_embed = 5\n",
    "n_hidden = 200\n",
    "\n",
    "g = torch.Generator().manual_seed(214748367)\n",
    "# lookup matrix\n",
    "C = torch.randn((vocab_size,n_embed), generator=g)\n",
    "# hidden layer - 100 neurons\n",
    "W1 = torch.randn((block_size*n_embed,n_hidden), generator=g) * 0.2 # use kaiming factor -- see below.\n",
    "b1 = torch.randn((n_hidden,), generator=g) * 0.01\n",
    "# Output layer\n",
    "W2 = torch.randn((n_hidden,vocab_size), generator=g ) * 0.1\n",
    "b2 = torch.randn((vocab_size,), generator=g) * 0\n",
    "\n",
    "parameters = [C, W1, b1, W2, b2]\n",
    "\n",
    "for p in parameters:\n",
    "    p.requires_grad = True\n",
    "\n",
    "print(sum(pm.nelement() for pm in parameters))"
   ]
  },
  {
   "cell_type": "code",
   "execution_count": 18,
   "id": "cdf22c47",
   "metadata": {},
   "outputs": [
    {
     "name": "stdout",
     "output_type": "stream",
     "text": [
      "      0/ 200000: loss = 3.3746\n",
      "  10000/ 200000: loss = 2.5185\n",
      "  20000/ 200000: loss = 2.3660\n",
      "  30000/ 200000: loss = 2.3382\n",
      "  40000/ 200000: loss = 2.3650\n",
      "  50000/ 200000: loss = 2.3431\n",
      "  60000/ 200000: loss = 2.2183\n",
      "  70000/ 200000: loss = 2.1210\n",
      "  80000/ 200000: loss = 1.9901\n",
      "  90000/ 200000: loss = 1.9770\n",
      " 100000/ 200000: loss = 2.4881\n",
      " 110000/ 200000: loss = 2.2999\n",
      " 120000/ 200000: loss = 2.1279\n",
      " 130000/ 200000: loss = 1.8696\n",
      " 140000/ 200000: loss = 2.6417\n",
      " 150000/ 200000: loss = 1.8930\n",
      " 160000/ 200000: loss = 2.0928\n",
      " 170000/ 200000: loss = 2.3200\n",
      " 180000/ 200000: loss = 1.9419\n",
      " 190000/ 200000: loss = 2.5217\n"
     ]
    }
   ],
   "source": [
    "max_steps = 200000\n",
    "batch_size = 32\n",
    "lossi = []\n",
    "\n",
    "for i in range(max_steps):\n",
    "\n",
    "    # construct minibatch \n",
    "    ix = torch.randint(0, Xtr.shape[0], (batch_size,), generator=g)\n",
    "    Xb, Yb = Xtr[ix], Ytr[ix]\n",
    "\n",
    "    # forward pass\n",
    "    emb = C[Xb]\n",
    "    embcat = emb.view(emb.shape[0], -1)\n",
    "    hpreact = embcat @ W1 + b1\n",
    "    h = torch.tanh(hpreact)\n",
    "    logits = h @ W2 + b2\n",
    "    loss = F.cross_entropy(input = logits, target=Yb)\n",
    "\n",
    "    #backpass\n",
    "    for p in parameters:\n",
    "        p.grad = None\n",
    "    loss.backward()\n",
    "\n",
    "    # update\n",
    "    lr = 0.1 if i < 150000 else 0.01 # step learning rate decay\n",
    "    for p in parameters:\n",
    "        p.data -= lr*p.grad\n",
    "    \n",
    "    # track loss\n",
    "    if i % 10000 ==0:\n",
    "        print(f'{i:7d}/{max_steps:7d}: loss = {loss.item():.4f}')\n",
    "    lossi.append(loss.log10().item())"
   ]
  },
  {
   "cell_type": "code",
   "execution_count": 19,
   "id": "7680fc4f",
   "metadata": {},
   "outputs": [
    {
     "name": "stdout",
     "output_type": "stream",
     "text": [
      "2.0903\n",
      "2.1343\n"
     ]
    }
   ],
   "source": [
    "@torch.no_grad() # this decorator disables gradient tracking\n",
    "def split_loss(split):\n",
    "  x,y = {\n",
    "    'train': (Xtr, Ytr),\n",
    "    'val': (Xdev, Ydev),\n",
    "    'test': (Xte, Yte),\n",
    "  }[split]\n",
    "  emb = C[x] # (N, block_size, n_embd)\n",
    "  embcat = emb.view(emb.shape[0], -1) # concat into (N, block_size * n_embd)\n",
    "  h = torch.tanh(embcat @ W1 + b1)\n",
    "  logits = h @ W2+ b2\n",
    "  loss = F.cross_entropy(logits, y)\n",
    "  # print(split, loss.item())\n",
    "  return loss\n",
    "\n",
    "print(f\"{split_loss('train'):.4f}\")\n",
    "print(f\"{split_loss('val'):.4f}\")"
   ]
  },
  {
   "cell_type": "code",
   "execution_count": 20,
   "id": "be25067b",
   "metadata": {},
   "outputs": [
    {
     "data": {
      "image/png": "[encoded data removed]",
      "text/plain": [
       "<Figure size 600x600 with 1 Axes>"
      ]
     },
     "metadata": {},
     "output_type": "display_data"
    }
   ],
   "source": [
    "# log loss - J stick appearance no more after good initial guess for W2, b \n",
    "plt.figure(figsize=(6,6))\n",
    "plt.plot(lossi)\n",
    "plt.show()"
   ]
  },
  {
   "cell_type": "code",
   "execution_count": 31,
   "id": "8960b57c",
   "metadata": {},
   "outputs": [
    {
     "name": "stdout",
     "output_type": "stream",
     "text": [
      "mria.\n",
      "kayah.\n",
      "seel.\n",
      "nihahaley.\n",
      "thrstendramer.\n",
      "zeredielin.\n",
      "shy.\n",
      "jen.\n",
      "edelieananarahayzioh.\n",
      "karin.\n",
      "shobergahimiel.\n",
      "kin.\n",
      "renelina.\n",
      "terofius.\n",
      "kacder.\n",
      "yarleyeh.\n",
      "yuma.\n",
      "mustonde.\n",
      "hilian.\n",
      "yansun.\n"
     ]
    }
   ],
   "source": [
    "# sample from the model\n",
    "g = torch.Generator().manual_seed(2147483647 + 10)\n",
    "\n",
    "for _ in range(20):\n",
    "    \n",
    "    out = []\n",
    "    context = [0] * block_size # initialize with all ...\n",
    "    while True:\n",
    "      emb = C[torch.tensor([context])] # (1,block_size,d)\n",
    "      h = torch.tanh(emb.view(1, -1) @ W1 + b1)\n",
    "      logits = h @ W2 + b2\n",
    "      probs = F.softmax(logits, dim=1)\n",
    "      ix = torch.multinomial(probs, num_samples=1, generator=g).item()\n",
    "      context = context[1:] + [ix]\n",
    "      out.append(ix)\n",
    "      if ix == 0:\n",
    "        break\n",
    "    \n",
    "    print(''.join(itos[i] for i in out))"
   ]
  },
  {
   "cell_type": "markdown",
   "id": "d7624dcd",
   "metadata": {},
   "source": [
    "## Randomly initialized loss\n",
    "\n",
    "We see in randomly initialized W1, b1 etc our initial `NLL loss is ~ 23`. This is too high. Why?\n",
    "\n",
    "Assume equal probabilities for char output. $\\implies P(c) = \\frac{1}{27} \\implies NLL = -\\log(\\frac{1}{27}) = 3.295$"
   ]
  },
  {
   "cell_type": "code",
   "execution_count": 100,
   "id": "5a322eb6",
   "metadata": {},
   "outputs": [
    {
     "data": {
      "text/plain": [
       "tensor(14.5898)"
      ]
     },
     "execution_count": 100,
     "metadata": {},
     "output_type": "execute_result"
    }
   ],
   "source": [
    "# toy example \n",
    "\n",
    "logits2 = torch.randn(4)*10\n",
    "probs2 = torch.softmax(logits2, dim = 0)\n",
    "loss2 = -probs2.log().mean()\n",
    "loss2"
   ]
  },
  {
   "cell_type": "markdown",
   "id": "021223d6",
   "metadata": {},
   "source": [
    "Simply multiplying by 10 can throw off the loss by a lot. So clearly random initialization is unstable. In higher dimension tensors with chain of operations, random init, the exponent can blow up very quickly. \n",
    "\n",
    "__Rather initialize logits equally can smoothen any edge cases!__\n",
    "\n",
    "How to do that? <br>\n",
    "`logits = h @ W2 + b2` $\\implies$ if we initialize b2 = 0, W2 as small values close to zero (by multiplying uniformly with 0.1 or so) logits will become stable and initial loss will drop sharply!"
   ]
  },
  {
   "cell_type": "code",
   "execution_count": 12,
   "id": "1edd0188",
   "metadata": {},
   "outputs": [
    {
     "name": "stdout",
     "output_type": "stream",
     "text": [
      "3.6537060737609863\n"
     ]
    }
   ],
   "source": [
    "b2 = torch.zeros((vocab_size,))\n",
    "# W2 = torch.randn((n_hidden, vocab_size), generator=g)\n",
    "W2 = torch.randn((n_hidden, vocab_size), generator=g)*0.1\n",
    "\n",
    "for i in range(max_steps):\n",
    "\n",
    "    # construct minibatch \n",
    "    ix = torch.randint(0, Xtr.shape[0], (batch_size,), generator=g)\n",
    "    Xb, Yb = Xtr[ix], Ytr[ix]\n",
    "\n",
    "    # forward pass\n",
    "    emb = C[Xb]\n",
    "    embcat = emb.view(emb.shape[0], -1)\n",
    "    hpreact = embcat @ W1 + b1\n",
    "    h = torch.tanh(hpreact)\n",
    "    logits = h @ W2 + b2\n",
    "    loss = F.cross_entropy(input = logits, target=Yb)\n",
    "    \n",
    "    print(loss.item())\n",
    "\n",
    "    break"
   ]
  },
  {
   "cell_type": "code",
   "execution_count": 13,
   "id": "10a901c6",
   "metadata": {},
   "outputs": [
    {
     "data": {
      "text/plain": [
       "tensor([ 0.2761,  0.4772,  0.8766, -2.6415, -0.0283, -0.4598, -0.8176,  0.8232,\n",
       "        -1.0516, -0.8477,  1.0320, -0.1278,  0.1186, -0.8206,  1.3094,  2.8377,\n",
       "         0.3267,  0.1396,  1.2354, -0.2298,  0.6311,  1.5496, -0.8442,  0.8164,\n",
       "        -0.0154, -0.5553,  0.7382], grad_fn=<SelectBackward0>)"
      ]
     },
     "execution_count": 13,
     "metadata": {},
     "output_type": "execute_result"
    }
   ],
   "source": [
    "logits[0] #nicely spread around 1"
   ]
  },
  {
   "cell_type": "markdown",
   "id": "b32c0663",
   "metadata": {},
   "source": [
    "The above code outputs initial loss, since we break at `i = 0` itself. By simply multiplying with 0.1, loss _starts_ at 3.6 instead of 20 or 23 earlier!\n",
    "\n",
    "Also the hockey stick appearance of `lossi` will not happen anymore. Rather it will just be a lot of movement due to batch stochasticity in gradient. \n",
    "\n",
    "## Saturation of tanh \n",
    "\n",
    "Lets view `h`, the output of the hidden layer. "
   ]
  },
  {
   "cell_type": "code",
   "execution_count": 14,
   "id": "7bc12c0e",
   "metadata": {},
   "outputs": [
    {
     "data": {
      "text/plain": [
       "tensor([[-0.7330, -0.9756,  0.9723,  ...,  0.7706, -0.8647,  0.9699],\n",
       "        [ 0.9911, -0.2009,  0.9903,  ..., -0.9648, -0.9999,  0.9999],\n",
       "        [-0.7330, -0.9756,  0.9723,  ...,  0.7706, -0.8647,  0.9699],\n",
       "        ...,\n",
       "        [-0.7330, -0.9756,  0.9723,  ...,  0.7706, -0.8647,  0.9699],\n",
       "        [-0.9301, -0.9829,  0.9913,  ...,  0.9441, -1.0000,  0.9993],\n",
       "        [ 0.1548, -0.9697,  0.9960,  ..., -0.1318, -0.9975,  0.9251]],\n",
       "       grad_fn=<TanhBackward0>)"
      ]
     },
     "execution_count": 14,
     "metadata": {},
     "output_type": "execute_result"
    }
   ],
   "source": [
    "h"
   ]
  },
  {
   "cell_type": "markdown",
   "id": "f868d228",
   "metadata": {},
   "source": [
    "Many values are very close to 1 or -1 (recall graph of `tanh`) since `tanh` is less sensative to very high and very low values and squashes them to 1 and -1 respectively. \n",
    "\n",
    "__Lets visualize this better, using a histogram which shows frequency of extreme values (-1 to 1 divided into 50 buckets)__:"
   ]
  },
  {
   "cell_type": "code",
   "execution_count": 15,
   "id": "83e69528",
   "metadata": {},
   "outputs": [
    {
     "data": {
      "image/png": "[encoded data removed]",
      "text/plain": [
       "<Figure size 300x300 with 1 Axes>"
      ]
     },
     "metadata": {},
     "output_type": "display_data"
    }
   ],
   "source": [
    "h_list = h.view(-1).tolist()\n",
    "plt.figure(figsize=(3,3))\n",
    "plt.hist(h_list, bins=50);"
   ]
  },
  {
   "cell_type": "markdown",
   "id": "ceca1af4",
   "metadata": {},
   "source": [
    "`hpreact` is the variable going into `tanh`! We can visualize that in a histogram similar as above. \n",
    "\n",
    "Now, lets check _how many_ entries in `h` lie on the flat tail: i.e. $|h|>0.99$"
   ]
  },
  {
   "cell_type": "code",
   "execution_count": 16,
   "id": "4a778d9e",
   "metadata": {},
   "outputs": [
    {
     "data": {
      "text/plain": [
       "<matplotlib.image.AxesImage at 0x1d4827f3b90>"
      ]
     },
     "execution_count": 16,
     "metadata": {},
     "output_type": "execute_result"
    },
    {
     "data": {
      "image/png": "[encoded data removed]",
      "text/plain": [
       "<Figure size 1000x2000 with 1 Axes>"
      ]
     },
     "metadata": {},
     "output_type": "display_data"
    }
   ],
   "source": [
    "plt.figure(figsize=(10,20))\n",
    "plt.imshow(h.abs()>0.99, cmap = 'gray', interpolation='nearest')"
   ]
  },
  {
   "cell_type": "markdown",
   "id": "5f958118",
   "metadata": {},
   "source": [
    "White -> $|h| > 0.99$ = True <br>\n",
    "Black -> $|h| > 0.99$ = False\n",
    "\n",
    "__Situation would be worrisome if an entire column was > 0.99 $\\implies$ 'dead neuron'(gradient flow will stop effectively)__\n",
    "\n",
    "Why is this push of `tanh` to extremes bad? \n",
    "\n",
    "Because $\\frac{d}{dx}tanh(x) = 1 - x^{2}$ and if x ~ 1, due to which: (intuitively)\n",
    "- gradient update will be very slow!\n",
    "- more importantly, that logit will cease to have an effect on the loss, since it lies in the 'flat region' of the `tanh` where changing input barely affects the output\n",
    "\n",
    "This phenomenon of a _dead neuron_ can also happen with other non linearities (Sigmois, ReLU). <br>\n",
    "- Ex. For ReLU: if gradient assigned is too high, n.data << 0 $\\implies$ ReLU(n.data) = 0 and stays that way for a long time $\\implies$ dead \n",
    "\n",
    "### To fix this\n",
    "We must stabilize W1, b1 since `hpreact` depends on them. We can do this my multiplying `b1` by 0.01 and `W1` by 0.2 etc and then check the histogram. (__at initialization__)"
   ]
  },
  {
   "cell_type": "code",
   "execution_count": 149,
   "id": "d91cc341",
   "metadata": {},
   "outputs": [
    {
     "data": {
      "image/png": "[encoded data removed]",
      "text/plain": [
       "<Figure size 300x300 with 1 Axes>"
      ]
     },
     "metadata": {},
     "output_type": "display_data"
    }
   ],
   "source": [
    "h_list = h.view(-1).tolist()\n",
    "plt.figure(figsize=(3,3))\n",
    "plt.hist(h_list, bins=50);"
   ]
  },
  {
   "cell_type": "markdown",
   "id": "1d798995",
   "metadata": {},
   "source": [
    "The above __initialization__ avoids extremes (at initialization) and hence, squashing by tanh is not to the extremes.Very few are even above `0.95`, as is evident from the below colormap. "
   ]
  },
  {
   "cell_type": "code",
   "execution_count": 150,
   "id": "5d726104",
   "metadata": {},
   "outputs": [
    {
     "data": {
      "text/plain": [
       "<matplotlib.image.AxesImage at 0x1761825cc50>"
      ]
     },
     "execution_count": 150,
     "metadata": {},
     "output_type": "execute_result"
    },
    {
     "data": {
      "image/png": "[encoded data removed]",
      "text/plain": [
       "<Figure size 1000x2000 with 1 Axes>"
      ]
     },
     "metadata": {},
     "output_type": "display_data"
    }
   ],
   "source": [
    "plt.figure(figsize=(10,20))\n",
    "plt.imshow(h.abs()>0.95, cmap = 'gray', interpolation='nearest')"
   ]
  },
  {
   "cell_type": "markdown",
   "id": "a34974ab",
   "metadata": {},
   "source": [
    "<span style=\"color:#FF0000; font-family: 'Bebas Neue'; font-size: 01em;\">REMARKS:</span>\n",
    "\n",
    "Though these initialization issues may seem to have a relatively small impact in our present case, in deep NNs with hundreds of layers, these losses can snowball quickly while becoming difficult to decouple. \n",
    "\n",
    "\n",
    "## How to choose a scaling factor during initialization? \n",
    "\n",
    "0.1, 0.02 etc being multiplied are just 'magic numbers' which we want to avoid hardcoding. Lets delve deeper into standardizing them. \n",
    "Consider the following simple operations: "
   ]
  },
  {
   "cell_type": "code",
   "execution_count": 45,
   "id": "df9c3b7c",
   "metadata": {},
   "outputs": [
    {
     "name": "stdout",
     "output_type": "stream",
     "text": [
      "tensor(-0.0088) tensor(0.0191)\n",
      "tensor(1.0035) tensor(3.2645)\n"
     ]
    }
   ],
   "source": [
    "x = torch.randn(1000,10)\n",
    "w = torch.randn(10,200)\n",
    "y = x @ w\n",
    "\n",
    "print(x.mean(), y.mean()) # mean of ALL entries\n",
    "print(x.std(), y.std())"
   ]
  },
  {
   "cell_type": "markdown",
   "id": "a44269b3",
   "metadata": {},
   "source": [
    "When we set `x = torch.randn(1000,10)` and `w = torch.randn(10,200)`, 10 is the dimension that matters called: _fan-in dimension_. \n",
    "\n",
    "When x@w is performed, std become $\\sqrt{x_{FanIn}}*\\sigma_{og}$\n",
    "\n",
    "$\\implies \\sigma' = \\sqrt{10}*\\sigma_{og}$"
   ]
  },
  {
   "cell_type": "code",
   "execution_count": 49,
   "id": "e5df8c0c",
   "metadata": {},
   "outputs": [
    {
     "data": {
      "image/png": "[encoded data removed]",
      "text/plain": [
       "<Figure size 1000x300 with 2 Axes>"
      ]
     },
     "metadata": {},
     "output_type": "display_data"
    }
   ],
   "source": [
    "plt.figure(figsize=(10,3))\n",
    "plt.subplot(121)\n",
    "plt.hist(x.view(-1), bins = 50, density=True)\n",
    "\n",
    "plt.subplot(122)\n",
    "plt.hist(y.view(-1), bins = 50, density=True)\n",
    "\n",
    "plt.show()"
   ]
  },
  {
   "cell_type": "markdown",
   "id": "48340376",
   "metadata": {},
   "source": [
    "Similarly, if we see __Kaiming et al.__ , $k = \\sqrt{\\frac{2}{x_{FanIn}}}$ is chosen as the initializing contant (__i.e. std = k__) for ReLU activation. This is available in pytorch as an inbuilt method to init networks as such: \n",
    "\n",
    "[torch.nn.init.kaiming_normal_](https://docs.pytorch.org/docs/stable/nn.init.html#torch.nn.init.kaiming_normal_). On the documentation page:\n",
    "- [Gain](https://docs.pytorch.org/docs/stable/nn.init.html): To 'counter' the squashing effect (tanh, sigmoid) or nullifying (ReLu for x<0) effect and preserve standard dev = 1\n",
    "\n",
    "Also note that: we have been checking stability for _forward pass_, however Kaiming shows this init also ensures a smooth backward pass. \n",
    "\n",
    "<span style=\"color:#FF0000; font-family: 'Bebas Neue'; font-size: 01em;\">NOTE:</span>\n",
    "- Due to broad advances in the filed, exact initialization is not _as important_ anymore with introduction of __residual corrections, normalization layers (batch normalization etc), better optimizers (RMSProp, ADAM)__\n",
    "- Andrej still uses the Kaiming init method, but doesnt bother too much about other aspects of it. "
   ]
  },
  {
   "cell_type": "code",
   "execution_count": 53,
   "id": "d9864f56",
   "metadata": {},
   "outputs": [
    {
     "data": {
      "text/plain": [
       "15"
      ]
     },
     "execution_count": 53,
     "metadata": {},
     "output_type": "execute_result"
    }
   ],
   "source": [
    "fan_in = n_embed*block_size #(5*3)\n",
    "fan_in"
   ]
  },
  {
   "cell_type": "code",
   "execution_count": 56,
   "id": "701ccd62",
   "metadata": {},
   "outputs": [
    {
     "data": {
      "text/plain": [
       "0.43033148291193524"
      ]
     },
     "execution_count": 56,
     "metadata": {},
     "output_type": "execute_result"
    }
   ],
   "source": [
    "gain = 5/3 # for tanh activation from torch.nn.init page \n",
    "k = gain/(fan_in)**0.5 # kaiming init formula \n",
    "k"
   ]
  },
  {
   "cell_type": "markdown",
   "id": "b8f1a539",
   "metadata": {},
   "source": [
    "So ideally, this value $k$ should be multiplied while initializing `W1`:\n",
    "\n",
    "`W1 = torch.randn(n_hidden, vocab_size) * gain/(fan_in)**0.5`\n",
    "\n",
    "<hr>"
   ]
  }
 ],
 "metadata": {
  "kernelspec": {
   "display_name": "Python 3",
   "language": "python",
   "name": "python3"
  },
  "language_info": {
   "codemirror_mode": {
    "name": "ipython",
    "version": 3
   },
   "file_extension": ".py",
   "mimetype": "text/x-python",
   "name": "python",
   "nbconvert_exporter": "python",
   "pygments_lexer": "ipython3",
   "version": "3.12.4"
  }
 },
 "nbformat": 4,
 "nbformat_minor": 5
}
