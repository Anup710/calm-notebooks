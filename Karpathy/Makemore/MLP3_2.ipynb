{
 "cells": [
  {
   "cell_type": "code",
   "execution_count": 1,
   "id": "9ef43b38",
   "metadata": {},
   "outputs": [],
   "source": [
    "import numpy as np\n",
    "import matplotlib.pyplot as plt\n",
    "import torch\n",
    "import torch.nn as nn\n",
    "import torch.nn.functional as F"
   ]
  },
  {
   "cell_type": "code",
   "execution_count": 2,
   "id": "0da6606e",
   "metadata": {},
   "outputs": [],
   "source": [
    "words = open('names.txt', 'r').read().splitlines()"
   ]
  },
  {
   "cell_type": "code",
   "execution_count": 3,
   "id": "83921c4c",
   "metadata": {},
   "outputs": [],
   "source": [
    "# define stoi \n",
    "stoi = {}\n",
    "allletters = sorted(set(\"\".join(words)))\n",
    "\n",
    "stoi = {s:i+1 for i,s in enumerate(allletters)}\n",
    "stoi['.'] = 0\n",
    "\n",
    "itos = {i:s for s,i in stoi.items()}"
   ]
  },
  {
   "cell_type": "code",
   "execution_count": 10,
   "id": "cff282a8",
   "metadata": {},
   "outputs": [
    {
     "name": "stdout",
     "output_type": "stream",
     "text": [
      "emma\n",
      "... -------> e\n",
      "..e -------> m\n",
      ".em -------> m\n",
      "emm -------> a\n",
      "mma -------> .\n",
      "olivia\n",
      "... -------> o\n",
      "..o -------> l\n",
      ".ol -------> i\n",
      "oli -------> v\n",
      "liv -------> i\n",
      "ivi -------> a\n",
      "via -------> .\n",
      "ava\n",
      "... -------> a\n",
      "..a -------> v\n",
      ".av -------> a\n",
      "ava -------> .\n",
      "isabella\n",
      "... -------> i\n",
      "..i -------> s\n",
      ".is -------> a\n",
      "isa -------> b\n",
      "sab -------> e\n",
      "abe -------> l\n",
      "bel -------> l\n",
      "ell -------> a\n",
      "lla -------> .\n",
      "sophia\n",
      "... -------> s\n",
      "..s -------> o\n",
      ".so -------> p\n",
      "sop -------> h\n",
      "oph -------> i\n",
      "phi -------> a\n",
      "hia -------> .\n"
     ]
    }
   ],
   "source": [
    "X , Y = [], []\n",
    "block_size= 3 # can be reset to whatever you like\n",
    "\n",
    "for w in words[:5]:\n",
    "    #'emma'\n",
    "    print(w)\n",
    "    context = [0]*block_size # contains indcies of context letters\n",
    "    for ch in w + '.':\n",
    "        ix = stoi[ch] # 'e' -> 5\n",
    "        Y.append(ix) # 5 is the target\n",
    "        X.append(context)\n",
    "        print(\"\".join(itos[i] for i in context), '------->', ch)\n",
    "        context = context[1:] + [ix] # update context and append new index\n",
    "\n",
    "X = torch.tensor(X)\n",
    "Y = torch.tensor(Y)\n"
   ]
  },
  {
   "cell_type": "code",
   "execution_count": 11,
   "id": "1cb21e0e",
   "metadata": {},
   "outputs": [],
   "source": [
    "g = torch.Generator().manual_seed(214748367)\n",
    "# lookup matrix\n",
    "C = torch.randn((27,2), generator=g)\n",
    "# hidden layer - 100 neurons\n",
    "W1 = torch.randn((6,100), generator=g)\n",
    "b1 = torch.randn((100,), generator=g)\n",
    "# Output layer\n",
    "W2 = torch.randn((100,27), generator=g )\n",
    "b2 = torch.randn((27,), generator=g)\n",
    "\n",
    "parameters = [C, W1, b1, W2, b2]"
   ]
  },
  {
   "cell_type": "code",
   "execution_count": 12,
   "id": "f1b692e4",
   "metadata": {},
   "outputs": [
    {
     "data": {
      "text/plain": [
       "3481"
      ]
     },
     "execution_count": 12,
     "metadata": {},
     "output_type": "execute_result"
    }
   ],
   "source": [
    "sum(p.nelement() for p in parameters) # total no of parameters in the network"
   ]
  },
  {
   "cell_type": "markdown",
   "id": "d659eea8",
   "metadata": {},
   "source": [
    "I have combined many steps from previous notebook, so pl refer that in case of confusion. \n",
    "\n",
    "`X.shape = (32,3)`; 32 is no of datapoints in first 5 words. "
   ]
  },
  {
   "cell_type": "code",
   "execution_count": 15,
   "id": "1d70f2af",
   "metadata": {},
   "outputs": [
    {
     "data": {
      "text/plain": [
       "tensor(20.6727)"
      ]
     },
     "execution_count": 15,
     "metadata": {},
     "output_type": "execute_result"
    }
   ],
   "source": [
    "emb = C[X]\n",
    "H = torch.tanh(emb.view(emb.shape[0], -1) @ W1 + b1) # 32,100\n",
    "probs = torch.softmax(H @ W2 + b2, dim = 1) # 32,27\n",
    "loss = -probs[torch.arange(32), Y].log().mean()\n",
    "loss"
   ]
  }
 ],
 "metadata": {
  "kernelspec": {
   "display_name": "venv",
   "language": "python",
   "name": "python3"
  },
  "language_info": {
   "codemirror_mode": {
    "name": "ipython",
    "version": 3
   },
   "file_extension": ".py",
   "mimetype": "text/x-python",
   "name": "python",
   "nbconvert_exporter": "python",
   "pygments_lexer": "ipython3",
   "version": "3.11.3"
  }
 },
 "nbformat": 4,
 "nbformat_minor": 5
}
