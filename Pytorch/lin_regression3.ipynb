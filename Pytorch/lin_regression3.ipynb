{
 "cells": [
  {
   "cell_type": "markdown",
   "id": "93e0991a",
   "metadata": {},
   "source": [
    "## Linear Regression in pytorch"
   ]
  },
  {
   "cell_type": "code",
   "execution_count": 2,
   "id": "3323c2e1",
   "metadata": {},
   "outputs": [],
   "source": [
    "import torch \n",
    "import torch.nn as nn\n",
    "import numpy as np \n",
    "from sklearn import datasets\n",
    "import matplotlib.pyplot as plt"
   ]
  },
  {
   "cell_type": "markdown",
   "id": "d38a03aa",
   "metadata": {},
   "source": [
    "### Setps: \n",
    "\n",
    "<ol>\n",
    "    <li> Prepare data\n",
    "    <li> Define the model to be used \n",
    "    <li> define loss using existing classes or using an expression for custom loss functions\n",
    "    <li> define optimizing algorithm and iterate \n",
    "</ol>\n"
   ]
  },
  {
   "cell_type": "code",
   "execution_count": 6,
   "id": "af49383c",
   "metadata": {},
   "outputs": [],
   "source": [
    "# create dataset using sklearn (which will be an nparray) and convert it into torch tensors of appropriate shape/size. \n",
    "\n",
    "X_numpy, y_numpy = datasets.make_regression(n_features=1, n_samples=200, noise=25, random_state=42)\n",
    "\n",
    "X = torch.from_numpy(X_numpy.astype(np.float32)) # already a column vector\n",
    "y = torch.from_numpy(y_numpy.astype(np.float32)) # row vector\n",
    "\n",
    "y = y.view(y.shape[0], 1) # column vector\n",
    "\n",
    "n_samples, n_features = X.shape"
   ]
  },
  {
   "cell_type": "code",
   "execution_count": 8,
   "id": "fc2451c6",
   "metadata": {},
   "outputs": [
    {
     "data": {
      "text/plain": [
       "((200, 1), (200,), torch.Size([200, 1]), torch.Size([200, 1]))"
      ]
     },
     "execution_count": 8,
     "metadata": {},
     "output_type": "execute_result"
    }
   ],
   "source": [
    "X_numpy.shape, y_numpy.shape, X.size(), y.size()"
   ]
  },
  {
   "cell_type": "markdown",
   "id": "c9e6dac8",
   "metadata": {},
   "source": [
    "### Model definition"
   ]
  },
  {
   "cell_type": "code",
   "execution_count": 10,
   "id": "2a931802",
   "metadata": {},
   "outputs": [
    {
     "name": "stdout",
     "output_type": "stream",
     "text": [
      "\u001b[1;31mInit signature:\u001b[0m\n",
      "\u001b[0mnn\u001b[0m\u001b[1;33m.\u001b[0m\u001b[0mLinear\u001b[0m\u001b[1;33m(\u001b[0m\u001b[1;33m\n",
      "\u001b[0m    \u001b[0min_features\u001b[0m\u001b[1;33m:\u001b[0m \u001b[0mint\u001b[0m\u001b[1;33m,\u001b[0m\u001b[1;33m\n",
      "\u001b[0m    \u001b[0mout_features\u001b[0m\u001b[1;33m:\u001b[0m \u001b[0mint\u001b[0m\u001b[1;33m,\u001b[0m\u001b[1;33m\n",
      "\u001b[0m    \u001b[0mbias\u001b[0m\u001b[1;33m:\u001b[0m \u001b[0mbool\u001b[0m \u001b[1;33m=\u001b[0m \u001b[1;32mTrue\u001b[0m\u001b[1;33m,\u001b[0m\u001b[1;33m\n",
      "\u001b[0m    \u001b[0mdevice\u001b[0m\u001b[1;33m=\u001b[0m\u001b[1;32mNone\u001b[0m\u001b[1;33m,\u001b[0m\u001b[1;33m\n",
      "\u001b[0m    \u001b[0mdtype\u001b[0m\u001b[1;33m=\u001b[0m\u001b[1;32mNone\u001b[0m\u001b[1;33m,\u001b[0m\u001b[1;33m\n",
      "\u001b[0m\u001b[1;33m)\u001b[0m \u001b[1;33m->\u001b[0m \u001b[1;32mNone\u001b[0m\u001b[1;33m\u001b[0m\u001b[1;33m\u001b[0m\u001b[0m\n",
      "\u001b[1;31mDocstring:\u001b[0m     \n",
      "Applies an affine linear transformation to the incoming data: :math:`y = xA^T + b`.\n",
      "\n",
      "This module supports :ref:`TensorFloat32<tf32_on_ampere>`.\n",
      "\n",
      "On certain ROCm devices, when using float16 inputs this module will use :ref:`different precision<fp16_on_mi200>` for backward.\n",
      "\n",
      "Args:\n",
      "    in_features: size of each input sample\n",
      "    out_features: size of each output sample\n",
      "    bias: If set to ``False``, the layer will not learn an additive bias.\n",
      "        Default: ``True``\n",
      "\n",
      "Shape:\n",
      "    - Input: :math:`(*, H_{in})` where :math:`*` means any number of\n",
      "      dimensions including none and :math:`H_{in} = \\text{in\\_features}`.\n",
      "    - Output: :math:`(*, H_{out})` where all but the last dimension\n",
      "      are the same shape as the input and :math:`H_{out} = \\text{out\\_features}`.\n",
      "\n",
      "Attributes:\n",
      "    weight: the learnable weights of the module of shape\n",
      "        :math:`(\\text{out\\_features}, \\text{in\\_features})`. The values are\n",
      "        initialized from :math:`\\mathcal{U}(-\\sqrt{k}, \\sqrt{k})`, where\n",
      "        :math:`k = \\frac{1}{\\text{in\\_features}}`\n",
      "    bias:   the learnable bias of the module of shape :math:`(\\text{out\\_features})`.\n",
      "            If :attr:`bias` is ``True``, the values are initialized from\n",
      "            :math:`\\mathcal{U}(-\\sqrt{k}, \\sqrt{k})` where\n",
      "            :math:`k = \\frac{1}{\\text{in\\_features}}`\n",
      "\n",
      "Examples::\n",
      "\n",
      "    >>> m = nn.Linear(20, 30)\n",
      "    >>> input = torch.randn(128, 20)\n",
      "    >>> output = m(input)\n",
      "    >>> print(output.size())\n",
      "    torch.Size([128, 30])\n",
      "\u001b[1;31mInit docstring:\u001b[0m Initialize internal Module state, shared by both nn.Module and ScriptModule.\n",
      "\u001b[1;31mFile:\u001b[0m           c:\\users\\an80050181\\appdata\\local\\programs\\python\\python312\\lib\\site-packages\\torch\\nn\\modules\\linear.py\n",
      "\u001b[1;31mType:\u001b[0m           type\n",
      "\u001b[1;31mSubclasses:\u001b[0m     NonDynamicallyQuantizableLinear, LazyLinear, Linear, LinearBn1d, Linear"
     ]
    }
   ],
   "source": [
    "?nn.Linear"
   ]
  },
  {
   "cell_type": "code",
   "execution_count": 11,
   "id": "a63d96a3",
   "metadata": {},
   "outputs": [],
   "source": [
    "# see nn.Linear() documentation as on constructor parameters\n",
    "\n",
    "input_size = n_features # dimension of X\n",
    "output_size = 1 # output y is single dimension\n",
    "\n",
    "model = nn.Linear(in_features=input_size, out_features=output_size, bias = True)"
   ]
  },
  {
   "cell_type": "markdown",
   "id": "edd61ef9",
   "metadata": {},
   "source": [
    "### Loss and optimizer"
   ]
  },
  {
   "cell_type": "code",
   "execution_count": 13,
   "id": "e9456da4",
   "metadata": {},
   "outputs": [],
   "source": [
    "learning_rate = 0.01\n",
    "\n",
    "# mean square error exists already \n",
    "loss_fn = nn.MSELoss() #callable function\n",
    "optimizer = torch.optim.SGD(params=model.parameters(), lr = learning_rate)"
   ]
  },
  {
   "cell_type": "markdown",
   "id": "f6b0e892",
   "metadata": {},
   "source": [
    "### epoch define"
   ]
  },
  {
   "cell_type": "code",
   "execution_count": 16,
   "id": "e6ea440d",
   "metadata": {},
   "outputs": [
    {
     "name": "stdout",
     "output_type": "stream",
     "text": [
      "epoch 0: loss = 833.39794921875\n",
      "epoch 20: loss = 734.3963012695312\n",
      "epoch 40: loss = 684.8690795898438\n",
      "epoch 60: loss = 660.0790405273438\n",
      "epoch 80: loss = 647.6652221679688\n",
      "epoch 100: loss = 641.4462280273438\n",
      "epoch 120: loss = 638.32958984375\n",
      "epoch 140: loss = 636.7672119140625\n",
      "epoch 160: loss = 635.9837036132812\n",
      "epoch 180: loss = 635.5906372070312\n",
      "epoch 200: loss = 635.3934936523438\n",
      "epoch 220: loss = 635.2945556640625\n",
      "epoch 240: loss = 635.2449340820312\n",
      "epoch 260: loss = 635.219970703125\n",
      "epoch 280: loss = 635.2073974609375\n",
      "epoch 300: loss = 635.2012329101562\n",
      "epoch 320: loss = 635.1981201171875\n",
      "epoch 340: loss = 635.1964721679688\n",
      "epoch 360: loss = 635.1956176757812\n",
      "epoch 380: loss = 635.1952514648438\n",
      "epoch 400: loss = 635.195068359375\n",
      "epoch 420: loss = 635.1949462890625\n",
      "epoch 440: loss = 635.1949462890625\n",
      "epoch 460: loss = 635.1949462890625\n",
      "epoch 480: loss = 635.19482421875\n"
     ]
    }
   ],
   "source": [
    "max_iters = 500\n",
    "epoch = 0\n",
    "\n",
    "for epoch in range(max_iters):\n",
    "    \n",
    "    # forward pass\n",
    "    y_pred = model(X)\n",
    "    # loss\n",
    "    loss = loss_fn(y_pred, y)\n",
    "    # backward pass\n",
    "    loss.backward()\n",
    "    #update\n",
    "    optimizer.step()\n",
    "    # gradient flush\n",
    "    optimizer.zero_grad()\n",
    "    # track \n",
    "    if epoch %20 == 0:\n",
    "        print(f'epoch {epoch}: loss = {loss}')"
   ]
  },
  {
   "cell_type": "markdown",
   "id": "a76b55ee",
   "metadata": {},
   "source": [
    "So the least loss is achieved at ~300th iteration approximately. Interesting. "
   ]
  },
  {
   "cell_type": "code",
   "execution_count": 20,
   "id": "f05f65df",
   "metadata": {},
   "outputs": [
    {
     "data": {
      "text/plain": [
       "{'weight': Parameter containing:\n",
       " tensor([[86.8074]], requires_grad=True),\n",
       " 'bias': Parameter containing:\n",
       " tensor([3.5706], requires_grad=True)}"
      ]
     },
     "execution_count": 20,
     "metadata": {},
     "output_type": "execute_result"
    }
   ],
   "source": [
    "model._parameters"
   ]
  },
  {
   "cell_type": "markdown",
   "id": "eaf17c9e",
   "metadata": {},
   "source": [
    "And there we have the equation of the line stored in the _parameters attribute of the model object. the API here is really similar to scikit-learn. "
   ]
  },
  {
   "cell_type": "code",
   "execution_count": 17,
   "id": "e2e1218c",
   "metadata": {},
   "outputs": [
    {
     "data": {
      "image/png": "[encoded data removed]",
      "text/plain": [
       "<Figure size 640x480 with 1 Axes>"
      ]
     },
     "metadata": {},
     "output_type": "display_data"
    }
   ],
   "source": [
    "# plotting\n",
    "\n",
    "predicted_vals = model(X).detach().numpy()\n",
    "\n",
    "plt.plot(X_numpy, y_numpy, 'ro')\n",
    "plt.plot(X_numpy, predicted_vals, 'b-')\n",
    "plt.show()"
   ]
  }
 ],
 "metadata": {
  "kernelspec": {
   "display_name": "Python 3",
   "language": "python",
   "name": "python3"
  },
  "language_info": {
   "codemirror_mode": {
    "name": "ipython",
    "version": 3
   },
   "file_extension": ".py",
   "mimetype": "text/x-python",
   "name": "python",
   "nbconvert_exporter": "python",
   "pygments_lexer": "ipython3",
   "version": "3.12.4"
  }
 },
 "nbformat": 4,
 "nbformat_minor": 5
}
