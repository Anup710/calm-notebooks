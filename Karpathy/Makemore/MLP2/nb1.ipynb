{
 "cells": [
  {
   "cell_type": "markdown",
   "id": "36c50cd7",
   "metadata": {},
   "source": [
    "# MLP: Activations and Gradients\n",
    "\n",
    "After contructing a basic neural network in the previous folder, we now want to progress toward more complex models such as RNNs, GRU, LSTM etc. Before that we want to develop an intuition on role of activations in a NN during training and esp the gradients during backptop. This is essential to understand the historical context in developing advanced architectures. \n",
    "\n",
    "While RNNs are 'universally expressive', we will see that they cannot be optimized using the first order gradient based techniques we apply all the time. Why? $\\rightarrow$ We need to understand activations, gradients anminituae. "
   ]
  },
  {
   "cell_type": "markdown",
   "id": "db3b5363",
   "metadata": {},
   "source": [
    "The intial part of the code remains same with minor readability changes, which I will copy from Karpahty's notebook directly. "
   ]
  },
  {
   "cell_type": "code",
   "execution_count": 1,
   "id": "f508f215",
   "metadata": {},
   "outputs": [],
   "source": [
    "import torch\n",
    "import torch.nn.functional as F\n",
    "import matplotlib.pyplot as plt # for making figures\n",
    "%matplotlib inline"
   ]
  },
  {
   "cell_type": "code",
   "execution_count": 3,
   "id": "5aa2b803",
   "metadata": {},
   "outputs": [],
   "source": [
    "words = open('names.txt', 'r').read().splitlines()"
   ]
  },
  {
   "cell_type": "code",
   "execution_count": 6,
   "id": "868091df",
   "metadata": {},
   "outputs": [],
   "source": [
    "# character mapping \n",
    "stoi = {}\n",
    "allletters = sorted(set(\"\".join(words)))\n",
    "\n",
    "stoi = {s:i+1 for i,s in enumerate(allletters)}\n",
    "stoi['.'] = 0\n",
    "\n",
    "itos = {i:s for s,i in stoi.items()}\n",
    "\n",
    "vocab_size = len(itos)"
   ]
  },
  {
   "cell_type": "code",
   "execution_count": 12,
   "id": "93a0eea1",
   "metadata": {},
   "outputs": [
    {
     "name": "stdout",
     "output_type": "stream",
     "text": [
      "torch.Size([182437, 3]) torch.Size([182437])\n",
      "torch.Size([22781, 3]) torch.Size([22781])\n",
      "torch.Size([22928, 3]) torch.Size([22928])\n"
     ]
    }
   ],
   "source": [
    "# build the dataset\n",
    "block_size = 3 # context length: how many characters do we take to predict the next one?\n",
    "\n",
    "def build_dataset(words):  \n",
    "  X, Y = [], []\n",
    "  \n",
    "  for w in words:\n",
    "    context = [0] * block_size\n",
    "    for ch in w + '.':\n",
    "      ix = stoi[ch]\n",
    "      X.append(context)\n",
    "      Y.append(ix)\n",
    "      context = context[1:] + [ix] # crop and append\n",
    "\n",
    "  X = torch.tensor(X)\n",
    "  Y = torch.tensor(Y)\n",
    "  print(X.shape, Y.shape)\n",
    "  return X, Y\n",
    "\n",
    "import random\n",
    "random.seed(42)\n",
    "random.shuffle(words)\n",
    "n1 = int(0.8*len(words))\n",
    "n2 = int(0.9*len(words))\n",
    "\n",
    "Xtr,  Ytr  = build_dataset(words[:n1])     # 80%\n",
    "Xdev, Ydev = build_dataset(words[n1:n2])   # 10%\n",
    "Xte,  Yte  = build_dataset(words[n2:])     # 10%"
   ]
  },
  {
   "cell_type": "code",
   "execution_count": 146,
   "id": "c6858fd8",
   "metadata": {},
   "outputs": [
    {
     "name": "stdout",
     "output_type": "stream",
     "text": [
      "8762\n"
     ]
    }
   ],
   "source": [
    "n_embed = 5\n",
    "n_hidden = 200\n",
    "\n",
    "g = torch.Generator().manual_seed(214748367)\n",
    "# lookup matrix\n",
    "C = torch.randn((vocab_size,n_embed), generator=g)\n",
    "# hidden layer - 100 neurons\n",
    "W1 = torch.randn((block_size*n_embed,n_hidden), generator=g) * 0.2\n",
    "b1 = torch.randn((n_hidden,), generator=g) * 0.01\n",
    "# Output layer\n",
    "W2 = torch.randn((n_hidden,vocab_size), generator=g ) * 0.1\n",
    "b2 = torch.randn((vocab_size,), generator=g) * 0\n",
    "\n",
    "parameters = [C, W1, b1, W2, b2]\n",
    "\n",
    "for p in parameters:\n",
    "    p.requires_grad = True\n",
    "\n",
    "print(sum(pm.nelement() for pm in parameters))"
   ]
  },
  {
   "cell_type": "code",
   "execution_count": 121,
   "id": "cdf22c47",
   "metadata": {},
   "outputs": [
    {
     "name": "stdout",
     "output_type": "stream",
     "text": [
      "      0/ 200000: loss = 3.7341\n",
      "  10000/ 200000: loss = 2.4802\n",
      "  20000/ 200000: loss = 2.2232\n",
      "  30000/ 200000: loss = 2.0042\n",
      "  40000/ 200000: loss = 2.2373\n",
      "  50000/ 200000: loss = 2.5676\n",
      "  60000/ 200000: loss = 2.3403\n",
      "  70000/ 200000: loss = 2.1299\n",
      "  80000/ 200000: loss = 1.9035\n",
      "  90000/ 200000: loss = 2.3467\n",
      " 100000/ 200000: loss = 2.4080\n",
      " 110000/ 200000: loss = 2.2842\n",
      " 120000/ 200000: loss = 2.4485\n",
      " 130000/ 200000: loss = 2.2192\n",
      " 140000/ 200000: loss = 2.2761\n",
      " 150000/ 200000: loss = 2.1240\n",
      " 160000/ 200000: loss = 2.1431\n",
      " 170000/ 200000: loss = 2.1348\n",
      " 180000/ 200000: loss = 2.3454\n",
      " 190000/ 200000: loss = 2.0964\n"
     ]
    }
   ],
   "source": [
    "max_steps = 200000\n",
    "batch_size = 32\n",
    "lossi = []\n",
    "\n",
    "for i in range(max_steps):\n",
    "\n",
    "    # construct minibatch \n",
    "    ix = torch.randint(0, Xtr.shape[0], (batch_size,), generator=g)\n",
    "    Xb, Yb = Xtr[ix], Ytr[ix]\n",
    "\n",
    "    # forward pass\n",
    "    emb = C[Xb]\n",
    "    embcat = emb.view(emb.shape[0], -1)\n",
    "    hpreact = embcat @ W1 + b1\n",
    "    h = torch.tanh(hpreact)\n",
    "    logits = h @ W2 + b2\n",
    "    loss = F.cross_entropy(input = logits, target=Yb)\n",
    "\n",
    "    #backpass\n",
    "    for p in parameters:\n",
    "        p.grad = None\n",
    "    loss.backward()\n",
    "\n",
    "    # update\n",
    "    lr = 0.1 if i < 150000 else 0.01 # step learning rate decay\n",
    "    for p in parameters:\n",
    "        p.data -= lr*p.grad\n",
    "    \n",
    "    # track loss\n",
    "    if i % 10000 ==0:\n",
    "        print(f'{i:7d}/{max_steps:7d}: loss = {loss.item():.4f}')\n",
    "    lossi.append(loss.log10().item())"
   ]
  },
  {
   "cell_type": "code",
   "execution_count": 123,
   "id": "7680fc4f",
   "metadata": {},
   "outputs": [
    {
     "name": "stdout",
     "output_type": "stream",
     "text": [
      "2.0853\n",
      "2.1540\n"
     ]
    }
   ],
   "source": [
    "@torch.no_grad() # this decorator disables gradient tracking\n",
    "def split_loss(split):\n",
    "  x,y = {\n",
    "    'train': (Xtr, Ytr),\n",
    "    'val': (Xdev, Ydev),\n",
    "    'test': (Xte, Yte),\n",
    "  }[split]\n",
    "  emb = C[x] # (N, block_size, n_embd)\n",
    "  embcat = emb.view(emb.shape[0], -1) # concat into (N, block_size * n_embd)\n",
    "  h = torch.tanh(embcat @ W1 + b1)\n",
    "  logits = h @ W2+ b2\n",
    "  loss = F.cross_entropy(logits, y)\n",
    "  # print(split, loss.item())\n",
    "  return loss\n",
    "\n",
    "print(f\"{split_loss('train'):.4f}\")\n",
    "print(f\"{split_loss('val'):.4f}\")"
   ]
  },
  {
   "cell_type": "code",
   "execution_count": 125,
   "id": "be25067b",
   "metadata": {},
   "outputs": [
    {
     "data": {
      "image/png": "[encoded data removed]",
      "text/plain": [
       "<Figure size 600x600 with 1 Axes>"
      ]
     },
     "metadata": {},
     "output_type": "display_data"
    }
   ],
   "source": [
    "# log loss - J stick appearance no more after good initial guess for W2, b \n",
    "plt.figure(figsize=(6,6))\n",
    "plt.plot(lossi)\n",
    "plt.show()"
   ]
  },
  {
   "cell_type": "code",
   "execution_count": 31,
   "id": "8960b57c",
   "metadata": {},
   "outputs": [
    {
     "name": "stdout",
     "output_type": "stream",
     "text": [
      "mria.\n",
      "kayah.\n",
      "seel.\n",
      "nihahaley.\n",
      "thrstendramer.\n",
      "zeredielin.\n",
      "shy.\n",
      "jen.\n",
      "edelieananarahayzioh.\n",
      "karin.\n",
      "shobergahimiel.\n",
      "kin.\n",
      "renelina.\n",
      "terofius.\n",
      "kacder.\n",
      "yarleyeh.\n",
      "yuma.\n",
      "mustonde.\n",
      "hilian.\n",
      "yansun.\n"
     ]
    }
   ],
   "source": [
    "# sample from the model\n",
    "g = torch.Generator().manual_seed(2147483647 + 10)\n",
    "\n",
    "for _ in range(20):\n",
    "    \n",
    "    out = []\n",
    "    context = [0] * block_size # initialize with all ...\n",
    "    while True:\n",
    "      emb = C[torch.tensor([context])] # (1,block_size,d)\n",
    "      h = torch.tanh(emb.view(1, -1) @ W1 + b1)\n",
    "      logits = h @ W2 + b2\n",
    "      probs = F.softmax(logits, dim=1)\n",
    "      ix = torch.multinomial(probs, num_samples=1, generator=g).item()\n",
    "      context = context[1:] + [ix]\n",
    "      out.append(ix)\n",
    "      if ix == 0:\n",
    "        break\n",
    "    \n",
    "    print(''.join(itos[i] for i in out))"
   ]
  },
  {
   "cell_type": "markdown",
   "id": "d7624dcd",
   "metadata": {},
   "source": [
    "## Randomly initialized loss\n",
    "\n",
    "We see in randomly initialized W1, b1 etc our initial `NLL loss is ~ 23`. This is too high. Why?\n",
    "\n",
    "Assume equal probabilities for char output. $\\implies P(c) = \\frac{1}{27} \\implies NLL = -\\log(\\frac{1}{27}) = 3.295$"
   ]
  },
  {
   "cell_type": "code",
   "execution_count": 100,
   "id": "5a322eb6",
   "metadata": {},
   "outputs": [
    {
     "data": {
      "text/plain": [
       "tensor(14.5898)"
      ]
     },
     "execution_count": 100,
     "metadata": {},
     "output_type": "execute_result"
    }
   ],
   "source": [
    "# toy example \n",
    "\n",
    "logits2 = torch.randn(4)*10\n",
    "probs2 = torch.softmax(logits2, dim = 0)\n",
    "loss2 = -probs2.log().mean()\n",
    "loss2"
   ]
  },
  {
   "cell_type": "markdown",
   "id": "021223d6",
   "metadata": {},
   "source": [
    "Simply multiplying by 10 can throw off the loss by a lot. So clearly random initialization is unstable. In higher dimension tensors with chain of operations, random init, the exponent can blow up very quickly. \n",
    "\n",
    "__Rather initialize logits equally can smoothen any edge cases!__\n",
    "\n",
    "How to do that? <br>\n",
    "`logits = h @ W2 + b2` $\\implies$ if we initialize b2 = 0, W2 as small values close to zero (by multiplying uniformly with 0.1 or so) logits will become stable and initial loss will drop sharply!"
   ]
  },
  {
   "cell_type": "code",
   "execution_count": 148,
   "id": "1edd0188",
   "metadata": {},
   "outputs": [
    {
     "name": "stdout",
     "output_type": "stream",
     "text": [
      "3.7136189937591553\n"
     ]
    }
   ],
   "source": [
    "b2 = torch.zeros((vocab_size,))\n",
    "# W2 = torch.randn((n_hidden, vocab_size), generator=g)\n",
    "W2 = torch.randn((n_hidden, vocab_size), generator=g)*0.1\n",
    "\n",
    "for i in range(max_steps):\n",
    "\n",
    "    # construct minibatch \n",
    "    ix = torch.randint(0, Xtr.shape[0], (batch_size,), generator=g)\n",
    "    Xb, Yb = Xtr[ix], Ytr[ix]\n",
    "\n",
    "    # forward pass\n",
    "    emb = C[Xb]\n",
    "    embcat = emb.view(emb.shape[0], -1)\n",
    "    hpreact = embcat @ W1 + b1\n",
    "    h = torch.tanh(hpreact)\n",
    "    logits = h @ W2 + b2\n",
    "    loss = F.cross_entropy(input = logits, target=Yb)\n",
    "    \n",
    "    print(loss.item())\n",
    "\n",
    "    break"
   ]
  },
  {
   "cell_type": "code",
   "execution_count": 119,
   "id": "10a901c6",
   "metadata": {},
   "outputs": [
    {
     "data": {
      "text/plain": [
       "tensor([-0.8703, -0.7054, -2.3970,  1.2069,  0.4684, -1.4939, -0.1479, -0.3145,\n",
       "         1.5856, -0.5235,  0.5474,  2.1935, -1.4514,  0.5124, -0.4378,  1.1610,\n",
       "         0.5566,  0.6831,  1.3122,  1.8668,  1.5236, -0.3430,  1.4017,  0.0909,\n",
       "         0.1762,  0.7145, -1.5220], grad_fn=<SelectBackward0>)"
      ]
     },
     "execution_count": 119,
     "metadata": {},
     "output_type": "execute_result"
    }
   ],
   "source": [
    "logits[0] #nicely spread around 1"
   ]
  },
  {
   "cell_type": "markdown",
   "id": "b32c0663",
   "metadata": {},
   "source": [
    "The above code outputs initial loss, since we break at `i = 0` itself. By simply multiplying with 0.1, loss _starts_ at 2.8 instead of 20 or 23 earlier!\n",
    "\n",
    "Also the hockey stick appearance of `lossi` will not happen anymore. Rather it will just be a lot of movement due to batch stochasticity in gradient. \n",
    "\n",
    "## Saturation of tanh \n",
    "\n",
    "Lets view `h`, the output of the hidden layer. "
   ]
  },
  {
   "cell_type": "code",
   "execution_count": 128,
   "id": "7bc12c0e",
   "metadata": {},
   "outputs": [
    {
     "data": {
      "text/plain": [
       "tensor([[ 0.8962, -0.9999,  1.0000,  ...,  0.9757, -0.9738,  0.9997],\n",
       "        [ 0.9978,  0.1534,  0.9999,  ..., -0.3496, -0.9986,  0.9946],\n",
       "        [-0.3368, -0.7857, -0.0107,  ...,  0.9993, -1.0000,  0.9634],\n",
       "        ...,\n",
       "        [ 0.9297, -0.9998,  0.0878,  ...,  1.0000, -0.5465,  0.9995],\n",
       "        [-0.9979, -0.9713,  0.7311,  ...,  0.7774,  0.9779,  0.9983],\n",
       "        [-0.6035,  0.9839,  0.8910,  ..., -0.5241, -0.9975,  0.9890]],\n",
       "       grad_fn=<TanhBackward0>)"
      ]
     },
     "execution_count": 128,
     "metadata": {},
     "output_type": "execute_result"
    }
   ],
   "source": [
    "h"
   ]
  },
  {
   "cell_type": "markdown",
   "id": "f868d228",
   "metadata": {},
   "source": [
    "Many values are very close to 1 or -1 (recall graph of `tanh`) since `tanh` is less sensative to very high and very low values and squashes them to 1 and -1 respectively. \n",
    "\n",
    "__Lets visualize this better, using a histogram which shows frequency of extreme values (-1 to 1 divided into 50 buckets)__:"
   ]
  },
  {
   "cell_type": "code",
   "execution_count": 144,
   "id": "83e69528",
   "metadata": {},
   "outputs": [
    {
     "data": {
      "image/png": "[encoded data removed]",
      "text/plain": [
       "<Figure size 300x300 with 1 Axes>"
      ]
     },
     "metadata": {},
     "output_type": "display_data"
    }
   ],
   "source": [
    "h_list = h.view(-1).tolist()\n",
    "plt.figure(figsize=(3,3))\n",
    "plt.hist(h_list, bins=50);"
   ]
  },
  {
   "cell_type": "markdown",
   "id": "ceca1af4",
   "metadata": {},
   "source": [
    "`hpreact` is the variable going into `tanh`! We can visualize that in a histogram similar as above. \n",
    "\n",
    "Now, lets check _how many_ entries in `h` lie on the flat tail: i.e. $|h|>0.99$"
   ]
  },
  {
   "cell_type": "code",
   "execution_count": 145,
   "id": "4a778d9e",
   "metadata": {},
   "outputs": [
    {
     "data": {
      "text/plain": [
       "<matplotlib.image.AxesImage at 0x1761f72dfa0>"
      ]
     },
     "execution_count": 145,
     "metadata": {},
     "output_type": "execute_result"
    },
    {
     "data": {
      "image/png": "[encoded data removed]",
      "text/plain": [
       "<Figure size 1000x2000 with 1 Axes>"
      ]
     },
     "metadata": {},
     "output_type": "display_data"
    }
   ],
   "source": [
    "plt.figure(figsize=(10,20))\n",
    "plt.imshow(h.abs()>0.99, cmap = 'gray', interpolation='nearest')"
   ]
  },
  {
   "cell_type": "markdown",
   "id": "5f958118",
   "metadata": {},
   "source": [
    "White -> $|h| > 0.99$ = True <br>\n",
    "Black -> $|h| > 0.99$ = False\n",
    "\n",
    "__Situation would be worrisome if an entire column was > 0.99 $\\implies$ 'dead neuron'(gradient flow will stop effectively)__\n",
    "\n",
    "Why is this push of `tanh` to extremes bad? \n",
    "\n",
    "Because $\\frac{d}{dx}tanh(x) = 1 - x^{2}$ and if x ~ 1, due to which: (intuitively)\n",
    "- gradient update will be very slow!\n",
    "- more importantly, that logit will cease to have an effect on the loss, since it lies in the 'flat region' of the `tanh` where changing input barely affects the output\n",
    "\n",
    "This phenomenon of a _dead neuron_ can also happen with other non linearities (Sigmois, ReLU). <br>\n",
    "- Ex. For ReLU: if gradient assigned is too high, n.data << 0 $\\implies$ ReLU(n.data) = 0 and stays that way for a long time $\\implies$ dead \n",
    "\n",
    "### To fix this\n",
    "We must stabilize W1, b1 since `hpreact` depends on them. We can do this my multiplying `b1` by 0.01 and `W1` by 0.2 etc and then check the histogram. (__at initialization__)"
   ]
  },
  {
   "cell_type": "code",
   "execution_count": 149,
   "id": "d91cc341",
   "metadata": {},
   "outputs": [
    {
     "data": {
      "image/png": "[encoded data removed]",
      "text/plain": [
       "<Figure size 300x300 with 1 Axes>"
      ]
     },
     "metadata": {},
     "output_type": "display_data"
    }
   ],
   "source": [
    "h_list = h.view(-1).tolist()\n",
    "plt.figure(figsize=(3,3))\n",
    "plt.hist(h_list, bins=50);"
   ]
  },
  {
   "cell_type": "markdown",
   "id": "1d798995",
   "metadata": {},
   "source": [
    "The above __initialization__ avoids extremes (at initialization) and hence, squashing by tanh is not to the extremes.Very few are even above `0.95`, as is evident from the below colormap. "
   ]
  },
  {
   "cell_type": "code",
   "execution_count": 150,
   "id": "5d726104",
   "metadata": {},
   "outputs": [
    {
     "data": {
      "text/plain": [
       "<matplotlib.image.AxesImage at 0x1761825cc50>"
      ]
     },
     "execution_count": 150,
     "metadata": {},
     "output_type": "execute_result"
    },
    {
     "data": {
      "image/png": "[encoded data removed]",
      "text/plain": [
       "<Figure size 1000x2000 with 1 Axes>"
      ]
     },
     "metadata": {},
     "output_type": "display_data"
    }
   ],
   "source": [
    "plt.figure(figsize=(10,20))\n",
    "plt.imshow(h.abs()>0.95, cmap = 'gray', interpolation='nearest')"
   ]
  }
 ],
 "metadata": {
  "kernelspec": {
   "display_name": "Python 3",
   "language": "python",
   "name": "python3"
  },
  "language_info": {
   "codemirror_mode": {
    "name": "ipython",
    "version": 3
   },
   "file_extension": ".py",
   "mimetype": "text/x-python",
   "name": "python",
   "nbconvert_exporter": "python",
   "pygments_lexer": "ipython3",
   "version": "3.12.4"
  }
 },
 "nbformat": 4,
 "nbformat_minor": 5
}
