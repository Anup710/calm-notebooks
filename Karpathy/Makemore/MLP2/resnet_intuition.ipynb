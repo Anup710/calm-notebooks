{
 "cells": [
  {
   "cell_type": "markdown",
   "id": "7fc1cf7c",
   "metadata": {},
   "source": [
    "# Resnet walkthrough\n",
    "\n",
    "Full code can be found [here, Resnet on MNIST](https://github.com/rasbt/deeplearning-models/blob/master/pytorch_ipynb/cnn/cnn-resnet50-mnist.ipynb). I will extract and paste relevant snippets in this nb to illustrate some points regarding batch normalizaition. "
   ]
  },
  {
   "cell_type": "code",
   "execution_count": null,
   "id": "c6177711",
   "metadata": {},
   "outputs": [],
   "source": [
    "class Bottleneck(nn.Module):\n",
    "    expansion = 4\n",
    "\n",
    "    def __init__(self, inplanes, planes, stride=1, downsample=None):\n",
    "        super(Bottleneck, self).__init__()\n",
    "        self.conv1 = nn.Conv2d(inplanes, planes, kernel_size=1, bias=False)\n",
    "        self.bn1 = nn.BatchNorm2d(planes)\n",
    "        self.conv2 = nn.Conv2d(planes, planes, kernel_size=3, stride=stride,\n",
    "                               padding=1, bias=False)\n",
    "        self.bn2 = nn.BatchNorm2d(planes)\n",
    "        self.conv3 = nn.Conv2d(planes, planes * 4, kernel_size=1, bias=False)\n",
    "        self.bn3 = nn.BatchNorm2d(planes * 4)\n",
    "        self.relu = nn.ReLU(inplace=True)\n",
    "        self.downsample = downsample\n",
    "        self.stride = stride\n",
    "\n",
    "    def forward(self, x):\n",
    "        residual = x\n",
    "        # motif: conv -> bn -> activation \n",
    "        \n",
    "        out = self.conv1(x)\n",
    "        out = self.bn1(out) # includes bias \n",
    "        out = self.relu(out)\n",
    "\n",
    "        out = self.conv2(out)\n",
    "        out = self.bn2(out)\n",
    "        out = self.relu(out)\n",
    "\n",
    "        out = self.conv3(out)\n",
    "        out = self.bn3(out)\n",
    "\n",
    "        if self.downsample is not None:\n",
    "            residual = self.downsample(x)\n",
    "\n",
    "        out += residual\n",
    "        out = self.relu(out)\n",
    "\n",
    "        return out"
   ]
  },
  {
   "cell_type": "markdown",
   "id": "0d8f7aef",
   "metadata": {},
   "source": [
    "The forward pass structure that is followed in defining the 'identity block' (bbuilding block) in the resnet: \n",
    "1. Conv2D layer\n",
    "2. Batch normalization \n",
    "3. Activation \n",
    "4. Loop on 1-2-3 as long as blocks exist!\n",
    "\n",
    "So: It is common to have BN after every linear or conv layer followed by activation. \n",
    "\n",
    "- We can also see the `'he_normal'` initialization, which is pytorch argument for __Kaiming normal__ init. \n",
    "\n",
    "- ```self.conv1 = nn.Conv2d(inplanes, planes, kernel_size=1, bias=False)``` $\\rightarrow$ bias  = False, since internally `bnmeani` is being included while normalizing, rendering an explicit bias declaration redundant. "
   ]
  }
 ],
 "metadata": {
  "kernelspec": {
   "display_name": "Python 3",
   "language": "python",
   "name": "python3"
  },
  "language_info": {
   "name": "python",
   "version": "3.12.4"
  }
 },
 "nbformat": 4,
 "nbformat_minor": 5
}
