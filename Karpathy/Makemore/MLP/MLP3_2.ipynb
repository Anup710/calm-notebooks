{
 "cells": [
  {
   "cell_type": "code",
   "execution_count": 1,
   "id": "9ef43b38",
   "metadata": {},
   "outputs": [],
   "source": [
    "import numpy as np\n",
    "import matplotlib.pyplot as plt\n",
    "import torch\n",
    "import torch.nn as nn\n",
    "import torch.nn.functional as F"
   ]
  },
  {
   "cell_type": "code",
   "execution_count": 2,
   "id": "0da6606e",
   "metadata": {},
   "outputs": [],
   "source": [
    "words = open('names.txt', 'r').read().splitlines()"
   ]
  },
  {
   "cell_type": "code",
   "execution_count": 3,
   "id": "83921c4c",
   "metadata": {},
   "outputs": [],
   "source": [
    "# define stoi \n",
    "stoi = {}\n",
    "allletters = sorted(set(\"\".join(words)))\n",
    "\n",
    "stoi = {s:i+1 for i,s in enumerate(allletters)}\n",
    "stoi['.'] = 0\n",
    "\n",
    "itos = {i:s for s,i in stoi.items()}"
   ]
  },
  {
   "cell_type": "code",
   "execution_count": 4,
   "id": "cff282a8",
   "metadata": {},
   "outputs": [
    {
     "name": "stdout",
     "output_type": "stream",
     "text": [
      "emma\n",
      "... -------> e\n",
      "..e -------> m\n",
      ".em -------> m\n",
      "emm -------> a\n",
      "mma -------> .\n",
      "olivia\n",
      "... -------> o\n",
      "..o -------> l\n",
      ".ol -------> i\n",
      "oli -------> v\n",
      "liv -------> i\n",
      "ivi -------> a\n",
      "via -------> .\n",
      "ava\n",
      "... -------> a\n",
      "..a -------> v\n",
      ".av -------> a\n",
      "ava -------> .\n",
      "isabella\n",
      "... -------> i\n",
      "..i -------> s\n",
      ".is -------> a\n",
      "isa -------> b\n",
      "sab -------> e\n",
      "abe -------> l\n",
      "bel -------> l\n",
      "ell -------> a\n",
      "lla -------> .\n",
      "sophia\n",
      "... -------> s\n",
      "..s -------> o\n",
      ".so -------> p\n",
      "sop -------> h\n",
      "oph -------> i\n",
      "phi -------> a\n",
      "hia -------> .\n"
     ]
    }
   ],
   "source": [
    "X , Y = [], []\n",
    "block_size= 3 # can be reset to whatever you like\n",
    "\n",
    "for w in words[:5]:\n",
    "    #'emma'\n",
    "    print(w)\n",
    "    context = [0]*block_size # contains indcies of context letters\n",
    "    for ch in w + '.':\n",
    "        ix = stoi[ch] # 'e' -> 5\n",
    "        Y.append(ix) # 5 is the target\n",
    "        X.append(context)\n",
    "        print(\"\".join(itos[i] for i in context), '------->', ch)\n",
    "        context = context[1:] + [ix] # update context and append new index\n",
    "\n",
    "X = torch.tensor(X)\n",
    "Y = torch.tensor(Y)\n"
   ]
  },
  {
   "cell_type": "code",
   "execution_count": 30,
   "id": "1cb21e0e",
   "metadata": {},
   "outputs": [],
   "source": [
    "g = torch.Generator().manual_seed(214748367)\n",
    "# lookup matrix\n",
    "C = torch.randn((27,2), generator=g)\n",
    "# hidden layer - 100 neurons\n",
    "W1 = torch.randn((6,100), generator=g)\n",
    "b1 = torch.randn((100,), generator=g)\n",
    "# Output layer\n",
    "W2 = torch.randn((100,27), generator=g )\n",
    "b2 = torch.randn((27,), generator=g)\n",
    "\n",
    "parameters = [C, W1, b1, W2, b2]"
   ]
  },
  {
   "cell_type": "code",
   "execution_count": 31,
   "id": "f1b692e4",
   "metadata": {},
   "outputs": [
    {
     "data": {
      "text/plain": [
       "3481"
      ]
     },
     "execution_count": 31,
     "metadata": {},
     "output_type": "execute_result"
    }
   ],
   "source": [
    "sum(p.nelement() for p in parameters) # total no of parameters in the network"
   ]
  },
  {
   "cell_type": "markdown",
   "id": "d659eea8",
   "metadata": {},
   "source": [
    "I have combined many steps from previous notebook, so pl refer that in case of confusion. \n",
    "\n",
    "`X.shape = (32,3)`; 32 is no of datapoints in first 5 words. "
   ]
  },
  {
   "cell_type": "markdown",
   "id": "94c2522c",
   "metadata": {},
   "source": [
    "using `F.cross_entropy`:"
   ]
  },
  {
   "cell_type": "code",
   "execution_count": 32,
   "id": "057f806a",
   "metadata": {},
   "outputs": [
    {
     "data": {
      "text/plain": [
       "20.672719955444336"
      ]
     },
     "execution_count": 32,
     "metadata": {},
     "output_type": "execute_result"
    }
   ],
   "source": [
    "# implementing F.cross_entropy for efficiency \n",
    "\n",
    "emb = C[X]\n",
    "H = torch.tanh(emb.view(emb.shape[0], -1) @ W1 + b1) # 32,100\n",
    "logits = H @ W2 + b2\n",
    "loss = F.cross_entropy(logits, target=Y)\n",
    "loss.item()"
   ]
  },
  {
   "cell_type": "markdown",
   "id": "ac5c0cb4",
   "metadata": {},
   "source": [
    "Why should we prefer F.cross_entropy over a manual softmax implementation:\n",
    "\n",
    "- intermediate variables are not created, freeing up memory\n",
    "- F.cross_entropy can handle corner cases in a defined way (very low of very high logits -- prevents blowing up to inf)"
   ]
  },
  {
   "cell_type": "code",
   "execution_count": 27,
   "id": "872f6a84",
   "metadata": {},
   "outputs": [],
   "source": [
    "for p in parameters:\n",
    "    p.requires_grad = True"
   ]
  },
  {
   "cell_type": "code",
   "execution_count": 28,
   "id": "8c25b7d0",
   "metadata": {},
   "outputs": [
    {
     "name": "stdout",
     "output_type": "stream",
     "text": [
      "0.2553942799568176\n"
     ]
    }
   ],
   "source": [
    "for  _ in range(1000):\n",
    "    # Forward pass: \n",
    "    emb = C[X]\n",
    "    H = torch.tanh(emb.view(emb.shape[0], -1) @ W1 + b1) # 32,100\n",
    "    logits = H @ W2 + b2\n",
    "    loss = F.cross_entropy(logits, target=Y)\n",
    "    # Back pass\n",
    "    for p in parameters:\n",
    "        p.grad = None\n",
    "    loss.backward()\n",
    "    # update\n",
    "    for p in parameters:\n",
    "        p.data -= 0.1 * p.grad\n",
    "\n",
    "print(loss.item())"
   ]
  },
  {
   "cell_type": "markdown",
   "id": "76d637d4",
   "metadata": {},
   "source": [
    "__Initial loss__: 20.672719955444336<br>\n",
    "__final loss__: 0.2553942799568176\n",
    "\n",
    "Such a huge drop on 1000 iterations is seen because the model is overfitting on the first 5 words, which we have considered for the training so far. <br>\n",
    "Lets check the predicted lables vs actual labels for these 5 words. "
   ]
  },
  {
   "cell_type": "code",
   "execution_count": 34,
   "id": "9c4b3add",
   "metadata": {},
   "outputs": [
    {
     "data": {
      "text/plain": [
       "tensor([ 6,  6, 18,  6,  7,  6,  1,  2,  9,  7,  6,  7,  6,  6,  7,  7,  6,  6,\n",
       "         2,  6,  7, 10,  3,  6, 18,  6,  6,  1,  2, 18,  6,  8])"
      ]
     },
     "execution_count": 34,
     "metadata": {},
     "output_type": "execute_result"
    }
   ],
   "source": [
    "logits.max(dim = 1).indices"
   ]
  },
  {
   "cell_type": "code",
   "execution_count": 35,
   "id": "fcdbbf98",
   "metadata": {},
   "outputs": [
    {
     "data": {
      "text/plain": [
       "tensor([ 5, 13, 13,  1,  0, 15, 12,  9, 22,  9,  1,  0,  1, 22,  1,  0,  9, 19,\n",
       "         1,  2,  5, 12, 12,  1,  0, 19, 15, 16,  8,  9,  1,  0])"
      ]
     },
     "execution_count": 35,
     "metadata": {},
     "output_type": "execute_result"
    }
   ],
   "source": [
    "Y"
   ]
  },
  {
   "cell_type": "markdown",
   "id": "1647d306",
   "metadata": {},
   "source": [
    "Fundamenetally we are not able to make loss as `0` because if we retrace the dataset, `... -> a, e, i` and a lot of other options. i.e. __same input is mapped to multipled output__. So there will always be some non zero loss on the dataset!\n",
    "\n",
    "\n",
    "## Run on full dataset"
   ]
  },
  {
   "cell_type": "code",
   "execution_count": 38,
   "id": "18f0a48f",
   "metadata": {},
   "outputs": [],
   "source": [
    "X , Y = [], []\n",
    "block_size= 3 # can be reset to whatever you like\n",
    "\n",
    "for w in words:\n",
    "    context = [0]*block_size # contains indcies of context letters\n",
    "    for ch in w + '.':\n",
    "        ix = stoi[ch] # 'e' -> 5\n",
    "        Y.append(ix) # 5 is the target\n",
    "        X.append(context)\n",
    "        context = context[1:] + [ix] # update context and append new index\n",
    "\n",
    "X = torch.tensor(X)\n",
    "Y = torch.tensor(Y)\n"
   ]
  },
  {
   "cell_type": "code",
   "execution_count": 45,
   "id": "b072cfcb",
   "metadata": {},
   "outputs": [
    {
     "data": {
      "text/plain": [
       "(torch.Size([228146, 3]), torch.Size([228146]))"
      ]
     },
     "execution_count": 45,
     "metadata": {},
     "output_type": "execute_result"
    }
   ],
   "source": [
    "X.shape, Y.shape"
   ]
  },
  {
   "cell_type": "code",
   "execution_count": 39,
   "id": "10cc9cd7",
   "metadata": {},
   "outputs": [],
   "source": [
    "g = torch.Generator().manual_seed(214748367)\n",
    "# lookup matrix\n",
    "C = torch.randn((27,2), generator=g)\n",
    "# hidden layer - 100 neurons\n",
    "W1 = torch.randn((6,100), generator=g)\n",
    "b1 = torch.randn((100,), generator=g)\n",
    "# Output layer\n",
    "W2 = torch.randn((100,27), generator=g )\n",
    "b2 = torch.randn((27,), generator=g)\n",
    "\n",
    "parameters = [C, W1, b1, W2, b2]"
   ]
  },
  {
   "cell_type": "code",
   "execution_count": 40,
   "id": "7790558f",
   "metadata": {},
   "outputs": [
    {
     "data": {
      "text/plain": [
       "3481"
      ]
     },
     "execution_count": 40,
     "metadata": {},
     "output_type": "execute_result"
    }
   ],
   "source": [
    "sum(p.nelement() for p in parameters) # total no of parameters in the network"
   ]
  },
  {
   "cell_type": "code",
   "execution_count": null,
   "id": "708be878",
   "metadata": {},
   "outputs": [
    {
     "data": {
      "text/plain": [
       "18.43378448486328"
      ]
     },
     "execution_count": 41,
     "metadata": {},
     "output_type": "execute_result"
    }
   ],
   "source": [
    "emb = C[X] # (228146,3,2)\n",
    "H = torch.tanh(emb.view(emb.shape[0], -1) @ W1 + b1) # 228146,100\n",
    "logits = H @ W2 + b2\n",
    "loss = F.cross_entropy(logits, target=Y)\n",
    "loss.item()"
   ]
  },
  {
   "cell_type": "code",
   "execution_count": 42,
   "id": "ace1957f",
   "metadata": {},
   "outputs": [],
   "source": [
    "for p in parameters:\n",
    "    p.requires_grad = True"
   ]
  },
  {
   "cell_type": "code",
   "execution_count": null,
   "id": "3360d39a",
   "metadata": {},
   "outputs": [
    {
     "name": "stdout",
     "output_type": "stream",
     "text": [
      "16.52655601501465\n",
      "11.840333938598633\n",
      "9.973389625549316\n",
      "8.731470108032227\n",
      "7.844998836517334\n",
      "7.036542892456055\n",
      "6.318970203399658\n",
      "5.647314548492432\n",
      "5.120351791381836\n",
      "4.7293548583984375\n",
      "4.479941368103027\n"
     ]
    }
   ],
   "source": [
    "for  iter in range(50):\n",
    "    # Forward pass: \n",
    "    emb = C[X]\n",
    "    H = torch.tanh(emb.view(emb.shape[0], -1) @ W1 + b1) # 228146,100\n",
    "    logits = H @ W2 + b2\n",
    "    loss = F.cross_entropy(logits, target=Y)\n",
    "    # Back pass\n",
    "    for p in parameters:\n",
    "        p.grad = None\n",
    "    loss.backward()\n",
    "    # update\n",
    "    for p in parameters:\n",
    "        p.data -= 0.1 * p.grad\n",
    "    \n",
    "    if iter % 5 ==0:\n",
    "        print(loss.item())\n",
    "\n",
    "print(loss.item())"
   ]
  }
 ],
 "metadata": {
  "kernelspec": {
   "display_name": ".venv",
   "language": "python",
   "name": "python3"
  },
  "language_info": {
   "codemirror_mode": {
    "name": "ipython",
    "version": 3
   },
   "file_extension": ".py",
   "mimetype": "text/x-python",
   "name": "python",
   "nbconvert_exporter": "python",
   "pygments_lexer": "ipython3",
   "version": "3.13.2"
  }
 },
 "nbformat": 4,
 "nbformat_minor": 5
}
