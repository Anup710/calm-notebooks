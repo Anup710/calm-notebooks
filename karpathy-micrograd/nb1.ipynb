{
 "cells": [
  {
   "cell_type": "code",
   "execution_count": 3,
   "metadata": {},
   "outputs": [],
   "source": [
    "import numpy as np \n",
    "import pandas as pd\n",
    "import matplotlib.pyplot as plt\n",
    "%matplotlib inline"
   ]
  },
  {
   "cell_type": "markdown",
   "metadata": {},
   "source": [
    "Lets begin with a review of derivatives."
   ]
  },
  {
   "cell_type": "code",
   "execution_count": 4,
   "metadata": {},
   "outputs": [],
   "source": [
    "def fx(x):\n",
    "    return 3*x**2 -4*x+ 7"
   ]
  },
  {
   "cell_type": "code",
   "execution_count": 5,
   "metadata": {},
   "outputs": [
    {
     "data": {
      "image/png": "[encoded data removed]",
      "text/plain": [
       "<Figure size 640x480 with 1 Axes>"
      ]
     },
     "metadata": {},
     "output_type": "display_data"
    }
   ],
   "source": [
    "xs = np.arange(-5,5,0.2)\n",
    "ys = fx(xs)\n",
    "plt.plot(xs,ys)\n",
    "plt.show()"
   ]
  },
  {
   "cell_type": "code",
   "execution_count": 6,
   "metadata": {},
   "outputs": [
    {
     "name": "stdout",
     "output_type": "stream",
     "text": [
      "14.00003000000538\n"
     ]
    }
   ],
   "source": [
    "h = 0.00001\n",
    "x = 3\n",
    "derivative = (fx(x+h)-fx(x))/h\n",
    "print(derivative)"
   ]
  },
  {
   "cell_type": "code",
   "execution_count": 7,
   "metadata": {},
   "outputs": [
    {
     "name": "stdout",
     "output_type": "stream",
     "text": [
      "slope wrt a =  -3.000000000064062\n"
     ]
    }
   ],
   "source": [
    "# point at which derivative to be calculated\n",
    "a = 2.0\n",
    "b = -3.0\n",
    "c = 10.0\n",
    "\n",
    "# function definition\n",
    "g1 = a*b +c \n",
    "\n",
    "h = 0.00001\n",
    "a+=h\n",
    "\n",
    "g2 = a*b +c \n",
    "\n",
    "slope =  (g2-g1)/h\n",
    "print('slope wrt a = ', slope) \n",
    "\n",
    "# its like extending the x+h definition to multiple dimensions\n",
    "# slope = b, since partial derivative wrt 'a'\n"
   ]
  },
  {
   "cell_type": "markdown",
   "metadata": {},
   "source": [
    "## Dunder functions\n",
    "\n",
    "Function definition of the type def `__add__`(): as compared to def add ():\n",
    "\n",
    "This is a special method (dunder method) used to define the behavior of the + operator for instances of the class.\n",
    "When you use a + b where a and b are objects of the class, Python internally calls a.`__add__`(b).\n",
    "It makes operator overloading possible. \n",
    "\n",
    "__versus__\n",
    "\n",
    "add is just a normal method without any special meaning in Python.\n",
    "You have to explicitly call it like a.add(b).\n",
    "It does not enable operator overloading.\n",
    "i.e. you cannot call a+b where a and b are objects of the same class and expect natural addition. \n"
   ]
  },
  {
   "cell_type": "code",
   "execution_count": 8,
   "metadata": {},
   "outputs": [
    {
     "name": "stdout",
     "output_type": "stream",
     "text": [
      "15\n"
     ]
    }
   ],
   "source": [
    "# example: \n",
    "\n",
    "class MyNumber:\n",
    "    def __init__(self, value):\n",
    "        self.value = value\n",
    "\n",
    "    def __add__(self, other):\n",
    "        return MyNumber(self.value + other.value)\n",
    "\n",
    "a = MyNumber(5)\n",
    "b = MyNumber(10)\n",
    "c = a + b  # Internally calls a.__add__(b)\n",
    "print(c.value)  # Output: 15"
   ]
  },
  {
   "cell_type": "markdown",
   "metadata": {},
   "source": [
    "but if only add is defined:"
   ]
  },
  {
   "cell_type": "code",
   "execution_count": 9,
   "metadata": {},
   "outputs": [
    {
     "ename": "TypeError",
     "evalue": "unsupported operand type(s) for +: 'MyNumber' and 'MyNumber'",
     "output_type": "error",
     "traceback": [
      "\u001b[31m---------------------------------------------------------------------------\u001b[39m",
      "\u001b[31mTypeError\u001b[39m                                 Traceback (most recent call last)",
      "\u001b[36mCell\u001b[39m\u001b[36m \u001b[39m\u001b[32mIn[9]\u001b[39m\u001b[32m, line 10\u001b[39m\n\u001b[32m      8\u001b[39m a = MyNumber(\u001b[32m5\u001b[39m)\n\u001b[32m      9\u001b[39m b = MyNumber(\u001b[32m10\u001b[39m)\n\u001b[32m---> \u001b[39m\u001b[32m10\u001b[39m c = \u001b[43ma\u001b[49m\u001b[43m+\u001b[49m\u001b[43mb\u001b[49m\n\u001b[32m     11\u001b[39m \u001b[38;5;66;03m# c = a.add(b)  # Explicit method call must be done\u001b[39;00m\n\u001b[32m     12\u001b[39m \u001b[38;5;28mprint\u001b[39m(c.value)  \u001b[38;5;66;03m# Output: 15\u001b[39;00m\n",
      "\u001b[31mTypeError\u001b[39m: unsupported operand type(s) for +: 'MyNumber' and 'MyNumber'"
     ]
    }
   ],
   "source": [
    "class MyNumber:\n",
    "    def __init__(self, value):\n",
    "        self.value = value\n",
    "\n",
    "    def add(self, other):\n",
    "        return MyNumber(self.value + other.value)\n",
    "\n",
    "a = MyNumber(5)\n",
    "b = MyNumber(10)\n",
    "c = a+b\n",
    "# c = a.add(b)  # Explicit method call must be done\n",
    "print(c.value)  # Output: 15"
   ]
  },
  {
   "cell_type": "markdown",
   "metadata": {},
   "source": [
    "overloading `+` operator yields error!"
   ]
  },
  {
   "cell_type": "markdown",
   "metadata": {},
   "source": [
    "# Visualising backprop\n",
    "\n",
    "### Step-1: define basic ops\n",
    "\n",
    "Now to visualize the nodes and children and backprop etc in action using grpahs, we define our custom class. It will include special data structures to store value, children and operation performed. "
   ]
  },
  {
   "cell_type": "code",
   "execution_count": 25,
   "metadata": {},
   "outputs": [],
   "source": [
    "class Value:\n",
    "\n",
    "    def __init__(self, data, _children = () , _op = '', label = ''):\n",
    "        self.data = data\n",
    "        self._prev = set(_children)\n",
    "        self._op = _op\n",
    "        self.label = label\n",
    "    \n",
    "    def __repr__(self):\n",
    "        #__repr__ should return a printable representation of the object, most likely one of the ways possible to create this object. See official documentation here\n",
    "        return f\"Value(data={self.data})\"\n",
    "    \n",
    "    def __add__(self, other):\n",
    "        sum = Value(self.data + other.data, (self, other), '+')\n",
    "        return sum\n",
    "    \n",
    "    def __mul__(self, other):\n",
    "        prod = Value(self.data * other.data, (self, other), '*')\n",
    "        return prod\n"
   ]
  },
  {
   "cell_type": "markdown",
   "metadata": {},
   "source": [
    "note that `__add__`, `__mul__` names are fixed, cannot use sum or product or any arbitrary names!\n",
    "\n",
    "`__truediv__` for division and `__floordiv__` for mod operation etc are other functions."
   ]
  },
  {
   "cell_type": "code",
   "execution_count": 26,
   "metadata": {},
   "outputs": [],
   "source": [
    "a = Value(9.0, label='a')\n",
    "b = Value(4.0, label = 'b')\n",
    "c = Value(10.0, label = 'c')\n",
    "\n",
    "p = a +c +b\n",
    "p.label = 'p'"
   ]
  },
  {
   "cell_type": "code",
   "execution_count": 27,
   "metadata": {},
   "outputs": [
    {
     "name": "stdout",
     "output_type": "stream",
     "text": [
      "{Value(data=4.0), Value(data=19.0)} ; operation =  +\n"
     ]
    }
   ],
   "source": [
    "print(p._prev, \"; operation = \",p._op)"
   ]
  },
  {
   "cell_type": "code",
   "execution_count": 32,
   "metadata": {},
   "outputs": [
    {
     "name": "stdout",
     "output_type": "stream",
     "text": [
      "children =  {Value(data=36.0), Value(data=10.0)}\n",
      "operator =  +\n",
      "label =  d\n"
     ]
    }
   ],
   "source": [
    "e = a*b; e.label = 'e' # for better tracing in the graph\n",
    "d = e + c\n",
    "d.label = 'd'\n",
    "\n",
    "print('children = ', d._prev,)\n",
    "print('operator = ', d._op)\n",
    "print('label = ', d.label)"
   ]
  },
  {
   "cell_type": "markdown",
   "metadata": {},
   "source": [
    "## Visualization of nodes and operators\n",
    "\n",
    "using graphviz library and some custom code "
   ]
  },
  {
   "cell_type": "code",
   "execution_count": 29,
   "metadata": {},
   "outputs": [
    {
     "name": "stdout",
     "output_type": "stream",
     "text": [
      "Requirement already satisfied: graphviz in c:\\users\\anup\\desktop\\misc learning\\calm-notebooks\\venv\\lib\\site-packages (0.20.3)\n",
      "Note: you may need to restart the kernel to use updated packages.\n"
     ]
    },
    {
     "name": "stderr",
     "output_type": "stream",
     "text": [
      "\n",
      "[notice] A new release of pip available: 22.3.1 -> 25.0.1\n",
      "[notice] To update, run: python.exe -m pip install --upgrade pip\n"
     ]
    }
   ],
   "source": [
    "pip install graphviz"
   ]
  },
  {
   "cell_type": "code",
   "execution_count": 30,
   "metadata": {},
   "outputs": [],
   "source": [
    "from graphviz import Digraph\n",
    "\n",
    "def trace(root):\n",
    "    nodes, edges = set(), set()\n",
    "    def build(v):\n",
    "        if v not in nodes:\n",
    "            nodes.add(v)\n",
    "            for child in v._prev:\n",
    "                edges.add((child, v))\n",
    "                build(child)\n",
    "    build(root)\n",
    "    return nodes, edges\n",
    "\n",
    "def draw_dot(root):\n",
    "    \"\"\"\n",
    "    format: png | svg | ...\n",
    "    rankdir: TB (top to bottom graph) | LR (left to right)\n",
    "    \"\"\"\n",
    "    dot = Digraph(format='svg', graph_attr={'rankdir': 'LR'}) #, node_attr={'rankdir': 'TB'})\n",
    "    nodes, edges = trace(root)\n",
    "\n",
    "    for n in nodes:\n",
    "        uid = str(id(n))\n",
    "\n",
    "        dot.node(name=uid, label = \"{ %s | data %.4f }\" % (n.label, n.data), shape='record')\n",
    "        if n._op:\n",
    "            dot.node(name=uid + n._op, label=n._op)\n",
    "            dot.edge(uid + n._op, uid)\n",
    "    \n",
    "    for n1, n2 in edges:\n",
    "        dot.edge(str(id(n1)), str(id(n2)) + n2._op)\n",
    "    \n",
    "    return dot"
   ]
  },
  {
   "cell_type": "markdown",
   "metadata": {},
   "source": [
    "Note: Graphviz is an opens source visualizing tool. And we have used its api. Graphviz can be installed from the internet and set it up using the exe file to your system."
   ]
  },
  {
   "cell_type": "code",
   "execution_count": 33,
   "metadata": {},
   "outputs": [
    {
     "data": {
      "image/svg+xml": [
       "<?xml version=\"1.0\" encoding=\"UTF-8\" standalone=\"no\"?>\n",
       "<!DOCTYPE svg PUBLIC \"-//W3C//DTD SVG 1.1//EN\"\n",
       " \"http://www.w3.org/Graphics/SVG/1.1/DTD/svg11.dtd\">\n",
       "<!-- Generated by graphviz version 12.2.1 (20241206.2353)\n",
       " -->\n",
       "<!-- Pages: 1 -->\n",
       "<svg width=\"580pt\" height=\"127pt\"\n",
       " viewBox=\"0.00 0.00 580.25 127.00\" xmlns=\"http://www.w3.org/2000/svg\" xmlns:xlink=\"http://www.w3.org/1999/xlink\">\n",
       "<g id=\"graph0\" class=\"graph\" transform=\"scale(1 1) rotate(0) translate(4 123)\">\n",
       "<polygon fill=\"white\" stroke=\"none\" points=\"-4,4 -4,-123 576.25,-123 576.25,4 -4,4\"/>\n",
       "<!-- 1913840666640 -->\n",
       "<g id=\"node1\" class=\"node\">\n",
       "<title>1913840666640</title>\n",
       "<polygon fill=\"none\" stroke=\"black\" points=\"228.5,-82.5 228.5,-118.5 337,-118.5 337,-82.5 228.5,-82.5\"/>\n",
       "<text text-anchor=\"middle\" x=\"239.5\" y=\"-95.7\" font-family=\"Times New Roman,serif\" font-size=\"14.00\">c</text>\n",
       "<polyline fill=\"none\" stroke=\"black\" points=\"250.5,-83 250.5,-118.5\"/>\n",
       "<text text-anchor=\"middle\" x=\"293.75\" y=\"-95.7\" font-family=\"Times New Roman,serif\" font-size=\"14.00\">data 10.0000</text>\n",
       "</g>\n",
       "<!-- 1913840914192+ -->\n",
       "<g id=\"node4\" class=\"node\">\n",
       "<title>1913840914192+</title>\n",
       "<ellipse fill=\"none\" stroke=\"black\" cx=\"400\" cy=\"-72.5\" rx=\"27\" ry=\"18\"/>\n",
       "<text text-anchor=\"middle\" x=\"400\" y=\"-67.45\" font-family=\"Times New Roman,serif\" font-size=\"14.00\">+</text>\n",
       "</g>\n",
       "<!-- 1913840666640&#45;&gt;1913840914192+ -->\n",
       "<g id=\"edge3\" class=\"edge\">\n",
       "<title>1913840666640&#45;&gt;1913840914192+</title>\n",
       "<path fill=\"none\" stroke=\"black\" d=\"M337.33,-87.48C346.04,-85.37 354.87,-83.22 363.03,-81.24\"/>\n",
       "<polygon fill=\"black\" stroke=\"black\" points=\"363.66,-84.69 372.55,-78.93 362.01,-77.89 363.66,-84.69\"/>\n",
       "</g>\n",
       "<!-- 1913839876816 -->\n",
       "<g id=\"node2\" class=\"node\">\n",
       "<title>1913839876816</title>\n",
       "<polygon fill=\"none\" stroke=\"black\" points=\"0.38,-55.5 0.38,-91.5 102.12,-91.5 102.12,-55.5 0.38,-55.5\"/>\n",
       "<text text-anchor=\"middle\" x=\"11.38\" y=\"-68.7\" font-family=\"Times New Roman,serif\" font-size=\"14.00\">a</text>\n",
       "<polyline fill=\"none\" stroke=\"black\" points=\"22.38,-56 22.38,-91.5\"/>\n",
       "<text text-anchor=\"middle\" x=\"62.25\" y=\"-68.7\" font-family=\"Times New Roman,serif\" font-size=\"14.00\">data 9.0000</text>\n",
       "</g>\n",
       "<!-- 1913839734032* -->\n",
       "<g id=\"node6\" class=\"node\">\n",
       "<title>1913839734032*</title>\n",
       "<ellipse fill=\"none\" stroke=\"black\" cx=\"165.5\" cy=\"-45.5\" rx=\"27\" ry=\"18\"/>\n",
       "<text text-anchor=\"middle\" x=\"165.5\" y=\"-40.45\" font-family=\"Times New Roman,serif\" font-size=\"14.00\">*</text>\n",
       "</g>\n",
       "<!-- 1913839876816&#45;&gt;1913839734032* -->\n",
       "<g id=\"edge4\" class=\"edge\">\n",
       "<title>1913839876816&#45;&gt;1913839734032*</title>\n",
       "<path fill=\"none\" stroke=\"black\" d=\"M102.47,-60.97C111.37,-58.75 120.48,-56.48 128.88,-54.38\"/>\n",
       "<polygon fill=\"black\" stroke=\"black\" points=\"129.49,-57.84 138.34,-52.02 127.79,-51.05 129.49,-57.84\"/>\n",
       "</g>\n",
       "<!-- 1913840914192 -->\n",
       "<g id=\"node3\" class=\"node\">\n",
       "<title>1913840914192</title>\n",
       "<polygon fill=\"none\" stroke=\"black\" points=\"463,-54.5 463,-90.5 572.25,-90.5 572.25,-54.5 463,-54.5\"/>\n",
       "<text text-anchor=\"middle\" x=\"474.38\" y=\"-67.7\" font-family=\"Times New Roman,serif\" font-size=\"14.00\">d</text>\n",
       "<polyline fill=\"none\" stroke=\"black\" points=\"485.75,-55 485.75,-90.5\"/>\n",
       "<text text-anchor=\"middle\" x=\"529\" y=\"-67.7\" font-family=\"Times New Roman,serif\" font-size=\"14.00\">data 46.0000</text>\n",
       "</g>\n",
       "<!-- 1913840914192+&#45;&gt;1913840914192 -->\n",
       "<g id=\"edge1\" class=\"edge\">\n",
       "<title>1913840914192+&#45;&gt;1913840914192</title>\n",
       "<path fill=\"none\" stroke=\"black\" d=\"M427.24,-72.5C434.56,-72.5 442.85,-72.5 451.36,-72.5\"/>\n",
       "<polygon fill=\"black\" stroke=\"black\" points=\"451.1,-76 461.1,-72.5 451.1,-69 451.1,-76\"/>\n",
       "</g>\n",
       "<!-- 1913839734032 -->\n",
       "<g id=\"node5\" class=\"node\">\n",
       "<title>1913839734032</title>\n",
       "<polygon fill=\"none\" stroke=\"black\" points=\"228.5,-27.5 228.5,-63.5 337,-63.5 337,-27.5 228.5,-27.5\"/>\n",
       "<text text-anchor=\"middle\" x=\"239.5\" y=\"-40.7\" font-family=\"Times New Roman,serif\" font-size=\"14.00\">e</text>\n",
       "<polyline fill=\"none\" stroke=\"black\" points=\"250.5,-28 250.5,-63.5\"/>\n",
       "<text text-anchor=\"middle\" x=\"293.75\" y=\"-40.7\" font-family=\"Times New Roman,serif\" font-size=\"14.00\">data 36.0000</text>\n",
       "</g>\n",
       "<!-- 1913839734032&#45;&gt;1913840914192+ -->\n",
       "<g id=\"edge6\" class=\"edge\">\n",
       "<title>1913839734032&#45;&gt;1913840914192+</title>\n",
       "<path fill=\"none\" stroke=\"black\" d=\"M337.33,-58.05C346.04,-60.09 354.87,-62.16 363.03,-64.07\"/>\n",
       "<polygon fill=\"black\" stroke=\"black\" points=\"362.02,-67.43 372.55,-66.3 363.61,-60.61 362.02,-67.43\"/>\n",
       "</g>\n",
       "<!-- 1913839734032*&#45;&gt;1913839734032 -->\n",
       "<g id=\"edge2\" class=\"edge\">\n",
       "<title>1913839734032*&#45;&gt;1913839734032</title>\n",
       "<path fill=\"none\" stroke=\"black\" d=\"M192.94,-45.5C200.16,-45.5 208.31,-45.5 216.68,-45.5\"/>\n",
       "<polygon fill=\"black\" stroke=\"black\" points=\"216.64,-49 226.64,-45.5 216.64,-42 216.64,-49\"/>\n",
       "</g>\n",
       "<!-- 1913839695312 -->\n",
       "<g id=\"node7\" class=\"node\">\n",
       "<title>1913839695312</title>\n",
       "<polygon fill=\"none\" stroke=\"black\" points=\"0,-0.5 0,-36.5 102.5,-36.5 102.5,-0.5 0,-0.5\"/>\n",
       "<text text-anchor=\"middle\" x=\"11.38\" y=\"-13.7\" font-family=\"Times New Roman,serif\" font-size=\"14.00\">b</text>\n",
       "<polyline fill=\"none\" stroke=\"black\" points=\"22.75,-1 22.75,-36.5\"/>\n",
       "<text text-anchor=\"middle\" x=\"62.62\" y=\"-13.7\" font-family=\"Times New Roman,serif\" font-size=\"14.00\">data 4.0000</text>\n",
       "</g>\n",
       "<!-- 1913839695312&#45;&gt;1913839734032* -->\n",
       "<g id=\"edge5\" class=\"edge\">\n",
       "<title>1913839695312&#45;&gt;1913839734032*</title>\n",
       "<path fill=\"none\" stroke=\"black\" d=\"M102.79,-30.66C111.49,-32.75 120.38,-34.89 128.59,-36.86\"/>\n",
       "<polygon fill=\"black\" stroke=\"black\" points=\"127.66,-40.24 138.2,-39.17 129.3,-33.43 127.66,-40.24\"/>\n",
       "</g>\n",
       "</g>\n",
       "</svg>\n"
      ],
      "text/plain": [
       "<graphviz.graphs.Digraph at 0x1bd88c53710>"
      ]
     },
     "execution_count": 33,
     "metadata": {},
     "output_type": "execute_result"
    }
   ],
   "source": [
    "draw_dot(d)"
   ]
  },
  {
   "cell_type": "code",
   "execution_count": null,
   "metadata": {},
   "outputs": [
    {
     "data": {
      "text/plain": [
       "Value(data=-8.0)"
      ]
     },
     "execution_count": 35,
     "metadata": {},
     "output_type": "execute_result"
    }
   ],
   "source": [
    "# Whole chain of variables:\n",
    "\n",
    "a = Value(2.0, label='a')\n",
    "b = Value(-3.0, label = 'b')\n",
    "c = Value(10.0, label = 'c')\n",
    "\n",
    "e = a*b; e.label = 'e' # for better tracing in the graph\n",
    "d = e + c; d.label = 'd'\n",
    "\n",
    "f = Value(-2.0, label='f')\n",
    "\n",
    "L = d * f\n",
    "L"
   ]
  },
  {
   "cell_type": "code",
   "execution_count": 36,
   "metadata": {},
   "outputs": [
    {
     "data": {
      "image/svg+xml": [
       "<?xml version=\"1.0\" encoding=\"UTF-8\" standalone=\"no\"?>\n",
       "<!DOCTYPE svg PUBLIC \"-//W3C//DTD SVG 1.1//EN\"\n",
       " \"http://www.w3.org/Graphics/SVG/1.1/DTD/svg11.dtd\">\n",
       "<!-- Generated by graphviz version 12.2.1 (20241206.2353)\n",
       " -->\n",
       "<!-- Pages: 1 -->\n",
       "<svg width=\"810pt\" height=\"154pt\"\n",
       " viewBox=\"0.00 0.00 810.25 154.00\" xmlns=\"http://www.w3.org/2000/svg\" xmlns:xlink=\"http://www.w3.org/1999/xlink\">\n",
       "<g id=\"graph0\" class=\"graph\" transform=\"scale(1 1) rotate(0) translate(4 150)\">\n",
       "<polygon fill=\"white\" stroke=\"none\" points=\"-4,4 -4,-150 806.25,-150 806.25,4 -4,4\"/>\n",
       "<!-- 1913840897552 -->\n",
       "<g id=\"node1\" class=\"node\">\n",
       "<title>1913840897552</title>\n",
       "<polygon fill=\"none\" stroke=\"black\" points=\"467.5,-109.5 467.5,-145.5 572.25,-145.5 572.25,-109.5 467.5,-109.5\"/>\n",
       "<text text-anchor=\"middle\" x=\"477.75\" y=\"-122.7\" font-family=\"Times New Roman,serif\" font-size=\"14.00\">f</text>\n",
       "<polyline fill=\"none\" stroke=\"black\" points=\"488,-110 488,-145.5\"/>\n",
       "<text text-anchor=\"middle\" x=\"530.12\" y=\"-122.7\" font-family=\"Times New Roman,serif\" font-size=\"14.00\">data &#45;2.0000</text>\n",
       "</g>\n",
       "<!-- 1913840894416* -->\n",
       "<g id=\"node10\" class=\"node\">\n",
       "<title>1913840894416*</title>\n",
       "<ellipse fill=\"none\" stroke=\"black\" cx=\"635.25\" cy=\"-99.5\" rx=\"27\" ry=\"18\"/>\n",
       "<text text-anchor=\"middle\" x=\"635.25\" y=\"-94.45\" font-family=\"Times New Roman,serif\" font-size=\"14.00\">*</text>\n",
       "</g>\n",
       "<!-- 1913840897552&#45;&gt;1913840894416* -->\n",
       "<g id=\"edge9\" class=\"edge\">\n",
       "<title>1913840897552&#45;&gt;1913840894416*</title>\n",
       "<path fill=\"none\" stroke=\"black\" d=\"M572.59,-114.73C581.32,-112.57 590.21,-110.38 598.42,-108.35\"/>\n",
       "<polygon fill=\"black\" stroke=\"black\" points=\"599.16,-111.77 608.02,-105.98 597.48,-104.98 599.16,-111.77\"/>\n",
       "</g>\n",
       "<!-- 1913840985168 -->\n",
       "<g id=\"node2\" class=\"node\">\n",
       "<title>1913840985168</title>\n",
       "<polygon fill=\"none\" stroke=\"black\" points=\"2.62,-55.5 2.62,-91.5 104.38,-91.5 104.38,-55.5 2.62,-55.5\"/>\n",
       "<text text-anchor=\"middle\" x=\"13.62\" y=\"-68.7\" font-family=\"Times New Roman,serif\" font-size=\"14.00\">a</text>\n",
       "<polyline fill=\"none\" stroke=\"black\" points=\"24.62,-56 24.62,-91.5\"/>\n",
       "<text text-anchor=\"middle\" x=\"64.5\" y=\"-68.7\" font-family=\"Times New Roman,serif\" font-size=\"14.00\">data 2.0000</text>\n",
       "</g>\n",
       "<!-- 1913840906064* -->\n",
       "<g id=\"node5\" class=\"node\">\n",
       "<title>1913840906064*</title>\n",
       "<ellipse fill=\"none\" stroke=\"black\" cx=\"170\" cy=\"-45.5\" rx=\"27\" ry=\"18\"/>\n",
       "<text text-anchor=\"middle\" x=\"170\" y=\"-40.45\" font-family=\"Times New Roman,serif\" font-size=\"14.00\">*</text>\n",
       "</g>\n",
       "<!-- 1913840985168&#45;&gt;1913840906064* -->\n",
       "<g id=\"edge5\" class=\"edge\">\n",
       "<title>1913840985168&#45;&gt;1913840906064*</title>\n",
       "<path fill=\"none\" stroke=\"black\" d=\"M104.72,-61.22C114.35,-58.86 124.26,-56.44 133.32,-54.23\"/>\n",
       "<polygon fill=\"black\" stroke=\"black\" points=\"133.9,-57.69 142.78,-51.91 132.24,-50.89 133.9,-57.69\"/>\n",
       "</g>\n",
       "<!-- 1913840909264 -->\n",
       "<g id=\"node3\" class=\"node\">\n",
       "<title>1913840909264</title>\n",
       "<polygon fill=\"none\" stroke=\"black\" points=\"233,-82.5 233,-118.5 341.5,-118.5 341.5,-82.5 233,-82.5\"/>\n",
       "<text text-anchor=\"middle\" x=\"244\" y=\"-95.7\" font-family=\"Times New Roman,serif\" font-size=\"14.00\">c</text>\n",
       "<polyline fill=\"none\" stroke=\"black\" points=\"255,-83 255,-118.5\"/>\n",
       "<text text-anchor=\"middle\" x=\"298.25\" y=\"-95.7\" font-family=\"Times New Roman,serif\" font-size=\"14.00\">data 10.0000</text>\n",
       "</g>\n",
       "<!-- 1913840908112+ -->\n",
       "<g id=\"node8\" class=\"node\">\n",
       "<title>1913840908112+</title>\n",
       "<ellipse fill=\"none\" stroke=\"black\" cx=\"404.5\" cy=\"-72.5\" rx=\"27\" ry=\"18\"/>\n",
       "<text text-anchor=\"middle\" x=\"404.5\" y=\"-67.45\" font-family=\"Times New Roman,serif\" font-size=\"14.00\">+</text>\n",
       "</g>\n",
       "<!-- 1913840909264&#45;&gt;1913840908112+ -->\n",
       "<g id=\"edge7\" class=\"edge\">\n",
       "<title>1913840909264&#45;&gt;1913840908112+</title>\n",
       "<path fill=\"none\" stroke=\"black\" d=\"M341.83,-87.48C350.54,-85.37 359.37,-83.22 367.53,-81.24\"/>\n",
       "<polygon fill=\"black\" stroke=\"black\" points=\"368.16,-84.69 377.05,-78.93 366.51,-77.89 368.16,-84.69\"/>\n",
       "</g>\n",
       "<!-- 1913840906064 -->\n",
       "<g id=\"node4\" class=\"node\">\n",
       "<title>1913840906064</title>\n",
       "<polygon fill=\"none\" stroke=\"black\" points=\"234.12,-27.5 234.12,-63.5 340.38,-63.5 340.38,-27.5 234.12,-27.5\"/>\n",
       "<text text-anchor=\"middle\" x=\"245.12\" y=\"-40.7\" font-family=\"Times New Roman,serif\" font-size=\"14.00\">e</text>\n",
       "<polyline fill=\"none\" stroke=\"black\" points=\"256.12,-28 256.12,-63.5\"/>\n",
       "<text text-anchor=\"middle\" x=\"298.25\" y=\"-40.7\" font-family=\"Times New Roman,serif\" font-size=\"14.00\">data &#45;6.0000</text>\n",
       "</g>\n",
       "<!-- 1913840906064&#45;&gt;1913840908112+ -->\n",
       "<g id=\"edge4\" class=\"edge\">\n",
       "<title>1913840906064&#45;&gt;1913840908112+</title>\n",
       "<path fill=\"none\" stroke=\"black\" d=\"M340.82,-57.81C349.88,-59.94 359.11,-62.1 367.6,-64.09\"/>\n",
       "<polygon fill=\"black\" stroke=\"black\" points=\"366.63,-67.46 377.16,-66.33 368.22,-60.64 366.63,-67.46\"/>\n",
       "</g>\n",
       "<!-- 1913840906064*&#45;&gt;1913840906064 -->\n",
       "<g id=\"edge1\" class=\"edge\">\n",
       "<title>1913840906064*&#45;&gt;1913840906064</title>\n",
       "<path fill=\"none\" stroke=\"black\" d=\"M197.44,-45.5C205.1,-45.5 213.82,-45.5 222.73,-45.5\"/>\n",
       "<polygon fill=\"black\" stroke=\"black\" points=\"222.53,-49 232.53,-45.5 222.53,-42 222.53,-49\"/>\n",
       "</g>\n",
       "<!-- 1913840902480 -->\n",
       "<g id=\"node6\" class=\"node\">\n",
       "<title>1913840902480</title>\n",
       "<polygon fill=\"none\" stroke=\"black\" points=\"0,-0.5 0,-36.5 107,-36.5 107,-0.5 0,-0.5\"/>\n",
       "<text text-anchor=\"middle\" x=\"11.38\" y=\"-13.7\" font-family=\"Times New Roman,serif\" font-size=\"14.00\">b</text>\n",
       "<polyline fill=\"none\" stroke=\"black\" points=\"22.75,-1 22.75,-36.5\"/>\n",
       "<text text-anchor=\"middle\" x=\"64.88\" y=\"-13.7\" font-family=\"Times New Roman,serif\" font-size=\"14.00\">data &#45;3.0000</text>\n",
       "</g>\n",
       "<!-- 1913840902480&#45;&gt;1913840906064* -->\n",
       "<g id=\"edge6\" class=\"edge\">\n",
       "<title>1913840902480&#45;&gt;1913840906064*</title>\n",
       "<path fill=\"none\" stroke=\"black\" d=\"M107.39,-30.97C116.08,-33.02 124.89,-35.1 133.04,-37.02\"/>\n",
       "<polygon fill=\"black\" stroke=\"black\" points=\"132.01,-40.37 142.55,-39.26 133.62,-33.56 132.01,-40.37\"/>\n",
       "</g>\n",
       "<!-- 1913840908112 -->\n",
       "<g id=\"node7\" class=\"node\">\n",
       "<title>1913840908112</title>\n",
       "<polygon fill=\"none\" stroke=\"black\" points=\"468.62,-54.5 468.62,-90.5 571.12,-90.5 571.12,-54.5 468.62,-54.5\"/>\n",
       "<text text-anchor=\"middle\" x=\"480\" y=\"-67.7\" font-family=\"Times New Roman,serif\" font-size=\"14.00\">d</text>\n",
       "<polyline fill=\"none\" stroke=\"black\" points=\"491.38,-55 491.38,-90.5\"/>\n",
       "<text text-anchor=\"middle\" x=\"531.25\" y=\"-67.7\" font-family=\"Times New Roman,serif\" font-size=\"14.00\">data 4.0000</text>\n",
       "</g>\n",
       "<!-- 1913840908112&#45;&gt;1913840894416* -->\n",
       "<g id=\"edge8\" class=\"edge\">\n",
       "<title>1913840908112&#45;&gt;1913840894416*</title>\n",
       "<path fill=\"none\" stroke=\"black\" d=\"M571.59,-84.58C580.59,-86.72 589.79,-88.91 598.28,-90.93\"/>\n",
       "<polygon fill=\"black\" stroke=\"black\" points=\"597.3,-94.3 607.84,-93.21 598.93,-87.49 597.3,-94.3\"/>\n",
       "</g>\n",
       "<!-- 1913840908112+&#45;&gt;1913840908112 -->\n",
       "<g id=\"edge2\" class=\"edge\">\n",
       "<title>1913840908112+&#45;&gt;1913840908112</title>\n",
       "<path fill=\"none\" stroke=\"black\" d=\"M431.8,-72.5C439.43,-72.5 448.11,-72.5 456.96,-72.5\"/>\n",
       "<polygon fill=\"black\" stroke=\"black\" points=\"456.68,-76 466.68,-72.5 456.68,-69 456.68,-76\"/>\n",
       "</g>\n",
       "<!-- 1913840894416 -->\n",
       "<g id=\"node9\" class=\"node\">\n",
       "<title>1913840894416</title>\n",
       "<polygon fill=\"none\" stroke=\"black\" points=\"698.25,-81.5 698.25,-117.5 802.25,-117.5 802.25,-81.5 698.25,-81.5\"/>\n",
       "<text text-anchor=\"middle\" x=\"708.12\" y=\"-94.7\" font-family=\"Times New Roman,serif\" font-size=\"14.00\"> </text>\n",
       "<polyline fill=\"none\" stroke=\"black\" points=\"718,-82 718,-117.5\"/>\n",
       "<text text-anchor=\"middle\" x=\"760.12\" y=\"-94.7\" font-family=\"Times New Roman,serif\" font-size=\"14.00\">data &#45;8.0000</text>\n",
       "</g>\n",
       "<!-- 1913840894416*&#45;&gt;1913840894416 -->\n",
       "<g id=\"edge3\" class=\"edge\">\n",
       "<title>1913840894416*&#45;&gt;1913840894416</title>\n",
       "<path fill=\"none\" stroke=\"black\" d=\"M662.74,-99.5C670.01,-99.5 678.21,-99.5 686.59,-99.5\"/>\n",
       "<polygon fill=\"black\" stroke=\"black\" points=\"686.55,-103 696.55,-99.5 686.55,-96 686.55,-103\"/>\n",
       "</g>\n",
       "</g>\n",
       "</svg>\n"
      ],
      "text/plain": [
       "<graphviz.graphs.Digraph at 0x1bd99d034d0>"
      ]
     },
     "execution_count": 36,
     "metadata": {},
     "output_type": "execute_result"
    }
   ],
   "source": [
    "draw_dot(L)"
   ]
  },
  {
   "cell_type": "markdown",
   "metadata": {},
   "source": [
    "__Recap__:\n",
    "We have been able to build mathematical expressions and visualize them using + and * only so far. This constitutes the forward pass (Loss calculation for each data point). \n",
    "\n",
    "#### Now we will reverse and calculate the gradient along all the intermediate values. (backpass)\n",
    "\n",
    "i.e. dL wrt a,b,c,d,e,f which will eventually come to reflect the weights of the neural networks. "
   ]
  }
 ],
 "metadata": {
  "kernelspec": {
   "display_name": "venv",
   "language": "python",
   "name": "python3"
  },
  "language_info": {
   "codemirror_mode": {
    "name": "ipython",
    "version": 3
   },
   "file_extension": ".py",
   "mimetype": "text/x-python",
   "name": "python",
   "nbconvert_exporter": "python",
   "pygments_lexer": "ipython3",
   "version": "3.11.3"
  }
 },
 "nbformat": 4,
 "nbformat_minor": 2
}
