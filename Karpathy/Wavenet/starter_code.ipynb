{
 "cells": [
  {
   "cell_type": "markdown",
   "id": "631ab47a",
   "metadata": {},
   "source": [
    "# Wavenet\n",
    "\n",
    "In this lecture, we will: <br>\n",
    "1. More characters as the input\n",
    "2. Complexify the architecture instead of the single hidden layer (so 'savour the information contained in it')\n",
    "\n",
    "__Description:__<br>\n",
    "We take the 2-layer MLP from previous video and make it deeper with a tree-like structure, arriving at a convolutional neural network architecture similar to the [WaveNet (2016) from DeepMind](https://arxiv.org/pdf/1609.03499). In the WaveNet paper, the same hierarchical architecture is implemented more efficiently using causal dilated convolutions (not yet covered). Along the way we get a better sense of torch.nn and what it is and how it works under the hood, and what a typical deep learning development process looks like (a lot of reading of documentation, keeping track of multidimensional tensor shapes, moving between jupyter notebooks and repository code, ...).\n"
   ]
  },
  {
   "cell_type": "code",
   "execution_count": 7,
   "id": "076965f3",
   "metadata": {},
   "outputs": [],
   "source": [
    "import torch \n",
    "import torch.nn as nn \n",
    "import matplotlib.pyplot as plt\n",
    "\n",
    "# to ensure changes in aux_files are reflected dynamically\n",
    "import importlib\n",
    "import aux_files\n",
    "importlib.reload(aux_files)\n",
    "from aux_files import Linear, BatchNorm1d, Tanh"
   ]
  },
  {
   "cell_type": "code",
   "execution_count": 8,
   "id": "6c1268a3",
   "metadata": {},
   "outputs": [],
   "source": [
    "words = open('names.txt').read().splitlines()"
   ]
  },
  {
   "cell_type": "code",
   "execution_count": 9,
   "id": "b618b43b",
   "metadata": {},
   "outputs": [],
   "source": [
    "allchars = sorted(set(''.join(words)))\n",
    "\n",
    "stoi = {s:i+1 for i,s in enumerate(allchars)}\n",
    "stoi['.'] = 0\n",
    "\n",
    "itos = {i:s for s,i in stoi.items()}\n",
    "\n",
    "vocab_size = len(itos)"
   ]
  },
  {
   "cell_type": "code",
   "execution_count": 10,
   "id": "01d47381",
   "metadata": {},
   "outputs": [
    {
     "name": "stdout",
     "output_type": "stream",
     "text": [
      "torch.Size([182625, 3]) torch.Size([182625])\n",
      "torch.Size([22655, 3]) torch.Size([22655])\n",
      "torch.Size([22866, 3]) torch.Size([22866])\n"
     ]
    }
   ],
   "source": [
    "# build the dataset\n",
    "block_size = 3 # context length: how many characters do we take to predict the next one?\n",
    "\n",
    "def build_dataset(words):  \n",
    "  X, Y = [], []\n",
    "  \n",
    "  for w in words:\n",
    "    context = [0] * block_size\n",
    "    for ch in w + '.':\n",
    "      ix = stoi[ch]\n",
    "      X.append(context)\n",
    "      Y.append(ix)\n",
    "      context = context[1:] + [ix] # crop and append\n",
    "\n",
    "  X = torch.tensor(X)\n",
    "  Y = torch.tensor(Y)\n",
    "  print(X.shape, Y.shape)\n",
    "  return X, Y\n",
    "\n",
    "import random\n",
    "random.seed(42)\n",
    "words_shuffled = words[:]  # shallow copy -- to preserve across runs\n",
    "random.shuffle(words_shuffled)\n",
    "n1 = int(0.8*len(words_shuffled))\n",
    "n2 = int(0.9*len(words_shuffled))\n",
    "\n",
    "Xtr,  Ytr  = build_dataset(words_shuffled[:n1])     # 80%\n",
    "Xdev, Ydev = build_dataset(words_shuffled[n1:n2])   # 10%\n",
    "Xte,  Yte  = build_dataset(words_shuffled[n2:])     # 10%"
   ]
  },
  {
   "cell_type": "code",
   "execution_count": 11,
   "id": "2196307b",
   "metadata": {},
   "outputs": [
    {
     "name": "stdout",
     "output_type": "stream",
     "text": [
      "... --> y\n",
      "..y --> u\n",
      ".yu --> h\n",
      "yuh --> e\n",
      "uhe --> n\n",
      "hen --> g\n",
      "eng --> .\n",
      "... --> d\n",
      "..d --> i\n",
      ".di --> o\n",
      "dio --> n\n",
      "ion --> d\n",
      "ond --> r\n",
      "ndr --> e\n",
      "dre --> .\n",
      "... --> x\n",
      "..x --> a\n",
      ".xa --> v\n",
      "xav --> i\n",
      "avi --> e\n"
     ]
    }
   ],
   "source": [
    "for x,y in zip(Xtr[:20], Ytr[:20]):\n",
    "  print(''.join(itos[ix.item()] for ix in x), '-->', itos[y.item()])"
   ]
  },
  {
   "cell_type": "code",
   "execution_count": 20,
   "id": "bcfdc8bb",
   "metadata": {},
   "outputs": [
    {
     "name": "stdout",
     "output_type": "stream",
     "text": [
      "12097\n"
     ]
    }
   ],
   "source": [
    "g = torch.Generator().manual_seed(3445676536)\n",
    "\n",
    "n_embd = 10 # the dimensionality of the character embedding vectors\n",
    "n_hidden = 200 # the number of neurons in the hidden layer of the MLP\n",
    "\n",
    "C = torch.randn((vocab_size, n_embd))\n",
    "\n",
    "layers = [\n",
    "    Linear(n_embd*block_size, n_hidden, bias=False), BatchNorm1d(n_hidden), Tanh(), \n",
    "    Linear(n_hidden, vocab_size, bias=True)\n",
    "]\n",
    "\n",
    "parameters = [C] + [p for layer in layers for p in layer.parameters()]\n",
    "print(sum(p.nelement() for p in parameters))\n",
    "for p in parameters:\n",
    "    p.requires_grad = True"
   ]
  },
  {
   "cell_type": "code",
   "execution_count": 21,
   "id": "2a0a0d4b",
   "metadata": {},
   "outputs": [
    {
     "name": "stdout",
     "output_type": "stream",
     "text": [
      "iter: 0/200000: loss = 3.350454807281494\n",
      "iter: 10000/200000: loss = 2.2377240657806396\n",
      "iter: 20000/200000: loss = 2.3222482204437256\n",
      "iter: 30000/200000: loss = 2.1089274883270264\n",
      "iter: 40000/200000: loss = 2.3734750747680664\n",
      "iter: 50000/200000: loss = 1.9449373483657837\n",
      "iter: 60000/200000: loss = 2.444355010986328\n",
      "iter: 70000/200000: loss = 1.7832374572753906\n",
      "iter: 80000/200000: loss = 2.430109739303589\n",
      "iter: 90000/200000: loss = 2.0311551094055176\n",
      "iter: 100000/200000: loss = 2.369619131088257\n",
      "iter: 110000/200000: loss = 2.157886505126953\n",
      "iter: 120000/200000: loss = 1.9858556985855103\n",
      "iter: 130000/200000: loss = 1.8881502151489258\n",
      "iter: 140000/200000: loss = 2.359052896499634\n",
      "iter: 150000/200000: loss = 1.8444346189498901\n",
      "iter: 160000/200000: loss = 2.050384998321533\n",
      "iter: 170000/200000: loss = 1.9287792444229126\n",
      "iter: 180000/200000: loss = 2.1787221431732178\n",
      "iter: 190000/200000: loss = 1.812082052230835\n"
     ]
    }
   ],
   "source": [
    "# Optimization loop - same as earlier\n",
    "\n",
    "max_iters = 200000\n",
    "batch_size = 32\n",
    "lossi = []\n",
    "\n",
    "for iter in range(max_iters):\n",
    "\n",
    "    # define batch\n",
    "    ix = torch.randint(0, Xtr.shape[0], (batch_size,))\n",
    "    Xb, Yb = Xtr[ix], Ytr[ix]\n",
    "\n",
    "    # inputs\n",
    "    emb = C[Xb]\n",
    "    x = emb.view(emb.shape[0], -1) # concat input\n",
    "\n",
    "    # forward pass\n",
    "    for layer in layers:\n",
    "        x = layer(x)\n",
    "    loss = nn.functional.cross_entropy(x, Yb)\n",
    "\n",
    "    # backward pass\n",
    "    for p in parameters:\n",
    "        p.grad = None # flush gradients\n",
    "    loss.backward()\n",
    "\n",
    "    # update - SGD\n",
    "    lr = 0.1 if iter < 100000 else 0.01\n",
    "    for p in parameters:\n",
    "        p.data += -lr*p.grad\n",
    "\n",
    "    #print\n",
    "    lossi.append(loss.item())\n",
    "    if iter % 10000 == 0:\n",
    "        print(f'iter: {iter}/{max_iters}: loss = {loss.item()}')\n",
    "    \n"
   ]
  },
  {
   "cell_type": "markdown",
   "id": "fc7b5b73",
   "metadata": {},
   "source": [
    "The `lossi` plot is too jagged; party because of the __small batch size__ - the randomness in batch gradient is too volatile. Lets fix this. "
   ]
  },
  {
   "cell_type": "code",
   "execution_count": 22,
   "id": "ebb0f962",
   "metadata": {},
   "outputs": [
    {
     "data": {
      "image/png": "[encoded data removed]",
      "text/plain": [
       "<Figure size 640x480 with 1 Axes>"
      ]
     },
     "metadata": {},
     "output_type": "display_data"
    }
   ],
   "source": [
    "# plot lossi \n",
    "plt.plot(lossi)\n",
    "plt.show()"
   ]
  },
  {
   "cell_type": "code",
   "execution_count": 23,
   "id": "7abd7e0d",
   "metadata": {},
   "outputs": [],
   "source": [
    "# to ensure batch norm parameters are not trainined on eval data!\n",
    "for layer in layers:\n",
    "    layer.training = False"
   ]
  },
  {
   "cell_type": "code",
   "execution_count": 25,
   "id": "bbb516b4",
   "metadata": {},
   "outputs": [
    {
     "name": "stdout",
     "output_type": "stream",
     "text": [
      "train 2.064779281616211\n",
      "val 2.110368013381958\n"
     ]
    }
   ],
   "source": [
    "@torch.no_grad()\n",
    "def split_loss(split):\n",
    "  x,y = {\n",
    "    'train': (Xtr, Ytr),\n",
    "    'val': (Xdev, Ydev),\n",
    "    'test': (Xte, Yte),\n",
    "  }[split]\n",
    "  emb = C[x] # (N, block_size, n_embd)\n",
    "  x = emb.view(emb.shape[0], -1) # concat into (N, block_size * n_embd)\n",
    "  for layer in layers:\n",
    "    x = layer(x)\n",
    "  loss = torch.nn.functional.cross_entropy(x, y)\n",
    "  print(split, loss.item())\n",
    "\n",
    "split_loss('train')\n",
    "split_loss('val')\n"
   ]
  },
  {
   "cell_type": "code",
   "execution_count": null,
   "id": "f3f55952",
   "metadata": {},
   "outputs": [],
   "source": [
    "# sample from the model\n",
    "g = torch.Generator().manual_seed(2147483647 + 10)\n",
    "\n",
    "for _ in range(20):\n",
    "    \n",
    "    out = []\n",
    "    context = [0] * block_size # initialize with all ...\n",
    "    while True:\n",
    "      # ------------\n",
    "      # forward pass:\n",
    "      # Embedding\n",
    "      emb = C[torch.tensor([context])] # (1,block_size,d)      \n",
    "      x = emb.view(emb.shape[0], -1) # concat into (N, block_size * n_embd)\n",
    "      for layer in layers:\n",
    "        x = layer(x)\n",
    "      # ------------\n",
    "      # Sample\n",
    "      probs = torch.nn.functional.softmax(x, dim=1)\n",
    "      ix = torch.multinomial(probs, num_samples=1, generator=g).item()\n",
    "      context = context[1:] + [ix]\n",
    "      out.append(ix)\n",
    "      if ix == 0:\n",
    "        break\n",
    "    \n",
    "    print(''.join(itos[i] for i in out))"
   ]
  }
 ],
 "metadata": {
  "kernelspec": {
   "display_name": "Python 3",
   "language": "python",
   "name": "python3"
  },
  "language_info": {
   "codemirror_mode": {
    "name": "ipython",
    "version": 3
   },
   "file_extension": ".py",
   "mimetype": "text/x-python",
   "name": "python",
   "nbconvert_exporter": "python",
   "pygments_lexer": "ipython3",
   "version": "3.12.4"
  }
 },
 "nbformat": 4,
 "nbformat_minor": 5
}
