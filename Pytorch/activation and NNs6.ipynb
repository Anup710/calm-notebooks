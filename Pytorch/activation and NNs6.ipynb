{
 "cells": [
  {
   "cell_type": "markdown",
   "id": "d7c71d03",
   "metadata": {},
   "source": [
    "### So how to define custom neural networks using pytorch? \n",
    "\n",
    "One can define a custom model using `nn.Module` and use `nn.Linear` layers with activations like `ReLU` or `Sigmoid`. So a custom NN is created as a class which is inherited from `nn.Module` within which we define layer wise architecture. \n",
    "\n",
    "__For ex:__ consider a dataset with 20 features and layers with [3,4,5,1] neurons, 1 being the output layer. So the code looks as such to define this NN:"
   ]
  },
  {
   "cell_type": "code",
   "execution_count": 1,
   "id": "172b52c4",
   "metadata": {},
   "outputs": [],
   "source": [
    "import torch\n",
    "import torch.nn as nn\n",
    "import torch.nn.functional as F\n"
   ]
  },
  {
   "cell_type": "code",
   "execution_count": 4,
   "id": "6d0ab82b",
   "metadata": {},
   "outputs": [],
   "source": [
    "class CustomNet(nn.Module):\n",
    "    def __init__(self):\n",
    "        super(CustomNet, self).__init__()\n",
    "        self.fc0 = nn.Linear(20, 3)  # 20 input features → 3 input neurons (layer 1)\n",
    "        self.fc1 = nn.Linear(3, 4)    # Layer 1 → Hidden layer 1\n",
    "        self.fc2 = nn.Linear(4, 5)    # Hidden layer 1 → Hidden layer 2\n",
    "        self.fc3 = nn.Linear(5, 1)    # Hidden layer 2 → Output layer\n",
    "\n",
    "    def forward(self, x):\n",
    "        x = F.relu(self.fc0(x))\n",
    "        x = F.relu(self.fc1(x))\n",
    "        x = F.relu(self.fc2(x))\n",
    "        x = torch.sigmoid(self.fc3(x))  # if binary classification\n",
    "        return x"
   ]
  },
  {
   "cell_type": "code",
   "execution_count": 8,
   "id": "7ba16153",
   "metadata": {},
   "outputs": [
    {
     "name": "stdout",
     "output_type": "stream",
     "text": [
      "tensor([[0.4395],\n",
      "        [0.4415],\n",
      "        [0.4262],\n",
      "        [0.4519],\n",
      "        [0.4522]], grad_fn=<SigmoidBackward0>)\n"
     ]
    }
   ],
   "source": [
    "model = CustomNet()\n",
    "sample_input = torch.randn(5, 20)  # batch_size=5, input_features=20\n",
    "output = model(sample_input)\n",
    "print(output)"
   ]
  },
  {
   "cell_type": "markdown",
   "id": "64b3805b",
   "metadata": {},
   "source": [
    "So this is the output of the final neuron (i.e. __after forward pass__ through the NN)"
   ]
  },
  {
   "cell_type": "markdown",
   "id": "34d3b808",
   "metadata": {},
   "source": [
    "## Activation functions\n",
    "\n",
    "Without activation functions, NN act as a multi step _linear_ regression, as was seen in CS229 notes. So we use `ReLU`, `Sigmoid`, `Tanh`, `LeakyReLU`, Step function, `softmax` as standard activation functions. \n",
    "\n",
    "General rule of thumb: \n",
    "<ul>\n",
    "    <li>If you dont know which fn to use, go for ReLU\n",
    "    <li> Use softmax in the last layer of a multi-class problem\n",
    "</ul>\n"
   ]
  },
  {
   "cell_type": "code",
   "execution_count": 9,
   "id": "8c9f38f4",
   "metadata": {},
   "outputs": [],
   "source": [
    "# lets build a NN with a single hidden layer: \n",
    "\n",
    "class NN1(nn.Module):\n",
    "    def __init__(self, batch_size, hidden_size):\n",
    "        super(NN1, self).__init__()\n",
    "        self.linear1 = nn.Linear(batch_size, hidden_size)\n",
    "        self.linear2 = nn.Linear(hidden_size, 1)\n",
    "    \n",
    "    def forward(self, x):\n",
    "        out1 = torch.relu(self.linear1(x))\n",
    "        out = torch.sigmoid(self.linear2(out1))\n",
    "        return out"
   ]
  },
  {
   "cell_type": "markdown",
   "id": "277f3bcf",
   "metadata": {},
   "source": [
    "you can `import torch.nn.functional as F` and call `F.leaky_relu()` which is not available in torch directly!"
   ]
  }
 ],
 "metadata": {
  "kernelspec": {
   "display_name": "Python 3",
   "language": "python",
   "name": "python3"
  },
  "language_info": {
   "codemirror_mode": {
    "name": "ipython",
    "version": 3
   },
   "file_extension": ".py",
   "mimetype": "text/x-python",
   "name": "python",
   "nbconvert_exporter": "python",
   "pygments_lexer": "ipython3",
   "version": "3.12.4"
  }
 },
 "nbformat": 4,
 "nbformat_minor": 5
}
