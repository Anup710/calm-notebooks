{
 "cells": [
  {
   "cell_type": "code",
   "execution_count": 1,
   "id": "3bba63c6",
   "metadata": {},
   "outputs": [],
   "source": [
    "import math\n",
    "import numpy\n",
    "import torch.nn as nn"
   ]
  },
  {
   "cell_type": "code",
   "execution_count": 19,
   "id": "6a12df9e",
   "metadata": {},
   "outputs": [
    {
     "name": "stdout",
     "output_type": "stream",
     "text": [
      "Zip(a,b,c): [(1, 'apple', 'RCB'), (2, 'ball', 'CSK'), (3, 'cat', 'MI')]\n",
      "('apple', 'RCB')\n",
      "('ball', 'CSK')\n",
      "('cat', 'MI')\n"
     ]
    }
   ],
   "source": [
    "a = [1,2,3,4]\n",
    "b = ['apple', 'ball', 'cat', 'dungeon', 'eucalyptus']\n",
    "c = ['RCB', 'CSK', 'MI']\n",
    "\n",
    "# zip object is natively stored as a collection of tuples and\n",
    "# constrained by list with least elements\n",
    "zipped_obj = list(zip(a,b,c))   \n",
    "print(f'Zip(a,b,c): {zipped_obj}')\n",
    "\n",
    "# indexing/slicing is possible\n",
    "for i in zipped_obj:\n",
    "    print(i[1:])"
   ]
  },
  {
   "cell_type": "code",
   "execution_count": 3,
   "id": "65b2df11",
   "metadata": {},
   "outputs": [
    {
     "name": "stdout",
     "output_type": "stream",
     "text": [
      "O l\n",
      "l i\n",
      "i v\n",
      "v i\n",
      "i a\n"
     ]
    }
   ],
   "source": [
    "names = ['Olivia', 'Clementine', 'Claire', 'Martha']\n",
    "\n",
    "for name in names[:1]:\n",
    "    for i,j in zip(name, name[1:]):\n",
    "            print(i,j)"
   ]
  },
  {
   "cell_type": "code",
   "execution_count": null,
   "id": "c25d86e7",
   "metadata": {},
   "outputs": [
    {
     "name": "stdout",
     "output_type": "stream",
     "text": [
      "ClaireClementineOliviaMartha\n",
      "Claire; Clementine; Olivia; Martha\n"
     ]
    }
   ],
   "source": [
    "# .join method can be called on any string - which then acts as a connector\n",
    "\n",
    "print(''.join(set(names)))\n",
    "\n",
    "print('; '.join(set(names)))"
   ]
  },
  {
   "cell_type": "code",
   "execution_count": null,
   "id": "7bc46bde",
   "metadata": {},
   "outputs": [
    {
     "name": "stdout",
     "output_type": "stream",
     "text": [
      "['C', 'M', 'O', 'a', 'e', 'h', 'i', 'l', 'm', 'n', 'r', 't', 'v']\n"
     ]
    }
   ],
   "source": [
    "# set: identifies the unique chars in the combined string\n",
    "\n",
    "s1 = set(''.join(set(names)))\n",
    "print(sorted(s1))"
   ]
  },
  {
   "cell_type": "code",
   "execution_count": 28,
   "id": "f7c21e88",
   "metadata": {},
   "outputs": [
    {
     "name": "stdout",
     "output_type": "stream",
     "text": [
      "[(0, 'M'), (1, 'e'), (2, 'n')]\n",
      "{0: 'M', 1: 'e', 2: 'n', 3: 'l', 4: 'O', 5: 'r', 6: 'C', 7: 'a', 8: 't', 9: 'h', 10: 'm', 11: 'v', 12: 'i'}\n"
     ]
    }
   ],
   "source": [
    "int_to_str = [(i,s) for i,s in enumerate(s1)]\n",
    "print(int_to_str[:3] )# as list\n",
    "\n",
    "# as dict is more useful\n",
    "int_to_str_asdict = {i:s for i,s in enumerate(s1)}\n",
    "print(int_to_str_asdict)\n"
   ]
  },
  {
   "cell_type": "code",
   "execution_count": null,
   "id": "020dc959",
   "metadata": {},
   "outputs": [
    {
     "name": "stdout",
     "output_type": "stream",
     "text": [
      "0 Olivia\n",
      "1 Clementine\n",
      "2 Claire\n",
      "3 Martha\n"
     ]
    }
   ],
   "source": [
    "# enumerate(any_list) create a second iterable along with the entries in any_list itself. \n",
    "for i,j in enumerate(names):\n",
    "    print(i,j)"
   ]
  },
  {
   "cell_type": "code",
   "execution_count": 20,
   "id": "b2835816",
   "metadata": {},
   "outputs": [
    {
     "name": "stdout",
     "output_type": "stream",
     "text": [
      "0 Severance\n",
      "1 The Boys\n",
      "2 Narcos\n",
      "3 Hangover\n",
      "-----------------\n",
      "0 liminal\n",
      "1 dystopian\n",
      "2 drugs\n",
      "3 nostalgia\n"
     ]
    }
   ],
   "source": [
    "dict = {'Severance':'liminal', 'The Boys': 'dystopian' , 'Narcos':'drugs', 'Hangover':'nostalgia' }\n",
    "\n",
    "# by default iterates over keys \n",
    "for i,j in enumerate(dict):\n",
    "    print(i,j)\n",
    "\n",
    "print('-----------------')\n",
    "\n",
    "# to iterate over values, state explicitly \n",
    "for i,j in enumerate(dict.values()):\n",
    "    print(i,j)"
   ]
  }
 ],
 "metadata": {
  "kernelspec": {
   "display_name": "Python 3",
   "language": "python",
   "name": "python3"
  },
  "language_info": {
   "codemirror_mode": {
    "name": "ipython",
    "version": 3
   },
   "file_extension": ".py",
   "mimetype": "text/x-python",
   "name": "python",
   "nbconvert_exporter": "python",
   "pygments_lexer": "ipython3",
   "version": "3.13.2"
  }
 },
 "nbformat": 4,
 "nbformat_minor": 5
}
