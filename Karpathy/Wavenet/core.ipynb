{
 "cells": [
  {
   "cell_type": "markdown",
   "id": "631ab47a",
   "metadata": {},
   "source": [
    "# Wavenet\n",
    "\n",
    "We will: <br>\n",
    "1. we will pytorchify our code, meaning _formailize_ it by creating multiple classes with __same API__ as `pytorch.nn` and use those classes. \n",
    "2. Make modifications in the starter code and move towards our goal of a more complex architecture and high context size. \n",
    "\n",
    "\n",
    "\n",
    "<img title=\"a title\" alt=\"Alt text\" src=\"images/dilated cnn.png\" width=60%>\n",
    "\n",
    "__Core idea:__ 'progressive fusion' -- we make the network deeper and at each layer only fuse 2 consecutive characters to find the next char. <br>\n",
    "i.e. 2 chars -> 2 bigrams -> 2 quadgrams and so on.. \n"
   ]
  },
  {
   "cell_type": "code",
   "execution_count": 33,
   "id": "076965f3",
   "metadata": {},
   "outputs": [],
   "source": [
    "import torch \n",
    "import torch.nn as nn \n",
    "import matplotlib.pyplot as plt\n",
    "\n",
    "# to ensure changes in aux_files are reflected dynamically\n",
    "import importlib\n",
    "import aux_files\n",
    "importlib.reload(aux_files)\n",
    "from aux_files import Linear, BatchNorm1d, Tanh, Embedding, Flatten, Sequential"
   ]
  },
  {
   "cell_type": "code",
   "execution_count": 24,
   "id": "6c1268a3",
   "metadata": {},
   "outputs": [],
   "source": [
    "words = open('names.txt').read().splitlines()"
   ]
  },
  {
   "cell_type": "code",
   "execution_count": 25,
   "id": "b618b43b",
   "metadata": {},
   "outputs": [],
   "source": [
    "allchars = sorted(set(''.join(words)))\n",
    "\n",
    "stoi = {s:i+1 for i,s in enumerate(allchars)}\n",
    "stoi['.'] = 0\n",
    "\n",
    "itos = {i:s for s,i in stoi.items()}\n",
    "\n",
    "vocab_size = len(itos)"
   ]
  },
  {
   "cell_type": "markdown",
   "id": "4c7a9a1b",
   "metadata": {},
   "source": [
    "Increase context length to 8, as we deepen the network. "
   ]
  },
  {
   "cell_type": "code",
   "execution_count": 55,
   "id": "01d47381",
   "metadata": {},
   "outputs": [
    {
     "name": "stdout",
     "output_type": "stream",
     "text": [
      "torch.Size([182625, 8]) torch.Size([182625])\n",
      "torch.Size([22655, 8]) torch.Size([22655])\n",
      "torch.Size([22866, 8]) torch.Size([22866])\n"
     ]
    }
   ],
   "source": [
    "# build the dataset\n",
    "block_size = 8 # context length: how many characters do we take to predict the next one?\n",
    "\n",
    "def build_dataset(words):  \n",
    "  X, Y = [], []\n",
    "  \n",
    "  for w in words:\n",
    "    context = [0] * block_size\n",
    "    for ch in w + '.':\n",
    "      ix = stoi[ch]\n",
    "      X.append(context)\n",
    "      Y.append(ix)\n",
    "      context = context[1:] + [ix] # crop and append\n",
    "\n",
    "  X = torch.tensor(X)\n",
    "  Y = torch.tensor(Y)\n",
    "  print(X.shape, Y.shape)\n",
    "  return X, Y\n",
    "\n",
    "import random\n",
    "random.seed(42)\n",
    "words_shuffled = words[:]  # shallow copy -- to preserve across runs\n",
    "random.shuffle(words_shuffled)\n",
    "n1 = int(0.8*len(words_shuffled))\n",
    "n2 = int(0.9*len(words_shuffled))\n",
    "\n",
    "Xtr,  Ytr  = build_dataset(words_shuffled[:n1])     # 80%\n",
    "Xdev, Ydev = build_dataset(words_shuffled[n1:n2])   # 10%\n",
    "Xte,  Yte  = build_dataset(words_shuffled[n2:])     # 10%"
   ]
  },
  {
   "cell_type": "code",
   "execution_count": 56,
   "id": "2196307b",
   "metadata": {},
   "outputs": [
    {
     "name": "stdout",
     "output_type": "stream",
     "text": [
      "........ --> y\n",
      ".......y --> u\n",
      "......yu --> h\n",
      ".....yuh --> e\n",
      "....yuhe --> n\n",
      "...yuhen --> g\n",
      "..yuheng --> .\n",
      "........ --> d\n",
      ".......d --> i\n",
      "......di --> o\n",
      ".....dio --> n\n",
      "....dion --> d\n",
      "...diond --> r\n",
      "..diondr --> e\n",
      ".diondre --> .\n",
      "........ --> x\n",
      ".......x --> a\n",
      "......xa --> v\n",
      ".....xav --> i\n",
      "....xavi --> e\n"
     ]
    }
   ],
   "source": [
    "for x,y in zip(Xtr[:20], Ytr[:20]):\n",
    "  print(''.join(itos[ix.item()] for ix in x), '-->', itos[y.item()])"
   ]
  },
  {
   "cell_type": "markdown",
   "id": "09e50508",
   "metadata": {},
   "source": [
    "The layers can be wrapped in a 'container', instead of a list. An equivalant of this is the [torch.nn.Sequential()](https://docs.pytorch.org/docs/stable/generated/torch.nn.Sequential.html) class. "
   ]
  },
  {
   "cell_type": "code",
   "execution_count": 57,
   "id": "bcfdc8bb",
   "metadata": {},
   "outputs": [
    {
     "name": "stdout",
     "output_type": "stream",
     "text": [
      "22097\n"
     ]
    }
   ],
   "source": [
    "g = torch.Generator().manual_seed(3445676536)\n",
    "\n",
    "n_embd = 10 # the dimensionality of the character embedding vectors\n",
    "n_hidden = 200 # the number of neurons in the hidden layer of the MLP\n",
    "batch_size = 32\n",
    "\n",
    "C = torch.randn((vocab_size, n_embd))\n",
    "\n",
    "model = Sequential([\n",
    "    Embedding(vocab_size, n_embd), Flatten(),\n",
    "    Linear(n_embd*block_size, n_hidden, bias=False), BatchNorm1d(n_hidden), Tanh(), \n",
    "    Linear(n_hidden, vocab_size, bias=True)\n",
    "])\n",
    "\n",
    "parameters = model.parameters()\n",
    "print(sum(p.nelement() for p in parameters))\n",
    "for p in parameters:\n",
    "    p.requires_grad = True"
   ]
  },
  {
   "cell_type": "markdown",
   "id": "acd260cb",
   "metadata": {},
   "source": [
    "Defining `Embedding`, `Flatten` and `Sequential` classes eliminates the needs for explicit forward pass operation as such: \n",
    "\n",
    "```\n",
    "emb = C[Xb]\n",
    "x = emb.view(emb.shape[0], -1)\n",
    "```"
   ]
  },
  {
   "cell_type": "code",
   "execution_count": 58,
   "id": "2a0a0d4b",
   "metadata": {},
   "outputs": [
    {
     "name": "stdout",
     "output_type": "stream",
     "text": [
      "iter: 0/200000: loss = 3.3512282371520996\n",
      "iter: 10000/200000: loss = 1.924323558807373\n",
      "iter: 20000/200000: loss = 1.811569333076477\n",
      "iter: 30000/200000: loss = 2.3411850929260254\n",
      "iter: 40000/200000: loss = 2.214951276779175\n",
      "iter: 50000/200000: loss = 2.1932904720306396\n",
      "iter: 60000/200000: loss = 2.4714550971984863\n",
      "iter: 70000/200000: loss = 2.283942461013794\n",
      "iter: 80000/200000: loss = 2.362306594848633\n",
      "iter: 90000/200000: loss = 1.989919662475586\n",
      "iter: 100000/200000: loss = 1.6614701747894287\n",
      "iter: 110000/200000: loss = 2.0225279331207275\n",
      "iter: 120000/200000: loss = 2.0805504322052\n",
      "iter: 130000/200000: loss = 1.9134904146194458\n",
      "iter: 140000/200000: loss = 2.4197797775268555\n",
      "iter: 150000/200000: loss = 1.7430682182312012\n",
      "iter: 160000/200000: loss = 2.5064070224761963\n",
      "iter: 170000/200000: loss = 2.079756498336792\n",
      "iter: 180000/200000: loss = 2.4682724475860596\n",
      "iter: 190000/200000: loss = 2.102435350418091\n"
     ]
    }
   ],
   "source": [
    "# Optimization loop - same as earlier\n",
    "\n",
    "max_iters = 200000\n",
    "lossi = []\n",
    "\n",
    "for iter in range(max_iters):\n",
    "\n",
    "    # define batch\n",
    "    ix = torch.randint(0, Xtr.shape[0], (batch_size,))\n",
    "    Xb, Yb = Xtr[ix], Ytr[ix]\n",
    "\n",
    "    # forward pass\n",
    "    logits = model(Xb)\n",
    "    loss = nn.functional.cross_entropy(logits, Yb)\n",
    "\n",
    "    # backward pass\n",
    "    for p in parameters:\n",
    "        p.grad = None # flush gradients\n",
    "    loss.backward()\n",
    "\n",
    "    # update - SGD\n",
    "    lr = 0.1 if iter < 100000 else 0.01\n",
    "    for p in parameters:\n",
    "        p.data += -lr*p.grad\n",
    "\n",
    "    #print\n",
    "    lossi.append(loss.item())\n",
    "    if iter % 10000 == 0:\n",
    "        print(f'iter: {iter}/{max_iters}: loss = {loss.item()}')\n",
    "    \n",
    "    # if iter == 10001:\n",
    "    #     break\n"
   ]
  },
  {
   "cell_type": "markdown",
   "id": "fc7b5b73",
   "metadata": {},
   "source": [
    "The `lossi` plot is too jagged; party because of the __small batch size__ - the randomness in batch gradient is too volatile. Lets fix this by only plotting the average loss across 200 batches of 1000 iterations each. "
   ]
  },
  {
   "cell_type": "code",
   "execution_count": 59,
   "id": "185fe44c",
   "metadata": {},
   "outputs": [
    {
     "data": {
      "image/png": "[encoded data removed]",
      "text/plain": [
       "<Figure size 400x400 with 1 Axes>"
      ]
     },
     "metadata": {},
     "output_type": "display_data"
    }
   ],
   "source": [
    "lossi = torch.tensor(lossi)\n",
    "lossi = lossi.view(-1,1000) # 200,1000\n",
    "\n",
    "plt.figure(figsize=(4,4))\n",
    "plt.plot(lossi.mean(dim = 1)) # 200 points only across all iterations\n",
    "plt.ylabel('Log loss')\n",
    "plt.xlabel('iterations / 1000')\n",
    "plt.show()"
   ]
  },
  {
   "cell_type": "markdown",
   "id": "116264c0",
   "metadata": {},
   "source": [
    "The steep drop at 100000 is a result of the decay in learning rate which helps a finer local search for minimizing loss. \n",
    "\n",
    "\n",
    "## On setting training = False while sampling:\n",
    "\n",
    "One very clear result of not setting the __training mode off__, is that while sampling names each example will be considered as a 'batch' by BatchNorm1d class and calculate the variance (=`NaN`) on that batch (made of single example). In refined language:\n",
    "\n",
    "\"\n",
    "..so every BatchNorm* layer is trying to compute its _mean/variance from a single (length-1) “batch”_ at generation time — variance goes to 0, the division blows up, and the NaNs propagate all the way to softmax\n",
    "\""
   ]
  },
  {
   "cell_type": "code",
   "execution_count": 60,
   "id": "7abd7e0d",
   "metadata": {},
   "outputs": [],
   "source": [
    "# to ensure batch norm parameters are not trainined on eval data!\n",
    "for layer in model.layers:\n",
    "    layer.training = False"
   ]
  },
  {
   "cell_type": "code",
   "execution_count": 61,
   "id": "bbb516b4",
   "metadata": {},
   "outputs": [
    {
     "name": "stdout",
     "output_type": "stream",
     "text": [
      "train 1.9279884099960327\n",
      "val 2.0243895053863525\n"
     ]
    }
   ],
   "source": [
    "@torch.no_grad()\n",
    "def split_loss(split):\n",
    "  x,y = {\n",
    "    'train': (Xtr, Ytr),\n",
    "    'val': (Xdev, Ydev),\n",
    "    'test': (Xte, Yte),\n",
    "  }[split]\n",
    "  logits = model(x)\n",
    "  loss = torch.nn.functional.cross_entropy(logits, y)\n",
    "  print(split, loss.item())\n",
    "\n",
    "split_loss('train')\n",
    "split_loss('val')\n"
   ]
  },
  {
   "cell_type": "markdown",
   "id": "c4c6cabc",
   "metadata": {},
   "source": [
    "### Performance log: \n",
    "\n",
    "- original (3 char context + 1 hidden layer - 200 neurons; 12k parameters): train 2.06, val: 2.10\n",
    "- context: 3 -> 8 (22k params): train: 1.92, val: 2.02"
   ]
  },
  {
   "cell_type": "code",
   "execution_count": 62,
   "id": "68417fd5",
   "metadata": {},
   "outputs": [
    {
     "name": "stdout",
     "output_type": "stream",
     "text": [
      "jesab.\n",
      "cort.\n",
      "arisa.\n",
      "rahima.\n",
      "shamari.\n",
      "niyah.\n",
      "julina.\n",
      "ifiyan.\n",
      "cymile.\n",
      "jarini.\n",
      "kaeli.\n",
      "desleigh.\n",
      "granike.\n",
      "emalee.\n",
      "lamion.\n",
      "mohe.\n",
      "graylen.\n",
      "evannah.\n",
      "lesie.\n",
      "mazayio.\n"
     ]
    }
   ],
   "source": [
    "# sample from the model\n",
    "for _ in range(20):\n",
    "    \n",
    "    out = []\n",
    "    context = [0] * block_size # initialize with all ...\n",
    "    while True:\n",
    "      # forward pass the neural net\n",
    "      logits = model(torch.tensor([context]))\n",
    "      probs = torch.nn.functional.softmax(logits, dim=1)\n",
    "      # sample from the distribution\n",
    "      ix = torch.multinomial(probs, num_samples=1).item()\n",
    "      # shift the context window and track the samples\n",
    "      context = context[1:] + [ix]\n",
    "      out.append(ix)\n",
    "      # if we sample the special '.' token, break\n",
    "      if ix == 0:\n",
    "        break\n",
    "    \n",
    "    print(''.join(itos[i] for i in out)) # decode and print the generated word"
   ]
  }
 ],
 "metadata": {
  "kernelspec": {
   "display_name": "Python 3",
   "language": "python",
   "name": "python3"
  },
  "language_info": {
   "codemirror_mode": {
    "name": "ipython",
    "version": 3
   },
   "file_extension": ".py",
   "mimetype": "text/x-python",
   "name": "python",
   "nbconvert_exporter": "python",
   "pygments_lexer": "ipython3",
   "version": "3.12.4"
  }
 },
 "nbformat": 4,
 "nbformat_minor": 5
}
